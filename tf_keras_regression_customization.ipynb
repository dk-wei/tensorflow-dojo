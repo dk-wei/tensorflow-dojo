{
  "nbformat": 4,
  "nbformat_minor": 0,
  "metadata": {
    "kernelspec": {
      "display_name": "Python 3",
      "language": "python",
      "name": "python3"
    },
    "language_info": {
      "codemirror_mode": {
        "name": "ipython",
        "version": 3
      },
      "file_extension": ".py",
      "mimetype": "text/x-python",
      "name": "python",
      "nbconvert_exporter": "python",
      "pygments_lexer": "ipython3",
      "version": "3.6.9"
    },
    "colab": {
      "name": "tf_keras_regression_customization.ipynb",
      "provenance": [],
      "collapsed_sections": [],
      "toc_visible": true,
      "include_colab_link": true
    }
  },
  "cells": [
    {
      "cell_type": "markdown",
      "metadata": {
        "id": "view-in-github",
        "colab_type": "text"
      },
      "source": [
        "<a href=\"https://colab.research.google.com/github/dk-wei/tensorflow-dojo/blob/main/tf_keras_regression_customization.ipynb\" target=\"_parent\"><img src=\"https://colab.research.google.com/assets/colab-badge.svg\" alt=\"Open In Colab\"/></a>"
      ]
    },
    {
      "cell_type": "markdown",
      "metadata": {
        "id": "TAzlbXADtuEj"
      },
      "source": [
        "本篇主要讲解customization部分，详见目录。\n",
        "\n",
        "附：手动求导`tf.GradientTape`部分请参见[Tensorflow_2_0+_Tutorial_手动求导](https://github.com/dk-wei/tensorflow-dojo/blob/main/Tensorflow_2_0%2B_Tutorial_%E6%89%8B%E5%8A%A8%E6%B1%82%E5%AF%BC.ipynb)"
      ]
    },
    {
      "cell_type": "code",
      "metadata": {
        "id": "l_BWAwpAD76G"
      },
      "source": [
        "# !pip config set global.index-url https://mirrors.aliyun.com/pypi/simple/\n",
        "# !python -m pip install -U pip\n",
        "# !pip -V\n",
        "# !pip install sklearn pandas"
      ],
      "execution_count": null,
      "outputs": []
    },
    {
      "cell_type": "code",
      "metadata": {
        "id": "wLurYMiWD76J"
      },
      "source": [
        "import matplotlib as mpl\n",
        "import matplotlib.pyplot as plt\n",
        "%matplotlib inline\n",
        "import numpy as np\n",
        "import sklearn\n",
        "import pandas as pd\n",
        "import os\n",
        "import sys\n",
        "import time\n",
        "import tensorflow as tf\n",
        "\n",
        "from tensorflow import keras"
      ],
      "execution_count": null,
      "outputs": []
    },
    {
      "cell_type": "code",
      "metadata": {
        "colab": {
          "base_uri": "https://localhost:8080/"
        },
        "id": "-kX4fSkQD76J",
        "outputId": "aa8f6cd4-c9f3-4cfa-dd7f-62123da19109"
      },
      "source": [
        "print(tf.__version__)\n",
        "print(sys.version_info)\n",
        "for module in mpl, np, pd, sklearn, tf, keras:\n",
        "    print(module.__name__, module.__version__)"
      ],
      "execution_count": null,
      "outputs": [
        {
          "output_type": "stream",
          "text": [
            "2.5.0\n",
            "sys.version_info(major=3, minor=7, micro=11, releaselevel='final', serial=0)\n",
            "matplotlib 3.2.2\n",
            "numpy 1.19.5\n",
            "pandas 1.1.5\n",
            "sklearn 0.22.2.post1\n",
            "tensorflow 2.5.0\n",
            "tensorflow.keras 2.5.0\n"
          ],
          "name": "stdout"
        }
      ]
    },
    {
      "cell_type": "code",
      "metadata": {
        "colab": {
          "base_uri": "https://localhost:8080/"
        },
        "id": "0i7t0-MJD76K",
        "outputId": "ebc04051-691e-4a7b-803a-068d95da6e22"
      },
      "source": [
        "from sklearn.datasets import fetch_california_housing\n",
        "\n",
        "housing = fetch_california_housing()\n",
        "print(housing.DESCR)\n",
        "print(housing.data.shape)\n",
        "print(housing.target.shape)"
      ],
      "execution_count": null,
      "outputs": [
        {
          "output_type": "stream",
          "text": [
            ".. _california_housing_dataset:\n",
            "\n",
            "California Housing dataset\n",
            "--------------------------\n",
            "\n",
            "**Data Set Characteristics:**\n",
            "\n",
            "    :Number of Instances: 20640\n",
            "\n",
            "    :Number of Attributes: 8 numeric, predictive attributes and the target\n",
            "\n",
            "    :Attribute Information:\n",
            "        - MedInc        median income in block\n",
            "        - HouseAge      median house age in block\n",
            "        - AveRooms      average number of rooms\n",
            "        - AveBedrms     average number of bedrooms\n",
            "        - Population    block population\n",
            "        - AveOccup      average house occupancy\n",
            "        - Latitude      house block latitude\n",
            "        - Longitude     house block longitude\n",
            "\n",
            "    :Missing Attribute Values: None\n",
            "\n",
            "This dataset was obtained from the StatLib repository.\n",
            "http://lib.stat.cmu.edu/datasets/\n",
            "\n",
            "The target variable is the median house value for California districts.\n",
            "\n",
            "This dataset was derived from the 1990 U.S. census, using one row per census\n",
            "block group. A block group is the smallest geographical unit for which the U.S.\n",
            "Census Bureau publishes sample data (a block group typically has a population\n",
            "of 600 to 3,000 people).\n",
            "\n",
            "It can be downloaded/loaded using the\n",
            ":func:`sklearn.datasets.fetch_california_housing` function.\n",
            "\n",
            ".. topic:: References\n",
            "\n",
            "    - Pace, R. Kelley and Ronald Barry, Sparse Spatial Autoregressions,\n",
            "      Statistics and Probability Letters, 33 (1997) 291-297\n",
            "\n",
            "(20640, 8)\n",
            "(20640,)\n"
          ],
          "name": "stdout"
        }
      ]
    },
    {
      "cell_type": "code",
      "metadata": {
        "colab": {
          "base_uri": "https://localhost:8080/"
        },
        "id": "p5_dIF_VD76K",
        "outputId": "ae23fc00-0dcb-4f08-d5b4-cd7b5839aa7a"
      },
      "source": [
        "from sklearn.model_selection import train_test_split\n",
        "\n",
        "x_train_all, x_test, y_train_all, y_test = train_test_split(\n",
        "    housing.data, housing.target, random_state = 7)\n",
        "x_train, x_valid, y_train, y_valid = train_test_split(\n",
        "    x_train_all, y_train_all, random_state = 11)\n",
        "\n",
        "print(x_train.shape, y_train.shape)\n",
        "print(x_valid.shape, y_valid.shape)\n",
        "print(x_test.shape, y_test.shape)"
      ],
      "execution_count": null,
      "outputs": [
        {
          "output_type": "stream",
          "text": [
            "(11610, 8) (11610,)\n",
            "(3870, 8) (3870,)\n",
            "(5160, 8) (5160,)\n"
          ],
          "name": "stdout"
        }
      ]
    },
    {
      "cell_type": "code",
      "metadata": {
        "id": "uQMTPIg2D76K"
      },
      "source": [
        "from sklearn.preprocessing import StandardScaler\n",
        "\n",
        "scaler = StandardScaler()\n",
        "x_train_scaled = scaler.fit_transform(x_train)\n",
        "x_valid_scaled = scaler.transform(x_valid)\n",
        "x_test_scaled = scaler.transform(x_test)"
      ],
      "execution_count": null,
      "outputs": []
    },
    {
      "cell_type": "markdown",
      "metadata": {
        "id": "dYXfeaPtIDuJ"
      },
      "source": [
        "#### 自定义DenseLayer样例"
      ]
    },
    {
      "cell_type": "code",
      "metadata": {
        "id": "dzLWjqjwIEMF"
      },
      "source": [
        "layer = tf.keras.layers.Dense(100, input_shape=(None, 5))   # 一般在第一层接输入的layer，需要指定input shape\n",
        "layer = tf.keras.layers.Dense(100)\n",
        "#layer(tf.zeros([10, 5]))"
      ],
      "execution_count": null,
      "outputs": []
    },
    {
      "cell_type": "code",
      "metadata": {
        "colab": {
          "base_uri": "https://localhost:8080/"
        },
        "id": "8jLLom3mIimt",
        "outputId": "2a6681b8-717d-46fe-c52e-9c9bce03334b"
      },
      "source": [
        "layer.variables\n",
        "# x * w + b\n",
        "#layer.trainable_variables"
      ],
      "execution_count": null,
      "outputs": [
        {
          "output_type": "execute_result",
          "data": {
            "text/plain": [
              "[]"
            ]
          },
          "metadata": {
            "tags": []
          },
          "execution_count": 8
        }
      ]
    },
    {
      "cell_type": "code",
      "metadata": {
        "id": "0ZqPVfUAIikY"
      },
      "source": [
        ""
      ],
      "execution_count": null,
      "outputs": []
    },
    {
      "cell_type": "code",
      "metadata": {
        "id": "K8L1nfHIIihz"
      },
      "source": [
        ""
      ],
      "execution_count": null,
      "outputs": []
    },
    {
      "cell_type": "markdown",
      "metadata": {
        "id": "0-jguSpUFpHZ"
      },
      "source": [
        "#### 自定义损失函数"
      ]
    },
    {
      "cell_type": "code",
      "metadata": {
        "id": "73f9uLiBQ3el"
      },
      "source": [
        "# 自定义损失函数\n",
        "def customized_mse(y_true, y_pred):\n",
        "    return tf.reduce_mean(tf.square(y_pred - y_true))"
      ],
      "execution_count": null,
      "outputs": []
    },
    {
      "cell_type": "markdown",
      "metadata": {
        "id": "VE5qeHy8UTgU"
      },
      "source": [
        "#### 自定义DenseLayer (Lambda方式)"
      ]
    },
    {
      "cell_type": "code",
      "metadata": {
        "colab": {
          "base_uri": "https://localhost:8080/"
        },
        "id": "Ua0K92bbUTQx",
        "outputId": "78d6bee1-e9a7-49f8-8d47-b2dd94c30f86"
      },
      "source": [
        "# tf.nn.softplus: log(1+e^x)\n",
        "customized_softplus = keras.layers.Lambda(lambda x : tf.nn.softplus(x))\n",
        "print(customized_softplus([-10., -5., 0., 5., 10.]))"
      ],
      "execution_count": null,
      "outputs": [
        {
          "output_type": "stream",
          "text": [
            "tf.Tensor([4.5398901e-05 6.7153485e-03 6.9314718e-01 5.0067153e+00 1.0000046e+01], shape=(5,), dtype=float32)\n"
          ],
          "name": "stdout"
        }
      ]
    },
    {
      "cell_type": "markdown",
      "metadata": {
        "id": "9xYkOa9nQ3O-"
      },
      "source": [
        "#### 自定义DenseLayer (子类方式)"
      ]
    },
    {
      "cell_type": "code",
      "metadata": {
        "id": "7-JA1mUOD76L"
      },
      "source": [
        "# customized dense layer.\n",
        "class CustomizedDenseLayer(keras.layers.Layer):\n",
        "    def __init__(self, units, activation=None, **kwargs):\n",
        "        self.units = units\n",
        "        self.activation = keras.layers.Activation(activation)\n",
        "        super().__init__(**kwargs)\n",
        "    \n",
        "    def build(self, input_shape):\n",
        "        '''构建所需要的参数'''\n",
        "        # x * w + b. input_shape:[None, a] w:[a, b] output_shape: [None, b]\n",
        "        self.kernel = self.add_weight(name = 'kernel', \n",
        "                                      shape=(input_shape[1], self.units),\n",
        "                                     initializer = 'uniform',   # 初始化weights\n",
        "                                     trainable = True)\n",
        "        \n",
        "        self.bias = self.add_weight(name = 'bias',\n",
        "                                   shape = (self.units, ),\n",
        "                                   initializer = 'zeros',      # 初始化bias\n",
        "                                   trainable = True)\n",
        "        super().build(input_shape)\n",
        "    \n",
        "    def call(self, x):\n",
        "        '''完成正向计算'''\n",
        "        return self.activation(x @ self.kernel + self.bias)"
      ],
      "execution_count": null,
      "outputs": []
    },
    {
      "cell_type": "code",
      "metadata": {
        "colab": {
          "base_uri": "https://localhost:8080/"
        },
        "id": "u_GZUuInQ072",
        "outputId": "05c329c1-0753-44aa-8907-0c0df0e15acc"
      },
      "source": [
        "model = keras.models.Sequential([\n",
        "    CustomizedDenseLayer(30, activation='relu',\n",
        "                      input_shape=x_train.shape[1:]),\n",
        "    CustomizedDenseLayer(1),   # 加入customized layer\n",
        "    customized_softplus,   # 加入softplus layer\n",
        "\n",
        "    # softplus层也可以用下列写法\n",
        "    # keras.layers.Dense(1, activation='softplus')\n",
        "    # keras.layers.Dense(1), keras.layers.Activation('softplus')\n",
        "])\n",
        "model.summary()\n",
        "model.compile(loss=customized_mse, optimizer='sgd',\n",
        "             metrics=['mean_squared_error']  # 以mean squared error为metrics，和自定义损失函数比较\n",
        "              )\n",
        "\n",
        "callbacks = [\n",
        "    keras.callbacks.EarlyStopping(patience=5, min_delta=1e-2)\n",
        "]"
      ],
      "execution_count": null,
      "outputs": [
        {
          "output_type": "stream",
          "text": [
            "Model: \"sequential\"\n",
            "_________________________________________________________________\n",
            "Layer (type)                 Output Shape              Param #   \n",
            "=================================================================\n",
            "customized_dense_layer (Cust (None, 30)                270       \n",
            "_________________________________________________________________\n",
            "customized_dense_layer_1 (Cu (None, 1)                 31        \n",
            "_________________________________________________________________\n",
            "lambda (Lambda)              (None, 1)                 0         \n",
            "=================================================================\n",
            "Total params: 301\n",
            "Trainable params: 301\n",
            "Non-trainable params: 0\n",
            "_________________________________________________________________\n"
          ],
          "name": "stdout"
        }
      ]
    },
    {
      "cell_type": "code",
      "metadata": {
        "colab": {
          "base_uri": "https://localhost:8080/"
        },
        "id": "lj7d7eKiD76L",
        "outputId": "a1d63b30-a3f5-4c4f-e365-5414405e1bc5"
      },
      "source": [
        "history = model.fit(x_train_scaled, y_train,\n",
        "                   validation_data=(x_valid_scaled, y_valid),\n",
        "                   epochs=100,\n",
        "                   callbacks=callbacks)"
      ],
      "execution_count": null,
      "outputs": [
        {
          "output_type": "stream",
          "text": [
            "Epoch 1/100\n",
            "363/363 [==============================] - 1s 2ms/step - loss: 1.1991 - mean_squared_error: 1.1991 - val_loss: 0.6792 - val_mean_squared_error: 0.6792\n",
            "Epoch 2/100\n",
            "363/363 [==============================] - 0s 1ms/step - loss: 0.5904 - mean_squared_error: 0.5904 - val_loss: 0.5839 - val_mean_squared_error: 0.5839\n",
            "Epoch 3/100\n",
            "363/363 [==============================] - 1s 2ms/step - loss: 0.5159 - mean_squared_error: 0.5159 - val_loss: 0.5171 - val_mean_squared_error: 0.5171\n",
            "Epoch 4/100\n",
            "363/363 [==============================] - 1s 1ms/step - loss: 0.4736 - mean_squared_error: 0.4736 - val_loss: 0.4863 - val_mean_squared_error: 0.4863\n",
            "Epoch 5/100\n",
            "363/363 [==============================] - 1s 1ms/step - loss: 0.4552 - mean_squared_error: 0.4552 - val_loss: 0.4673 - val_mean_squared_error: 0.4673\n",
            "Epoch 6/100\n",
            "363/363 [==============================] - 0s 1ms/step - loss: 0.4544 - mean_squared_error: 0.4544 - val_loss: 0.4934 - val_mean_squared_error: 0.4934\n",
            "Epoch 7/100\n",
            "363/363 [==============================] - 0s 1ms/step - loss: 0.4414 - mean_squared_error: 0.4414 - val_loss: 0.4451 - val_mean_squared_error: 0.4451\n",
            "Epoch 8/100\n",
            "363/363 [==============================] - 0s 1ms/step - loss: 0.4300 - mean_squared_error: 0.4300 - val_loss: 0.4468 - val_mean_squared_error: 0.4468\n",
            "Epoch 9/100\n",
            "363/363 [==============================] - 1s 1ms/step - loss: 0.4197 - mean_squared_error: 0.4197 - val_loss: 0.4464 - val_mean_squared_error: 0.4464\n",
            "Epoch 10/100\n",
            "363/363 [==============================] - 1s 1ms/step - loss: 0.4372 - mean_squared_error: 0.4372 - val_loss: 0.4647 - val_mean_squared_error: 0.4647\n",
            "Epoch 11/100\n",
            "363/363 [==============================] - 1s 1ms/step - loss: 0.4196 - mean_squared_error: 0.4196 - val_loss: 0.4523 - val_mean_squared_error: 0.4523\n",
            "Epoch 12/100\n",
            "363/363 [==============================] - 1s 1ms/step - loss: 0.4071 - mean_squared_error: 0.4071 - val_loss: 0.4211 - val_mean_squared_error: 0.4211\n",
            "Epoch 13/100\n",
            "363/363 [==============================] - 0s 1ms/step - loss: 0.3987 - mean_squared_error: 0.3987 - val_loss: 0.4075 - val_mean_squared_error: 0.4075\n",
            "Epoch 14/100\n",
            "363/363 [==============================] - 1s 1ms/step - loss: 0.4039 - mean_squared_error: 0.4039 - val_loss: 0.4223 - val_mean_squared_error: 0.4223\n",
            "Epoch 15/100\n",
            "363/363 [==============================] - 1s 1ms/step - loss: 0.3911 - mean_squared_error: 0.3911 - val_loss: 0.4107 - val_mean_squared_error: 0.4107\n",
            "Epoch 16/100\n",
            "363/363 [==============================] - 1s 1ms/step - loss: 0.3864 - mean_squared_error: 0.3864 - val_loss: 0.4026 - val_mean_squared_error: 0.4026\n",
            "Epoch 17/100\n",
            "363/363 [==============================] - 0s 1ms/step - loss: 0.3825 - mean_squared_error: 0.3825 - val_loss: 0.3943 - val_mean_squared_error: 0.3943\n",
            "Epoch 18/100\n",
            "363/363 [==============================] - 1s 1ms/step - loss: 0.4114 - mean_squared_error: 0.4114 - val_loss: 0.4204 - val_mean_squared_error: 0.4204\n",
            "Epoch 19/100\n",
            "363/363 [==============================] - 1s 2ms/step - loss: 0.3862 - mean_squared_error: 0.3862 - val_loss: 0.4108 - val_mean_squared_error: 0.4108\n",
            "Epoch 20/100\n",
            "363/363 [==============================] - 1s 1ms/step - loss: 0.3789 - mean_squared_error: 0.3789 - val_loss: 0.3888 - val_mean_squared_error: 0.3888\n",
            "Epoch 21/100\n",
            "363/363 [==============================] - 1s 1ms/step - loss: 0.3763 - mean_squared_error: 0.3763 - val_loss: 0.3868 - val_mean_squared_error: 0.3868\n",
            "Epoch 22/100\n",
            "363/363 [==============================] - 0s 1ms/step - loss: 0.3736 - mean_squared_error: 0.3736 - val_loss: 0.3870 - val_mean_squared_error: 0.3870\n"
          ],
          "name": "stdout"
        }
      ]
    },
    {
      "cell_type": "markdown",
      "metadata": {
        "id": "hUv86vwXO6s4"
      },
      "source": [
        "#### 查看每层Layer的weights, bias"
      ]
    },
    {
      "cell_type": "code",
      "metadata": {
        "colab": {
          "base_uri": "https://localhost:8080/"
        },
        "id": "2wmXZjQYMVfI",
        "outputId": "225ab2d0-128a-4da7-d28e-8a4924888362"
      },
      "source": [
        "#model.get_layer(<<layer_name>>).get_weights()[0]\n",
        "\n",
        "# 方法1\n",
        "print(model.get_layer('customized_dense_layer').get_weights()[0].shape)\n",
        "print(model.get_layer('customized_dense_layer').get_weights()[1].shape)\n",
        "\n",
        "# 方法2\n",
        "print(model.layers[0].get_weights()[0].shape)\n",
        "print(model.layers[0].get_weights()[1].shape)"
      ],
      "execution_count": null,
      "outputs": [
        {
          "output_type": "stream",
          "text": [
            "(8, 30)\n",
            "(30,)\n",
            "(8, 30)\n",
            "(30,)\n"
          ],
          "name": "stdout"
        }
      ]
    },
    {
      "cell_type": "code",
      "metadata": {
        "scrolled": true,
        "colab": {
          "base_uri": "https://localhost:8080/",
          "height": 324
        },
        "id": "hg_U9CPiD76L",
        "outputId": "ce521d0d-e91c-4221-9660-12edb38b41ff"
      },
      "source": [
        "def plot_learning_curves(history):\n",
        "    pd.DataFrame(history.history).plot(figsize=(8,5))\n",
        "    plt.grid(True)\n",
        "    plt.gca().set_ylim(0, 1)\n",
        "    plt.show()\n",
        "    \n",
        "plot_learning_curves(history)"
      ],
      "execution_count": null,
      "outputs": [
        {
          "output_type": "display_data",
          "data": {
            "image/png": "[encoded data removed]",
            "text/plain": [
              "<Figure size 576x360 with 1 Axes>"
            ]
          },
          "metadata": {
            "tags": [],
            "needs_background": "light"
          }
        }
      ]
    },
    {
      "cell_type": "code",
      "metadata": {
        "colab": {
          "base_uri": "https://localhost:8080/"
        },
        "id": "EaU-JSunD76M",
        "outputId": "f84f3a4e-4d44-43b7-8e08-97eb3279dd3c"
      },
      "source": [
        "model.evaluate(x_test_scaled, y_test)"
      ],
      "execution_count": null,
      "outputs": [
        {
          "output_type": "stream",
          "text": [
            "162/162 [==============================] - 0s 900us/step - loss: 0.3891 - mean_squared_error: 0.3891\n"
          ],
          "name": "stdout"
        },
        {
          "output_type": "execute_result",
          "data": {
            "text/plain": [
              "[0.38913074135780334, 0.38913074135780334]"
            ]
          },
          "metadata": {
            "tags": []
          },
          "execution_count": 16
        }
      ]
    },
    {
      "cell_type": "code",
      "metadata": {
        "id": "DpHtnBLyD76M"
      },
      "source": [
        ""
      ],
      "execution_count": null,
      "outputs": []
    }
  ]
}