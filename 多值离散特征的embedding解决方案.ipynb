{
  "nbformat": 4,
  "nbformat_minor": 0,
  "metadata": {
    "colab": {
      "name": "多值离散特征的embedding解决方案.ipynb",
      "provenance": [],
      "collapsed_sections": [],
      "authorship_tag": "ABX9TyMdycvIxUNteioO7OT80njF",
      "include_colab_link": true
    },
    "kernelspec": {
      "name": "python3",
      "display_name": "Python 3"
    },
    "language_info": {
      "name": "python"
    }
  },
  "cells": [
    {
      "cell_type": "markdown",
      "metadata": {
        "id": "view-in-github",
        "colab_type": "text"
      },
      "source": [
        "<a href=\"https://colab.research.google.com/github/dk-wei/tensorflow-dojo/blob/main/%E5%A4%9A%E5%80%BC%E7%A6%BB%E6%95%A3%E7%89%B9%E5%BE%81%E7%9A%84embedding%E8%A7%A3%E5%86%B3%E6%96%B9%E6%A1%88.ipynb\" target=\"_parent\"><img src=\"https://colab.research.google.com/assets/colab-badge.svg\" alt=\"Open In Colab\"/></a>"
      ]
    },
    {
      "cell_type": "code",
      "metadata": {
        "colab": {
          "base_uri": "https://localhost:8080/"
        },
        "id": "i3nwTWSvXYAb",
        "outputId": "e550c6db-129a-44d6-f7bb-9119c572ba65"
      },
      "source": [
        "%tensorflow_version 1.x"
      ],
      "execution_count": 1,
      "outputs": [
        {
          "output_type": "stream",
          "text": [
            "TensorFlow 1.x selected.\n"
          ],
          "name": "stdout"
        }
      ]
    },
    {
      "cell_type": "code",
      "metadata": {
        "colab": {
          "base_uri": "https://localhost:8080/"
        },
        "id": "egxZkkP0Xa9_",
        "outputId": "e9e92976-ab74-4ed0-acbe-20080c49471a"
      },
      "source": [
        "import tensorflow as tf\n",
        "print(tf.__version__)"
      ],
      "execution_count": 2,
      "outputs": [
        {
          "output_type": "stream",
          "text": [
            "1.15.2\n"
          ],
          "name": "stdout"
        }
      ]
    },
    {
      "cell_type": "markdown",
      "metadata": {
        "id": "sp7ImKHLg6Ok"
      },
      "source": [
        "# 背景\n",
        "\n",
        "在处理DeepFM数据时，由于每一个离散特征只有一个取值，因此我们在处理的过程中，将原始数据处理成了两个文件，一个记录特征的索引，一个记录了特征的值，而每一列，则代表一个离散特征。但是如果一个离散特征有多个取值呢？举个例子来说，每个人喜欢的NBA球队，有的人可能喜欢火箭和湖人，有的人可能只喜欢勇士，也有的人喜欢骑士、绿军、猛龙等一大堆。也就是在\"喜欢球队“这个特征中，每个人的特征值长度是不同的，也是不定的，对于这种特征，我们本文将其称为多值离散特征。\n",
        "\n",
        "根据DeepFM的思想，**我们需要将每一个field的特征转换为sparse的，定长的embedding**，即使有多个取值，也是要变换成定长的embedding。那么，一种思路来了，比如一个用户喜欢两个球队，这个field的特征可能是`[1,1,0,0,0,0,0.....0]`，那么我们使用两次embedding lookup，再取个平均不就好了嘛。其实在tensorflow中，有一个函数能够实现我们上述的思路，那就是`tf.nn.embedding_lookup_sparse`。别着急，我们一步一步来实现多值离散特征的embedding处理过程。"
      ]
    },
    {
      "cell_type": "markdown",
      "metadata": {
        "id": "dDcAy4LdMj45"
      },
      "source": [
        "`tf.nn.embedding_lookup_sparse`介绍：https://zhuanlan.zhihu.com/p/94212544     \n",
        "`tf.SparseTensor` 介绍：https://zhuanlan.zhihu.com/p/94035220     \n",
        "`tf.nn.embedding_lookup`介绍：https://zhuanlan.zhihu.com/p/93846683"
      ]
    },
    {
      "cell_type": "markdown",
      "metadata": {
        "id": "USWkdv4Aj-h-"
      },
      "source": [
        "# 方法一：使用低阶的tensorflow API\n",
        "\n",
        "代码来源1：https://blog.csdn.net/qq_38119106/article/details/105399949       \n",
        "代码来源2：https://blog.csdn.net/zNZQhb07Nr/article/details/109323855"
      ]
    },
    {
      "cell_type": "markdown",
      "metadata": {
        "id": "6L-rdAhHeBl3"
      },
      "source": [
        "## Input数据\n",
        "\n",
        "假设我们有三条数据，每条数据代表一个user所喜欢的nba球员，比如有登哥，炮哥，杜老四，慕斯等等："
      ]
    },
    {
      "cell_type": "code",
      "metadata": {
        "id": "3I8zLCHjbH_R"
      },
      "source": [
        "tags_str=[\"harden|james|curry\",\n",
        "          \"wrestbrook|harden|durant\",\n",
        "          \"paul|towns\",\n",
        "    ] #必须是List 每个元素是str"
      ],
      "execution_count": 3,
      "outputs": []
    },
    {
      "cell_type": "markdown",
      "metadata": {
        "id": "Y0TtU78zeEyV"
      },
      "source": [
        "现在建立一个全部球员的集合"
      ]
    },
    {
      "cell_type": "code",
      "metadata": {
        "id": "OJZgWnogbH8-"
      },
      "source": [
        "TAG_SET = [\"harden\", \"james\", \"curry\", \"durant\", \"paul\",\"towns\",\"wrestbrook\"]   #必须是List 每个元素是str\n"
      ],
      "execution_count": 4,
      "outputs": []
    },
    {
      "cell_type": "markdown",
      "metadata": {
        "id": "sq6lxM9teIpr"
      },
      "source": [
        "## 数据处理\n",
        "这里我们需要一个先得到一个`SparseTensor` ，即多为sparse matrix的另一种表示方式，我们只记录非0值所在的位置和值。 \n",
        "\n",
        "创建`SparseTensor`需要indices, values和dense_shape三个条件。    (详细讲解见附录)\n",
        "\n",
        "```python\n",
        "tf.sparse.SparseTensor(\n",
        "    indices, \n",
        "    values, \n",
        "    dense_shape\n",
        ")\n",
        "```"
      ]
    },
    {
      "cell_type": "code",
      "metadata": {
        "id": "oAXUvabtbH6J",
        "colab": {
          "base_uri": "https://localhost:8080/"
        },
        "outputId": "0efaed6d-2060-4724-d62c-7b817c262555"
      },
      "source": [
        "table = tf.contrib.lookup.index_table_from_tensor(mapping=TAG_SET, default_value=-1)\n",
        "split_tags = tf.string_split(tags_str,\"|\")"
      ],
      "execution_count": 5,
      "outputs": [
        {
          "output_type": "stream",
          "text": [
            "WARNING:tensorflow:\n",
            "The TensorFlow contrib module will not be included in TensorFlow 2.0.\n",
            "For more information, please see:\n",
            "  * https://github.com/tensorflow/community/blob/master/rfcs/20180907-contrib-sunset.md\n",
            "  * https://github.com/tensorflow/addons\n",
            "  * https://github.com/tensorflow/io (for I/O related ops)\n",
            "If you depend on functionality not listed there, please file an issue.\n",
            "\n"
          ],
          "name": "stdout"
        }
      ]
    },
    {
      "cell_type": "code",
      "metadata": {
        "id": "trVdIi1uHHEZ"
      },
      "source": [
        "tags=tf.SparseTensor(indices=split_tags.indices,\n",
        "                     values=table.lookup(split_tags.values),\n",
        "                     dense_shape=split_tags.dense_shape)"
      ],
      "execution_count": 6,
      "outputs": []
    },
    {
      "cell_type": "markdown",
      "metadata": {
        "id": "xpfplUJZd0sB"
      },
      "source": [
        "## 为每个tag定义embedding变量\n",
        "\n",
        "定义我们的embedding parameter. 每个tag都会得到一个长度为3的embedding，本例中总共7个tag，所以embedding的shape为 `7*3`\n",
        "\n",
        "*注：embedding生成方法随意，可以是random_uniform, 也可以是truncated_normal,自由选择*。"
      ]
    },
    {
      "cell_type": "code",
      "metadata": {
        "id": "OFp216CpbH3g"
      },
      "source": [
        "TAG_EMBEDDING_DIM = 3\n",
        "#embedding_params=tf.Variable(tf.random_uniform([len(TAG_SET), TAG_EMBEDDING_DIM],-1,1))\n",
        "embedding_params=tf.Variable(tf.truncated_normal([len(TAG_SET), TAG_EMBEDDING_DIM],-1,1))"
      ],
      "execution_count": 7,
      "outputs": []
    },
    {
      "cell_type": "code",
      "metadata": {
        "colab": {
          "base_uri": "https://localhost:8080/"
        },
        "id": "QbGa2BfkJjob",
        "outputId": "3249634e-1dbd-44d8-b30e-f77346807a77"
      },
      "source": [
        "embedding_params.shape"
      ],
      "execution_count": 8,
      "outputs": [
        {
          "output_type": "execute_result",
          "data": {
            "text/plain": [
              "TensorShape([Dimension(7), Dimension(3)])"
            ]
          },
          "metadata": {
            "tags": []
          },
          "execution_count": 8
        }
      ]
    },
    {
      "cell_type": "markdown",
      "metadata": {
        "id": "5klWq8Yld5nW"
      },
      "source": [
        "## 得到embedding值\n",
        "\n",
        "将我们刚才得到的`SparseTensor`，传入到`tf.nn.embedding_lookup_sparse`中，结合我们定义的`embedding_params`, 我们就可以得到多值离散特征的embedding值。\n",
        "\n",
        "3*3的embedding：我们有3个data的embedding，且每个embedding长度为3    \n",
        "\n",
        "至于每个id的多个`embedding_params`的组合方法可以取均值，也可以用别的算数方法。"
      ]
    },
    {
      "cell_type": "code",
      "metadata": {
        "colab": {
          "base_uri": "https://localhost:8080/"
        },
        "id": "pDzOEAGCbH0s",
        "outputId": "f294d87f-69e4-4df9-9da8-7b43bc08cdc8"
      },
      "source": [
        "embedded_tags=tf.nn.embedding_lookup_sparse(\n",
        "                                            embedding_params,\n",
        "                                            sp_ids=tags,\n",
        "                                            sp_weights=None  # 如果tag的权重很不相同，可以在此初更改\n",
        "                                            )"
      ],
      "execution_count": 9,
      "outputs": [
        {
          "output_type": "stream",
          "text": [
            "WARNING:tensorflow:The default value of combiner will change from \"mean\" to \"sqrtn\" after 2016/11/01.\n"
          ],
          "name": "stdout"
        }
      ]
    },
    {
      "cell_type": "markdown",
      "metadata": {
        "id": "ZMqnl-zBh190"
      },
      "source": [
        "`sp_ids`就是我们刚刚得到的`SparseTensor`，而`sp_weights=None`代表的每一个取值的权重，如果是None的话，所有权重都是1，也就是相当于取了平均。如果不是None的话，我们需要同样传入一个`SparseTensor`，代表不同球员的喜欢权重。大家感兴趣可以自己去尝试。"
      ]
    },
    {
      "cell_type": "code",
      "metadata": {
        "colab": {
          "base_uri": "https://localhost:8080/"
        },
        "id": "XhdWzZA_bHyB",
        "outputId": "d3074d8a-5951-436d-bdb6-d1dd6be1786b"
      },
      "source": [
        "with tf.Session() as sess:\n",
        "    sess.run([tf.global_variables_initializer(),tf.tables_initializer()])\n",
        "    a,b=sess.run([embedding_params,embedded_tags])\n",
        "    print(\"embedding_params:\\n\", a)\n",
        "    print('\\n')\n",
        "    print(\"embedded_tags:\\n\", b)"
      ],
      "execution_count": 10,
      "outputs": [
        {
          "output_type": "stream",
          "text": [
            "embedding_params:\n",
            " [[-0.34924752  0.38790226 -1.4172189 ]\n",
            " [-2.1875978  -0.8887247  -0.01434451]\n",
            " [-1.8475461  -0.9799557  -0.12789387]\n",
            " [ 0.09298921 -0.3368973  -2.6203003 ]\n",
            " [-0.7643557  -0.156636   -1.0063876 ]\n",
            " [-0.733627   -1.7060506  -1.5675309 ]\n",
            " [ 0.02436137 -0.07614946 -0.05315447]]\n",
            "\n",
            "\n",
            "embedded_tags:\n",
            " [[-1.4614638  -0.4935927  -0.5198191 ]\n",
            " [-0.07729898 -0.00838151 -1.3635578 ]\n",
            " [-0.7489914  -0.9313433  -1.2869592 ]]\n"
          ],
          "name": "stdout"
        }
      ]
    },
    {
      "cell_type": "markdown",
      "metadata": {
        "id": "x514_w6gCGbZ"
      },
      "source": [
        "注意的一些问题：\n",
        " - TAG_SET是所有可能的特征取值\n",
        " - 传入的原特征数据应该是字符类型的list（不知道是否一定是str 必须是list）\n",
        " - **tf.tables_initializer()必须初始化**\n",
        " - 使用placeholder 我是先传入(n,1)的tensor 然后降维变成list的\n"
      ]
    },
    {
      "cell_type": "code",
      "metadata": {
        "id": "muJzG8QoBH-a"
      },
      "source": [
        ""
      ],
      "execution_count": 10,
      "outputs": []
    },
    {
      "cell_type": "markdown",
      "metadata": {
        "id": "ojmHrE1jj4sK"
      },
      "source": [
        "# 方法二：使用feature_columns接口"
      ]
    },
    {
      "cell_type": "code",
      "metadata": {
        "colab": {
          "base_uri": "https://localhost:8080/"
        },
        "id": "LOIX79-yX8LB",
        "outputId": "d4ee0adb-9384-49ec-c479-2b92cc613436"
      },
      "source": [
        "import tensorflow as tf\n",
        "#from tensorflow.python.feature_column import feature_column\n",
        "#tf.enable_eager_execution()\n",
        "\n",
        "# 定义所有商品的集合\n",
        "TAG_SET = [\"harden\", \"james\", \"curry\", \"durant\", \"paul\",\"towns\",\"wrestbrook\"]\n",
        "# 假设现在有两个用户，用户a和b a点击了a,b,c b点击了a,e,f\n",
        "\n",
        "PLAYER_DATA = {'players': [['harden', 'james', 'curry'], \n",
        "                           ['wrestbrook', 'harden', 'durant'],\n",
        "                           ['james', 'paul', 'towns']\n",
        "                           ]}\n",
        "\n",
        "\n",
        "player_column = tf.feature_column.categorical_column_with_vocabulary_list(\n",
        "    'players', TAG_SET, dtype=tf.string, default_value=-1\n",
        ")\n",
        "\n",
        "embedding_column = tf.feature_column.embedding_column(player_column, 3, combiner='mean')\n",
        "\n",
        "column_input_layer = tf.feature_column.input_layer(PLAYER_DATA, [embedding_column])\n",
        "\n",
        "# tf 2.0的话用下列的代码就好\n",
        "#column_input_layer = tf.compat.v1.feature_column.input_layer(PLAYER_DATA, [embedding_column])\n",
        "\n",
        "print(column_input_layer)"
      ],
      "execution_count": 11,
      "outputs": [
        {
          "output_type": "stream",
          "text": [
            "WARNING:tensorflow:From /tensorflow-1.15.2/python3.7/tensorflow_core/python/feature_column/feature_column.py:206: EmbeddingColumn._get_dense_tensor (from tensorflow.python.feature_column.feature_column_v2) is deprecated and will be removed in a future version.\n",
            "Instructions for updating:\n",
            "The old _FeatureColumn APIs are being deprecated. Please use the new FeatureColumn APIs instead.\n",
            "WARNING:tensorflow:From /tensorflow-1.15.2/python3.7/tensorflow_core/python/feature_column/feature_column_v2.py:3182: VocabularyListCategoricalColumn._get_sparse_tensors (from tensorflow.python.feature_column.feature_column_v2) is deprecated and will be removed in a future version.\n",
            "Instructions for updating:\n",
            "The old _FeatureColumn APIs are being deprecated. Please use the new FeatureColumn APIs instead.\n",
            "WARNING:tensorflow:From /tensorflow-1.15.2/python3.7/tensorflow_core/python/feature_column/feature_column.py:2158: VocabularyListCategoricalColumn._transform_feature (from tensorflow.python.feature_column.feature_column_v2) is deprecated and will be removed in a future version.\n",
            "Instructions for updating:\n",
            "The old _FeatureColumn APIs are being deprecated. Please use the new FeatureColumn APIs instead.\n",
            "WARNING:tensorflow:From /tensorflow-1.15.2/python3.7/tensorflow_core/python/feature_column/feature_column_v2.py:3122: VocabularyListCategoricalColumn._num_buckets (from tensorflow.python.feature_column.feature_column_v2) is deprecated and will be removed in a future version.\n",
            "Instructions for updating:\n",
            "The old _FeatureColumn APIs are being deprecated. Please use the new FeatureColumn APIs instead.\n",
            "WARNING:tensorflow:From /tensorflow-1.15.2/python3.7/tensorflow_core/python/ops/embedding_ops.py:802: where (from tensorflow.python.ops.array_ops) is deprecated and will be removed in a future version.\n",
            "Instructions for updating:\n",
            "Use tf.where in 2.0, which has the same broadcast rule as np.where\n",
            "WARNING:tensorflow:From /tensorflow-1.15.2/python3.7/tensorflow_core/python/feature_column/feature_column.py:207: EmbeddingColumn._variable_shape (from tensorflow.python.feature_column.feature_column_v2) is deprecated and will be removed in a future version.\n",
            "Instructions for updating:\n",
            "The old _FeatureColumn APIs are being deprecated. Please use the new FeatureColumn APIs instead.\n",
            "Tensor(\"input_layer/concat/concat:0\", shape=(3, 3), dtype=float32)\n"
          ],
          "name": "stdout"
        }
      ]
    },
    {
      "cell_type": "markdown",
      "metadata": {
        "id": "JAGwQwn3Cl65"
      },
      "source": [
        "## 附：`SparseTensor`介绍\n",
        "\n",
        "来源：https://zhuanlan.zhihu.com/p/94035220\n",
        "\n",
        "1. 先明确一下\"sparse\"的定义\n",
        "sparse就是\"少\"的意思。什么少？数据少。\n",
        "\n",
        "对应到矩阵来看，sparse matrix就是矩阵中大部分的值都是0，只有少部分值非零。反义词是dense，dense matrix与sparse matrix相反，不再赘述。\n",
        "\n",
        "2. 那“sparse tensor”又是什么？\n",
        "\n",
        "sparse matrix太大太复杂了，换一种表现形式，只用几个特性(参数)来描述一个sparse matrix的tensor就叫做sparse tensor。`tf.SparseTensor`就用了三个维度：\n",
        "  - indices (位置，你想给你的稀疏矩阵的哪个位置放值，就写那个位置。[0,0]就表示矩阵的第0行第0列)\n",
        "  - value (值，你想给你的稀疏矩阵的这个位置放什么值，就写什么。需要注意的是这里要和上面的indices按照id一一对应)\n",
        "  - dense_shape (矩阵维度，是你要表示的稀疏矩阵的维度，长*宽)\n",
        "  \n",
        "来描述一个sparse matrix。所以sparse matrix和sparse tensor是很容易互相转化的。\n",
        "\n",
        "举个栗子：\n",
        "\n"
      ]
    },
    {
      "cell_type": "code",
      "metadata": {
        "id": "cXInfAQYiGTB"
      },
      "source": [
        "ids = tf.SparseTensor(indices=[[0, 1],\n",
        "                               [0, 3],\n",
        "                               [1, 2],\n",
        "                               [1, 3]],\n",
        "                      values=[2, 1, 1, 1],\n",
        "                      dense_shape=[2, 4])"
      ],
      "execution_count": 12,
      "outputs": []
    },
    {
      "cell_type": "markdown",
      "metadata": {
        "id": "97RhP3YsDyb3"
      },
      "source": [
        "这个sparse tensor表示一个什么sparse matrix呢？\n",
        "\n",
        "一个2*4的矩阵，矩阵的第(0,1)位置的值是2，第(0,3)位置的值是1，第(1,2)位置的值是1,第(1,3)位置的值是1:\n",
        "```\n",
        "[\n",
        "  [0,2,0,1],\n",
        "  [0,0,1,1]\n",
        "]\n",
        "```"
      ]
    },
    {
      "cell_type": "markdown",
      "metadata": {
        "id": "xUpZmGc-EHGw"
      },
      "source": [
        "我们来验证一下："
      ]
    },
    {
      "cell_type": "code",
      "metadata": {
        "colab": {
          "base_uri": "https://localhost:8080/"
        },
        "id": "qFBujrw1Dx1y",
        "outputId": "0161fd58-a457-4645-bc6c-a081290acccc"
      },
      "source": [
        "import tensorflow as tf\n",
        "import numpy as np\n",
        "\n",
        "# 为了打印\n",
        "x = tf.sparse_placeholder(tf.float32)\n",
        "indices = np.array([[0, 1],\n",
        "                    [0, 3],\n",
        "                    [1, 2],\n",
        "                    [1, 3]], dtype=np.int64)\n",
        "values = np.array([2, 1, 1, 1], dtype=np.int64)\n",
        "dense_shape = np.array([2, 4], dtype=np.int64)\n",
        "\n",
        "with tf.Session() as sess:\n",
        "    # 这么写就是为了打印值\n",
        "    sparse_tensor = sess.run(x, feed_dict={\n",
        "        x: tf.SparseTensorValue(indices, values, dense_shape)})\n",
        "    print('SparseTensor:\\n', sparse_tensor)\n",
        "    tensor_value = tf.sparse_tensor_to_dense(sparse_tensor)\n",
        "    print('\\nSparseMatrix:\\n', sess.run(tensor_value))"
      ],
      "execution_count": 13,
      "outputs": [
        {
          "output_type": "stream",
          "text": [
            "SparseTensor:\n",
            " SparseTensorValue(indices=array([[0, 1],\n",
            "       [0, 3],\n",
            "       [1, 2],\n",
            "       [1, 3]]), values=array([2., 1., 1., 1.], dtype=float32), dense_shape=array([2, 4]))\n",
            "\n",
            "SparseMatrix:\n",
            " [[0. 2. 0. 1.]\n",
            " [0. 0. 1. 1.]]\n"
          ],
          "name": "stdout"
        }
      ]
    },
    {
      "cell_type": "code",
      "metadata": {
        "id": "pZI2116NDuTh"
      },
      "source": [
        ""
      ],
      "execution_count": 13,
      "outputs": []
    }
  ]
}