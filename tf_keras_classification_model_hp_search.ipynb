{
  "nbformat": 4,
  "nbformat_minor": 0,
  "metadata": {
    "colab": {
      "name": "tf_keras_classification_model_hp_search.ipynb",
      "provenance": [],
      "collapsed_sections": [],
      "toc_visible": true,
      "authorship_tag": "ABX9TyNHlv1HH5ACn+CsZWJ9d6Op",
      "include_colab_link": true
    },
    "kernelspec": {
      "name": "python3",
      "display_name": "Python 3"
    },
    "language_info": {
      "name": "python"
    },
    "accelerator": "GPU"
  },
  "cells": [
    {
      "cell_type": "markdown",
      "metadata": {
        "id": "view-in-github",
        "colab_type": "text"
      },
      "source": [
        "<a href=\"https://colab.research.google.com/github/dk-wei/tensorflow-dojo/blob/main/tf_keras_classification_model_hp_search.ipynb\" target=\"_parent\"><img src=\"https://colab.research.google.com/assets/colab-badge.svg\" alt=\"Open In Colab\"/></a>"
      ]
    },
    {
      "cell_type": "markdown",
      "metadata": {
        "id": "n-wB5AB-662b"
      },
      "source": [
        "# Load Dependency"
      ]
    },
    {
      "cell_type": "code",
      "metadata": {
        "id": "j9_xxYOkzMeF",
        "colab": {
          "base_uri": "https://localhost:8080/"
        },
        "outputId": "8ede9fbb-aaad-4c44-b36b-9b658a06ba07"
      },
      "source": [
        "!pip install ipython-autotime\n",
        "%load_ext autotime"
      ],
      "execution_count": null,
      "outputs": [
        {
          "output_type": "stream",
          "text": [
            "Requirement already satisfied: ipython-autotime in /usr/local/lib/python3.7/dist-packages (0.3.1)\n",
            "Requirement already satisfied: ipython in /usr/local/lib/python3.7/dist-packages (from ipython-autotime) (5.5.0)\n",
            "Requirement already satisfied: pickleshare in /usr/local/lib/python3.7/dist-packages (from ipython->ipython-autotime) (0.7.5)\n",
            "Requirement already satisfied: pexpect in /usr/local/lib/python3.7/dist-packages (from ipython->ipython-autotime) (4.8.0)\n",
            "Requirement already satisfied: setuptools>=18.5 in /usr/local/lib/python3.7/dist-packages (from ipython->ipython-autotime) (57.2.0)\n",
            "Requirement already satisfied: pygments in /usr/local/lib/python3.7/dist-packages (from ipython->ipython-autotime) (2.6.1)\n",
            "Requirement already satisfied: simplegeneric>0.8 in /usr/local/lib/python3.7/dist-packages (from ipython->ipython-autotime) (0.8.1)\n",
            "Requirement already satisfied: traitlets>=4.2 in /usr/local/lib/python3.7/dist-packages (from ipython->ipython-autotime) (5.0.5)\n",
            "Requirement already satisfied: prompt-toolkit<2.0.0,>=1.0.4 in /usr/local/lib/python3.7/dist-packages (from ipython->ipython-autotime) (1.0.18)\n",
            "Requirement already satisfied: decorator in /usr/local/lib/python3.7/dist-packages (from ipython->ipython-autotime) (4.4.2)\n",
            "Requirement already satisfied: wcwidth in /usr/local/lib/python3.7/dist-packages (from prompt-toolkit<2.0.0,>=1.0.4->ipython->ipython-autotime) (0.2.5)\n",
            "Requirement already satisfied: six>=1.9.0 in /usr/local/lib/python3.7/dist-packages (from prompt-toolkit<2.0.0,>=1.0.4->ipython->ipython-autotime) (1.15.0)\n",
            "Requirement already satisfied: ipython-genutils in /usr/local/lib/python3.7/dist-packages (from traitlets>=4.2->ipython->ipython-autotime) (0.2.0)\n",
            "Requirement already satisfied: ptyprocess>=0.5 in /usr/local/lib/python3.7/dist-packages (from pexpect->ipython->ipython-autotime) (0.7.0)\n",
            "time: 1.64 ms (started: 2021-08-05 22:34:23 +00:00)\n"
          ],
          "name": "stdout"
        }
      ]
    },
    {
      "cell_type": "code",
      "metadata": {
        "id": "N9_j2_oBYXXt",
        "colab": {
          "base_uri": "https://localhost:8080/"
        },
        "outputId": "2cf5649f-6d79-4b22-9e0e-ea2df91e4017"
      },
      "source": [
        "import matplotlib as mpl\n",
        "import matplotlib.pyplot as plt\n",
        "%matplotlib inline\n",
        "\n",
        "import numpy as np\n",
        "import sklearn\n",
        "import pandas as pd\n",
        "import os\n",
        "import sys\n",
        "import time\n",
        "import tensorflow as tf\n",
        "\n",
        "from tensorflow import keras\n",
        "%load_ext tensorboard"
      ],
      "execution_count": null,
      "outputs": [
        {
          "output_type": "stream",
          "text": [
            "time: 1.75 s (started: 2021-08-05 22:34:23 +00:00)\n"
          ],
          "name": "stdout"
        }
      ]
    },
    {
      "cell_type": "code",
      "metadata": {
        "colab": {
          "base_uri": "https://localhost:8080/"
        },
        "id": "zgpZVslUYnCk",
        "outputId": "89f97c3a-7a1d-4433-c3ea-bb1e98b81303"
      },
      "source": [
        "print(tf.__version__)\n",
        "print(sys.version_info)\n",
        "for module in mpl, np, pd, sklearn, tf, keras:\n",
        "    print(module.__name__, module.__version__)"
      ],
      "execution_count": null,
      "outputs": [
        {
          "output_type": "stream",
          "text": [
            "2.5.0\n",
            "sys.version_info(major=3, minor=7, micro=11, releaselevel='final', serial=0)\n",
            "matplotlib 3.2.2\n",
            "numpy 1.19.5\n",
            "pandas 1.1.5\n",
            "sklearn 0.22.2.post1\n",
            "tensorflow 2.5.0\n",
            "tensorflow.keras 2.5.0\n",
            "time: 2.07 ms (started: 2021-08-05 22:34:25 +00:00)\n"
          ],
          "name": "stdout"
        }
      ]
    },
    {
      "cell_type": "markdown",
      "metadata": {
        "id": "RqHI4c4S6-vU"
      },
      "source": [
        "# Load and preview Data"
      ]
    },
    {
      "cell_type": "code",
      "metadata": {
        "colab": {
          "base_uri": "https://localhost:8080/"
        },
        "id": "TRIIOrkHYm-N",
        "outputId": "412fb7f9-68ee-491a-c3fc-161f331707f0"
      },
      "source": [
        "fashion_mnist = keras.datasets.fashion_mnist\n",
        "(x_train_all, y_train_all), (x_test, y_test) = fashion_mnist.load_data()\n",
        "\n",
        "x_train_all = x_train_all / 255.0\n",
        "x_test = x_test / 255.0\n",
        "\n",
        "# 从training set拆分出val set\n",
        "x_valid, x_train = x_train_all[:5000], x_train_all[5000:]\n",
        "y_valid, y_train = y_train_all[:5000], y_train_all[5000:]\n",
        "\n",
        "print(x_valid.shape, y_valid.shape)\n",
        "print(x_train.shape, y_train.shape)\n",
        "print(x_test.shape, y_test.shape)"
      ],
      "execution_count": null,
      "outputs": [
        {
          "output_type": "stream",
          "text": [
            "(5000, 28, 28) (5000,)\n",
            "(55000, 28, 28) (55000,)\n",
            "(10000, 28, 28) (10000,)\n",
            "time: 565 ms (started: 2021-08-05 22:34:25 +00:00)\n"
          ],
          "name": "stdout"
        }
      ]
    },
    {
      "cell_type": "code",
      "metadata": {
        "colab": {
          "base_uri": "https://localhost:8080/"
        },
        "id": "64DTHjPeAQNZ",
        "outputId": "fc055d65-58ff-4c10-c5d3-e03942825089"
      },
      "source": [
        "#x_train[0]"
      ],
      "execution_count": null,
      "outputs": [
        {
          "output_type": "stream",
          "text": [
            "time: 1.06 ms (started: 2021-08-05 22:34:26 +00:00)\n"
          ],
          "name": "stdout"
        }
      ]
    },
    {
      "cell_type": "code",
      "metadata": {
        "colab": {
          "base_uri": "https://localhost:8080/"
        },
        "id": "k8ypoRaW_GVp",
        "outputId": "ddec84a2-66ea-481f-be9c-643c1e3e4dda"
      },
      "source": [
        "print(np.max(x_train), np.min(x_train))"
      ],
      "execution_count": null,
      "outputs": [
        {
          "output_type": "stream",
          "text": [
            "1.0 0.0\n",
            "time: 63.4 ms (started: 2021-08-05 22:34:26 +00:00)\n"
          ],
          "name": "stdout"
        }
      ]
    },
    {
      "cell_type": "markdown",
      "metadata": {
        "id": "eWDagnpy-o8k"
      },
      "source": [
        "## Standardization 数据归一化/标准化\n",
        "\n",
        "training, val和testing都需要归一化，但是都是以training的mean，std为基准\n",
        "\n",
        "下面会用到`Batch Normalization`，就是layers每一层都会要normalization一次"
      ]
    },
    {
      "cell_type": "code",
      "metadata": {
        "colab": {
          "base_uri": "https://localhost:8080/"
        },
        "id": "1j-gBSWA7eTo",
        "outputId": "153eba5c-5908-4b22-ad1a-d2078ed8c3b5"
      },
      "source": [
        "# x = (x-u) / std\n",
        "\n",
        "from sklearn.preprocessing import StandardScaler\n",
        "\n",
        "scaler = StandardScaler()\n",
        "\n",
        "# x_train: [None, 28, 28] -> [None, 784] -> transform ->  [None, 28, 28]\n",
        "# 每张图片先flatten到一维，归一化，再转回二维\n",
        "x_train_scaled = scaler.fit_transform(\n",
        "    x_train.astype(np.float32).reshape(-1, 1)\n",
        ").reshape(-1, 28, 28)   \n",
        "\n",
        "# val和testing set直接用training set的均值和方差，所以不用fit_transform, 直接fit\n",
        "x_valid_scaled = scaler.transform(\n",
        "    x_valid.astype(np.float32).reshape(-1, 1)\n",
        ").reshape(-1, 28, 28)\n",
        "\n",
        "x_test_scaled = scaler.transform(\n",
        "    x_test.astype(np.float32).reshape(-1, 1)\n",
        ").reshape(-1, 28, 28)"
      ],
      "execution_count": null,
      "outputs": [
        {
          "output_type": "stream",
          "text": [
            "time: 825 ms (started: 2021-08-05 22:34:26 +00:00)\n"
          ],
          "name": "stdout"
        }
      ]
    },
    {
      "cell_type": "code",
      "metadata": {
        "colab": {
          "base_uri": "https://localhost:8080/"
        },
        "id": "fFIUdiQp_Pzv",
        "outputId": "32d8d45a-16ab-4144-d711-ec1137305ad6"
      },
      "source": [
        "print(np.max(x_train_scaled), np.min(x_train_scaled))"
      ],
      "execution_count": null,
      "outputs": [
        {
          "output_type": "stream",
          "text": [
            "2.0231433 -0.8105137\n",
            "time: 34.7 ms (started: 2021-08-05 22:34:26 +00:00)\n"
          ],
          "name": "stdout"
        }
      ]
    },
    {
      "cell_type": "code",
      "metadata": {
        "colab": {
          "base_uri": "https://localhost:8080/"
        },
        "id": "TB5WOm7VYm6X",
        "outputId": "5469d97b-65d5-47e5-d368-709a39eb7dcb"
      },
      "source": [
        "# 只有一个通道的28*28黑白图片\n",
        "x_train[0].shape"
      ],
      "execution_count": null,
      "outputs": [
        {
          "output_type": "execute_result",
          "data": {
            "text/plain": [
              "(28, 28)"
            ]
          },
          "metadata": {
            "tags": []
          },
          "execution_count": 9
        },
        {
          "output_type": "stream",
          "text": [
            "time: 3.77 ms (started: 2021-08-05 22:34:26 +00:00)\n"
          ],
          "name": "stdout"
        }
      ]
    },
    {
      "cell_type": "code",
      "metadata": {
        "id": "Pbx6lUx7Ym1t",
        "colab": {
          "base_uri": "https://localhost:8080/"
        },
        "outputId": "61d460d8-3b3e-445e-cd98-eb9ed0961b53"
      },
      "source": [
        "#x_train[0]"
      ],
      "execution_count": null,
      "outputs": [
        {
          "output_type": "stream",
          "text": [
            "time: 688 µs (started: 2021-08-05 22:34:27 +00:00)\n"
          ],
          "name": "stdout"
        }
      ]
    },
    {
      "cell_type": "code",
      "metadata": {
        "id": "93jgwj1KqvFw",
        "colab": {
          "base_uri": "https://localhost:8080/"
        },
        "outputId": "eea0df71-9eea-4d94-e40f-90cf27a67335"
      },
      "source": [
        "#y_train"
      ],
      "execution_count": null,
      "outputs": [
        {
          "output_type": "stream",
          "text": [
            "time: 736 µs (started: 2021-08-05 22:34:27 +00:00)\n"
          ],
          "name": "stdout"
        }
      ]
    },
    {
      "cell_type": "code",
      "metadata": {
        "colab": {
          "base_uri": "https://localhost:8080/",
          "height": 282
        },
        "id": "ZtZ_QXmVbbSm",
        "outputId": "7bf5ac2b-c238-4c64-fc63-e16801f89d2a"
      },
      "source": [
        "def show_single_image(img_arr):\n",
        "\n",
        "  # imshow可以直接打印图片\n",
        "  plt.imshow(img_arr, cmap= 'binary', interpolation='nearest')\n",
        "  plt.show()\n",
        "\n",
        "show_single_image(x_train[0])"
      ],
      "execution_count": null,
      "outputs": [
        {
          "output_type": "display_data",
          "data": {
            "image/png": "[encoded data removed]",
            "text/plain": [
              "<Figure size 432x288 with 1 Axes>"
            ]
          },
          "metadata": {
            "tags": [],
            "needs_background": "light"
          }
        },
        {
          "output_type": "stream",
          "text": [
            "time: 163 ms (started: 2021-08-05 22:34:27 +00:00)\n"
          ],
          "name": "stdout"
        }
      ]
    },
    {
      "cell_type": "code",
      "metadata": {
        "colab": {
          "base_uri": "https://localhost:8080/",
          "height": 316
        },
        "id": "tLCGspiaYmvm",
        "outputId": "70d26cb7-fea5-4878-9e4d-654fa30b7daa"
      },
      "source": [
        "def show_imgs(n_rows, n_cols, x_data, y_data, class_names):\n",
        "    assert len(x_data) == len(y_data)\n",
        "    assert n_rows * n_cols < len(x_data)\n",
        "    \n",
        "    plt.figure(figsize=(n_cols * 1.4, n_rows * 1.6))\n",
        "    for row in range(n_rows):\n",
        "        for col in range(n_cols):\n",
        "            index = n_cols * row + col + 1\n",
        "            plt.subplot(n_rows, n_cols, index)\n",
        "            plt.imshow(x_data[index], cmap='binary', interpolation='nearest')\n",
        "            plt.axis('off')\n",
        "            plt.title(class_names[y_data[index]])\n",
        "    plt.show()\n",
        "    \n",
        "class_names = ['T-shirt', 'Trouser', 'Pullover', 'Dress', 'Coat', 'Sandal',\n",
        "               'Shirt', 'Sneaker', 'Bag', 'Ankle boot']\n",
        "show_imgs(3, 5, x_train, y_train, class_names)"
      ],
      "execution_count": null,
      "outputs": [
        {
          "output_type": "display_data",
          "data": {
            "image/png": "[encoded data removed]",
            "text/plain": [
              "<Figure size 504x345.6 with 15 Axes>"
            ]
          },
          "metadata": {
            "tags": [],
            "needs_background": "light"
          }
        },
        {
          "output_type": "stream",
          "text": [
            "time: 477 ms (started: 2021-08-05 22:34:27 +00:00)\n"
          ],
          "name": "stdout"
        }
      ]
    },
    {
      "cell_type": "code",
      "metadata": {
        "id": "tyx_YL8zjzic",
        "colab": {
          "base_uri": "https://localhost:8080/"
        },
        "outputId": "257904af-e44b-4300-ebc3-e89019cc2439"
      },
      "source": [
        "# model = tf.keras.Sequential()\n",
        "# model.add(tf.keras.layers.Flatten(input_shape=[28,28]))\n",
        "# model.output_shape"
      ],
      "execution_count": null,
      "outputs": [
        {
          "output_type": "stream",
          "text": [
            "time: 1.27 ms (started: 2021-08-05 22:34:27 +00:00)\n"
          ],
          "name": "stdout"
        }
      ]
    },
    {
      "cell_type": "markdown",
      "metadata": {
        "id": "elEV47XD7H-r"
      },
      "source": [
        "# Training"
      ]
    },
    {
      "cell_type": "code",
      "metadata": {
        "id": "IRMX4ORcqn9q",
        "colab": {
          "base_uri": "https://localhost:8080/"
        },
        "outputId": "4e96d785-8ba0-4c9c-ef26-c83a7e7b0a99"
      },
      "source": [
        "from keras import backend as K\n",
        "\n",
        "def recall_m(y_true, y_pred):\n",
        "    true_positives = K.sum(K.round(K.clip(y_true * y_pred, 0, 1)))\n",
        "    possible_positives = K.sum(K.round(K.clip(y_true, 0, 1)))\n",
        "    recall = true_positives / (possible_positives + K.epsilon())\n",
        "    return recall\n",
        "\n",
        "def precision_m(y_true, y_pred):\n",
        "    true_positives = K.sum(K.round(K.clip(y_true * y_pred, 0, 1)))\n",
        "    predicted_positives = K.sum(K.round(K.clip(y_pred, 0, 1)))\n",
        "    precision = true_positives / (predicted_positives + K.epsilon())\n",
        "    return precision\n",
        "\n",
        "def f1_m(y_true, y_pred):\n",
        "    precision = precision_m(y_true, y_pred)\n",
        "    recall = recall_m(y_true, y_pred)\n",
        "    return 2*((precision*recall)/(precision+recall+K.epsilon()))"
      ],
      "execution_count": null,
      "outputs": [
        {
          "output_type": "stream",
          "text": [
            "time: 251 ms (started: 2021-08-05 22:34:27 +00:00)\n"
          ],
          "name": "stdout"
        }
      ]
    },
    {
      "cell_type": "markdown",
      "metadata": {
        "id": "DUsjGf96YoYj"
      },
      "source": [
        "## Sklearn Wrapper\n",
        "\n",
        "需要先装入sklearn wrapper，将keras model转变为sklearn model，然后再用sklearn的方法来做RamdomizedSearch或者别的hyper parameter tuning。"
      ]
    },
    {
      "cell_type": "code",
      "metadata": {
        "id": "qzd1XYA6Ymry",
        "colab": {
          "base_uri": "https://localhost:8080/"
        },
        "outputId": "ddbc4058-bc7e-4bfe-8129-fbc30ba1ec3c"
      },
      "source": [
        "# RamdomizedSearchCV (需要用到sklearn wrapper封装，转换成一个sklearn model。然后就可以直接当作sklearn model使用了)\n",
        "# 1. 转化为sklearn的model\n",
        "# 2. 定义参数集合\n",
        "# 3. 搜索参数\n",
        "\n",
        "# 把所有的keras model提前定义好\n",
        "def build_model(hidden_layers = 2,layer_size = 50, learning_rate = 1e-3):\n",
        "\n",
        "    model = keras.models.Sequential()\n",
        "    model.add(keras.layers.Flatten(input_shape=[28,28]))\n",
        "\n",
        "    for _ in range(hidden_layers - 1):\n",
        "      model.add(keras.layers.Dense(layer_size, activation='relu'))\n",
        "      model.add(keras.layers.BatchNormalization())\n",
        "\n",
        "    #model.add(keras.layers.AlphaDropout(rate = 0.5))\n",
        "    model.add(keras.layers.Dense(10, activation='softmax'))  # 最后一层用softmax区分度更高\n",
        "    \n",
        "    optimizer = keras.optimizers.Adam(learning_rate)\n",
        "    \n",
        "    model.compile(loss='sparse_categorical_crossentropy', \n",
        "                  optimizer=optimizer,\n",
        "                  metrics=['accuracy', \n",
        "                       f1_m, \n",
        "                       precision_m, \n",
        "                       recall_m\n",
        "                       ])\n",
        "    return model\n",
        "\n",
        "# 再放入wrapper，就变成一个sklearn model了\n",
        "sklearn_model = keras.wrappers.scikit_learn.KerasClassifier(build_model)"
      ],
      "execution_count": null,
      "outputs": [
        {
          "output_type": "stream",
          "text": [
            "time: 12.8 ms (started: 2021-08-05 22:45:47 +00:00)\n"
          ],
          "name": "stdout"
        }
      ]
    },
    {
      "cell_type": "code",
      "metadata": {
        "colab": {
          "base_uri": "https://localhost:8080/"
        },
        "id": "KsMNDQ-2Ymld",
        "outputId": "ce946482-89d3-4408-a651-0671a267c102"
      },
      "source": [
        "#model.summary()"
      ],
      "execution_count": null,
      "outputs": [
        {
          "output_type": "stream",
          "text": [
            "time: 683 µs (started: 2021-08-05 22:45:48 +00:00)\n"
          ],
          "name": "stdout"
        }
      ]
    },
    {
      "cell_type": "code",
      "metadata": {
        "colab": {
          "base_uri": "https://localhost:8080/"
        },
        "id": "c5z0RbklxTqn",
        "outputId": "45fe8188-d1ed-4ec3-9fce-9a49bd563e17"
      },
      "source": [
        "# 参数量w, b的由来\n",
        "# [None, 784] * W + b -> [None, 300]\n",
        "# W.shape = [784 * 300], b.shape = [300]\n",
        "\n",
        "784*300+300"
      ],
      "execution_count": null,
      "outputs": [
        {
          "output_type": "execute_result",
          "data": {
            "text/plain": [
              "235500"
            ]
          },
          "metadata": {
            "tags": []
          },
          "execution_count": 39
        },
        {
          "output_type": "stream",
          "text": [
            "time: 3.43 ms (started: 2021-08-05 22:45:48 +00:00)\n"
          ],
          "name": "stdout"
        }
      ]
    },
    {
      "cell_type": "code",
      "metadata": {
        "colab": {
          "base_uri": "https://localhost:8080/"
        },
        "id": "rd5HybUmYmiz",
        "outputId": "b3335083-ef1e-4b3a-e200-c26ce670252e"
      },
      "source": [
        "# keras.utils.plot_model(model, \n",
        "#                        show_shapes=True, \n",
        "#                        #rankdir=\"LR\"\n",
        "#                        )"
      ],
      "execution_count": null,
      "outputs": [
        {
          "output_type": "stream",
          "text": [
            "time: 695 µs (started: 2021-08-05 22:45:48 +00:00)\n"
          ],
          "name": "stdout"
        }
      ]
    },
    {
      "cell_type": "markdown",
      "metadata": {
        "id": "QgA95kFvFbK7"
      },
      "source": [
        "## Callbacks\n",
        "\n",
        "Callbacks主要是训练模型途中的一些自动化操作，最常用的一些callbacks有：\n",
        "1. tensorboard  即时显示训练情况  \n",
        "2. earlystopping 早停法\n",
        "3. modelcheckpoint  保存(最优)模型\n",
        "\n",
        "运行TensorBoard的方法：\n",
        "在有`callbacks`文件的目录下运行\n",
        "\n",
        "\n",
        "    tenforboard --logdir=callbacks"
      ]
    },
    {
      "cell_type": "code",
      "metadata": {
        "colab": {
          "base_uri": "https://localhost:8080/"
        },
        "id": "scVTiQh2YmE4",
        "outputId": "c05d0d8c-60b5-4c77-d3e2-673c7b9a02d1"
      },
      "source": [
        "# 结果一般都是保存着history这个变量里面\n",
        "# 加入三种最常用的callbacks：tensorboard，earlystopping，modelcheckpoint\n",
        "\n",
        "logdir = '/content/dnn-callbacks'\n",
        "if not os.path.exists(logdir):\n",
        "  os.mkdir(logdir)\n",
        "\n",
        "output_model_file = os.path.join(logdir, \n",
        "                                 \"fashion_mnist_model.h5\")\n",
        "\n",
        "callbacks = [\n",
        "             keras.callbacks.TensorBoard(logdir),  # 将TensorBoard文件存在callbacks folder\n",
        "             keras.callbacks.ModelCheckpoint(output_model_file,   # 将模型存在h5 file\n",
        "                                             save_best_only = True),\n",
        "             keras.callbacks.EarlyStopping(patience = 5,  # 设置早停\n",
        "                                           min_delta = 1e-3 \n",
        "             )\n",
        "             \n",
        "]\n",
        "history = sklearn_model.fit(x_train_scaled,       \n",
        "                            y_train, \n",
        "                            epochs=10, \n",
        "                            validation_data=(x_valid_scaled, y_valid),\n",
        "                            callbacks = callbacks,\n",
        "                            verbose=1   # 'auto', 0, 1, or 2. Verbosity mode. 0 = silent, 1 = progress bar, 2 = one line per epoch.\n",
        "                            )\n"
      ],
      "execution_count": null,
      "outputs": [
        {
          "output_type": "stream",
          "text": [
            "Epoch 1/10\n",
            "1719/1719 [==============================] - 8s 4ms/step - loss: 0.5070 - accuracy: 0.8215 - f1_m: 1.5298 - precision_m: 1.5794 - recall_m: 1.5071 - val_loss: 0.3943 - val_accuracy: 0.8616 - val_f1_m: 1.3928 - val_precision_m: 1.3898 - val_recall_m: 1.3997\n",
            "Epoch 2/10\n",
            "1719/1719 [==============================] - 6s 3ms/step - loss: 0.3954 - accuracy: 0.8575 - f1_m: 1.3602 - precision_m: 1.3390 - recall_m: 1.3857 - val_loss: 0.3784 - val_accuracy: 0.8634 - val_f1_m: 1.3149 - val_precision_m: 1.2929 - val_recall_m: 1.3413\n",
            "Epoch 3/10\n",
            "1719/1719 [==============================] - 6s 3ms/step - loss: 0.3678 - accuracy: 0.8667 - f1_m: 1.3240 - precision_m: 1.2996 - recall_m: 1.3531 - val_loss: 0.3775 - val_accuracy: 0.8682 - val_f1_m: 1.3066 - val_precision_m: 1.2832 - val_recall_m: 1.3338\n",
            "Epoch 4/10\n",
            "1719/1719 [==============================] - 5s 3ms/step - loss: 0.3490 - accuracy: 0.8720 - f1_m: 1.3031 - precision_m: 1.2750 - recall_m: 1.3357 - val_loss: 0.3704 - val_accuracy: 0.8710 - val_f1_m: 1.2950 - val_precision_m: 1.2701 - val_recall_m: 1.3243\n",
            "Epoch 5/10\n",
            "1719/1719 [==============================] - 5s 3ms/step - loss: 0.3322 - accuracy: 0.8789 - f1_m: 1.2833 - precision_m: 1.2517 - recall_m: 1.3199 - val_loss: 0.4691 - val_accuracy: 0.8526 - val_f1_m: 1.2861 - val_precision_m: 1.2634 - val_recall_m: 1.3127\n",
            "Epoch 6/10\n",
            "1719/1719 [==============================] - 5s 3ms/step - loss: 0.3204 - accuracy: 0.8830 - f1_m: 1.2704 - precision_m: 1.2378 - recall_m: 1.3080 - val_loss: 0.3401 - val_accuracy: 0.8832 - val_f1_m: 1.2504 - val_precision_m: 1.2226 - val_recall_m: 1.2826\n",
            "Epoch 7/10\n",
            "1719/1719 [==============================] - 5s 3ms/step - loss: 0.3086 - accuracy: 0.8863 - f1_m: 1.2570 - precision_m: 1.2222 - recall_m: 1.2970 - val_loss: 0.3393 - val_accuracy: 0.8772 - val_f1_m: 1.2601 - val_precision_m: 1.2315 - val_recall_m: 1.2933\n",
            "Epoch 8/10\n",
            "1719/1719 [==============================] - 6s 3ms/step - loss: 0.3036 - accuracy: 0.8875 - f1_m: 1.2479 - precision_m: 1.2123 - recall_m: 1.2890 - val_loss: 0.3391 - val_accuracy: 0.8808 - val_f1_m: 1.2405 - val_precision_m: 1.2118 - val_recall_m: 1.2737\n",
            "Epoch 9/10\n",
            "1719/1719 [==============================] - 5s 3ms/step - loss: 0.2913 - accuracy: 0.8921 - f1_m: 1.2378 - precision_m: 1.2016 - recall_m: 1.2793 - val_loss: 0.3303 - val_accuracy: 0.8822 - val_f1_m: 1.2251 - val_precision_m: 1.1921 - val_recall_m: 1.2630\n",
            "Epoch 10/10\n",
            "1719/1719 [==============================] - 6s 3ms/step - loss: 0.2847 - accuracy: 0.8946 - f1_m: 1.2310 - precision_m: 1.1934 - recall_m: 1.2740 - val_loss: 0.3653 - val_accuracy: 0.8750 - val_f1_m: 1.2302 - val_precision_m: 1.2009 - val_recall_m: 1.2639\n",
            "time: 58.3 s (started: 2021-08-05 22:45:49 +00:00)\n"
          ],
          "name": "stdout"
        }
      ]
    },
    {
      "cell_type": "code",
      "metadata": {
        "colab": {
          "base_uri": "https://localhost:8080/"
        },
        "id": "mUcwxApVIouh",
        "outputId": "c6f1a987-c3f7-42fc-b959-36e4ef958faf"
      },
      "source": [
        "ls"
      ],
      "execution_count": null,
      "outputs": [
        {
          "output_type": "stream",
          "text": [
            "\u001b[0m\u001b[01;34mdnn-callbacks\u001b[0m/  model.png  \u001b[01;34msample_data\u001b[0m/\n",
            "time: 152 ms (started: 2021-08-05 22:46:47 +00:00)\n"
          ],
          "name": "stdout"
        }
      ]
    },
    {
      "cell_type": "code",
      "metadata": {
        "colab": {
          "base_uri": "https://localhost:8080/"
        },
        "id": "_G7ddGRLH-8t",
        "outputId": "9a3fe28e-cdf2-4b68-821a-eb82f2cd75cc"
      },
      "source": [
        "# 启动tensorboard\n",
        "\n",
        "#%tensorboard --logdir=callbacks"
      ],
      "execution_count": null,
      "outputs": [
        {
          "output_type": "stream",
          "text": [
            "time: 830 µs (started: 2021-08-05 22:46:47 +00:00)\n"
          ],
          "name": "stdout"
        }
      ]
    },
    {
      "cell_type": "code",
      "metadata": {
        "id": "nQlPDeAYap2E",
        "colab": {
          "base_uri": "https://localhost:8080/"
        },
        "outputId": "16b7ff8c-8116-4832-a257-6e9844cbdcd4"
      },
      "source": [
        "type(history) # history其实是一个callback"
      ],
      "execution_count": null,
      "outputs": [
        {
          "output_type": "execute_result",
          "data": {
            "text/plain": [
              "tensorflow.python.keras.callbacks.History"
            ]
          },
          "metadata": {
            "tags": []
          },
          "execution_count": 44
        },
        {
          "output_type": "stream",
          "text": [
            "time: 3.38 ms (started: 2021-08-05 22:46:47 +00:00)\n"
          ],
          "name": "stdout"
        }
      ]
    },
    {
      "cell_type": "code",
      "metadata": {
        "id": "xwD0l65Capzf",
        "colab": {
          "base_uri": "https://localhost:8080/"
        },
        "outputId": "326ea96b-3216-4bc7-c43d-6e83be60d12b"
      },
      "source": [
        "history.epoch\n",
        "\n",
        "history.history.keys()"
      ],
      "execution_count": null,
      "outputs": [
        {
          "output_type": "execute_result",
          "data": {
            "text/plain": [
              "dict_keys(['loss', 'accuracy', 'f1_m', 'precision_m', 'recall_m', 'val_loss', 'val_accuracy', 'val_f1_m', 'val_precision_m', 'val_recall_m'])"
            ]
          },
          "metadata": {
            "tags": []
          },
          "execution_count": 45
        },
        {
          "output_type": "stream",
          "text": [
            "time: 4.76 ms (started: 2021-08-05 22:46:47 +00:00)\n"
          ],
          "name": "stdout"
        }
      ]
    },
    {
      "cell_type": "markdown",
      "metadata": {
        "id": "3AC35W7K7R7b"
      },
      "source": [
        "# Plot Validation "
      ]
    },
    {
      "cell_type": "code",
      "metadata": {
        "colab": {
          "base_uri": "https://localhost:8080/",
          "height": 342
        },
        "id": "r8F0Yy65A9l6",
        "outputId": "be3756d4-0570-4e48-83eb-10b2eacfa294"
      },
      "source": [
        "def plot_learning_curves(history):\n",
        "\n",
        "    # 选择需要plot的metrics，否则变量太多了\n",
        "    plot_metrics = {k:v for k,v in history.history.items() if k in ['loss', 'accuracy', 'val_loss', 'val_accuracy']}\n",
        "\n",
        "    pd.DataFrame(plot_metrics).plot(figsize=(8,5))\n",
        "    plt.grid(True)\n",
        "    plt.gca().set_ylim(0, 2)\n",
        "    plt.show()\n",
        "    \n",
        "plot_learning_curves(history)"
      ],
      "execution_count": null,
      "outputs": [
        {
          "output_type": "display_data",
          "data": {
            "image/png": "[encoded data removed]",
            "text/plain": [
              "<Figure size 576x360 with 1 Axes>"
            ]
          },
          "metadata": {
            "tags": [],
            "needs_background": "light"
          }
        },
        {
          "output_type": "stream",
          "text": [
            "time: 231 ms (started: 2021-08-05 22:46:47 +00:00)\n"
          ],
          "name": "stdout"
        }
      ]
    },
    {
      "cell_type": "code",
      "metadata": {
        "id": "spkNNjhOapwt",
        "colab": {
          "base_uri": "https://localhost:8080/"
        },
        "outputId": "039b8f70-eeaf-4ac7-bc61-41851396d65f"
      },
      "source": [
        "#sklearn函数没有evaluate \n",
        "#model.evaluate(x_test_scaled, y_test)"
      ],
      "execution_count": null,
      "outputs": [
        {
          "output_type": "stream",
          "text": [
            "time: 1.42 ms (started: 2021-08-05 22:46:47 +00:00)\n"
          ],
          "name": "stdout"
        }
      ]
    },
    {
      "cell_type": "markdown",
      "metadata": {
        "id": "MHpIZb3nhUpX"
      },
      "source": [
        "# Hyper-Parameter Tuning"
      ]
    },
    {
      "cell_type": "markdown",
      "metadata": {
        "id": "nCZ0TdJLcSXI"
      },
      "source": [
        "## RamdomizedSearchCV\n",
        "\n",
        "创建参数搜索空间，然后开始调参"
      ]
    },
    {
      "cell_type": "code",
      "metadata": {
        "id": "IgUjhC4iapts",
        "colab": {
          "base_uri": "https://localhost:8080/"
        },
        "outputId": "4c5262e4-57e7-4e5d-e416-edd92e8d5bcd"
      },
      "source": [
        "from scipy.stats import reciprocal\n",
        "# f(x) = 1 / (x * log(b/a)) a <= x <= b\n",
        "\n",
        "param_distribution = {\n",
        "    'hidden_layers': (1,2,3,4),\n",
        "    'layer_size': tuple(np.arange(1, 10)),  # 从1取到100\n",
        "    'learning_rate': reciprocal(1e-4, 1e-3),  # 随即搜索空间\n",
        "}"
      ],
      "execution_count": null,
      "outputs": [
        {
          "output_type": "stream",
          "text": [
            "time: 6.16 ms (started: 2021-08-05 22:46:47 +00:00)\n"
          ],
          "name": "stdout"
        }
      ]
    },
    {
      "cell_type": "code",
      "metadata": {
        "colab": {
          "base_uri": "https://localhost:8080/"
        },
        "id": "w6KOkcSVbvqV",
        "outputId": "424b1c8c-fa0b-422d-802a-46b5f11c0ef8"
      },
      "source": [
        "from scipy.stats import reciprocal\n",
        "# f(x) = 1 / (x * log(b/a)) a <= x <= b\n",
        "\n",
        "reciprocal.rvs(1e-4, 1e-3, size = 10)"
      ],
      "execution_count": null,
      "outputs": [
        {
          "output_type": "execute_result",
          "data": {
            "text/plain": [
              "array([0.00059141, 0.00081449, 0.00010625, 0.00093896, 0.00049386,\n",
              "       0.00016337, 0.00074573, 0.00016443, 0.00052712, 0.00021075])"
            ]
          },
          "metadata": {
            "tags": []
          },
          "execution_count": 49
        },
        {
          "output_type": "stream",
          "text": [
            "time: 9.14 ms (started: 2021-08-05 22:46:47 +00:00)\n"
          ],
          "name": "stdout"
        }
      ]
    },
    {
      "cell_type": "code",
      "metadata": {
        "colab": {
          "base_uri": "https://localhost:8080/"
        },
        "id": "g2p600I1cLO2",
        "outputId": "479f274c-c529-4f8c-bc86-16f64d883b6d"
      },
      "source": [
        "from sklearn.model_selection import RandomizedSearchCV\n",
        "\n",
        "random_search_cv = RandomizedSearchCV(sklearn_model, \n",
        "                                      param_distribution, \n",
        "                                      n_iter=3, # 从param_distribution里面sample出来的参数集合个数\n",
        "                                      cv = 3, # cross_validation，可以修改cv的train/test比值\n",
        "                                      n_jobs=1)\n",
        "\n",
        "random_search_cv.fit(\n",
        "    x_train_scaled, \n",
        "    y_train, \n",
        "    epochs = 2,\n",
        "    validation_data = (x_valid_scaled, y_valid),\n",
        "    callbacks=callbacks\n",
        "    )\n",
        "\n",
        "# cross_validation: 训练集分成n份，n-1训练，最后一份验证. 默认n=3\n",
        "# 我们可以看到最后一轮训练是用最好的参数值训练的模型"
      ],
      "execution_count": null,
      "outputs": [
        {
          "output_type": "stream",
          "text": [
            "Epoch 1/2\n",
            "1146/1146 [==============================] - 6s 4ms/step - loss: 1.2364 - accuracy: 0.6290 - f1_m: 4.2170 - precision_m: 6771379.5000 - recall_m: 2.7745 - val_loss: 0.7510 - val_accuracy: 0.7890 - val_f1_m: 2.3187 - val_precision_m: 2.7567 - val_recall_m: 2.0199\n",
            "Epoch 2/2\n",
            "1146/1146 [==============================] - 5s 4ms/step - loss: 0.7021 - accuracy: 0.7848 - f1_m: 2.0284 - precision_m: 2.2449 - recall_m: 1.8669 - val_loss: 0.5617 - val_accuracy: 0.8188 - val_f1_m: 1.6742 - val_precision_m: 1.7377 - val_recall_m: 1.6225\n",
            "573/573 [==============================] - 2s 3ms/step - loss: 0.5879 - accuracy: 0.8058 - f1_m: 1.6716 - precision_m: 1.7332 - recall_m: 1.6221\n",
            "Epoch 1/2\n",
            "1146/1146 [==============================] - 6s 4ms/step - loss: 1.1797 - accuracy: 0.6558 - f1_m: 3.5703 - precision_m: 21832460.0000 - recall_m: 2.4395 - val_loss: 0.7029 - val_accuracy: 0.7812 - val_f1_m: 1.9722 - val_precision_m: 2.1973 - val_recall_m: 1.8029\n",
            "Epoch 2/2\n",
            "1146/1146 [==============================] - 4s 4ms/step - loss: 0.6901 - accuracy: 0.7771 - f1_m: 1.9154 - precision_m: 2.1008 - recall_m: 1.7717 - val_loss: 0.5471 - val_accuracy: 0.8210 - val_f1_m: 1.6119 - val_precision_m: 1.6767 - val_recall_m: 1.5587\n",
            "573/573 [==============================] - 2s 3ms/step - loss: 0.5615 - accuracy: 0.8156 - f1_m: 1.6296 - precision_m: 1.6914 - recall_m: 1.5797\n",
            "Epoch 1/2\n",
            "1146/1146 [==============================] - 6s 4ms/step - loss: 1.2840 - accuracy: 0.6199 - f1_m: 3.7699 - precision_m: 4895289.5000 - recall_m: 2.5453 - val_loss: 0.7841 - val_accuracy: 0.7698 - val_f1_m: 1.9928 - val_precision_m: 2.2936 - val_recall_m: 1.7748\n",
            "Epoch 2/2\n",
            "1146/1146 [==============================] - 4s 4ms/step - loss: 0.7135 - accuracy: 0.7826 - f1_m: 1.9332 - precision_m: 2.1596 - recall_m: 1.7627 - val_loss: 0.5624 - val_accuracy: 0.8210 - val_f1_m: 1.6776 - val_precision_m: 1.7774 - val_recall_m: 1.5972\n",
            "573/573 [==============================] - 2s 3ms/step - loss: 0.5828 - accuracy: 0.8119 - f1_m: 1.6895 - precision_m: 1.7882 - recall_m: 1.6094\n",
            "Epoch 1/2\n",
            "1146/1146 [==============================] - 6s 5ms/step - loss: 1.5580 - accuracy: 0.4953 - f1_m: 5.4608 - precision_m: 119563696.0000 - recall_m: 3.1082 - val_loss: 1.1520 - val_accuracy: 0.6530 - val_f1_m: 3.6251 - val_precision_m: 6.4498 - val_recall_m: 2.5703\n",
            "Epoch 2/2\n",
            "1146/1146 [==============================] - 5s 4ms/step - loss: 1.0271 - accuracy: 0.6859 - f1_m: 3.0866 - precision_m: 4.5525 - recall_m: 2.3928 - val_loss: 0.8586 - val_accuracy: 0.7298 - val_f1_m: 2.3845 - val_precision_m: 2.9417 - val_recall_m: 2.0336\n",
            "573/573 [==============================] - 2s 3ms/step - loss: 0.8710 - accuracy: 0.7211 - f1_m: 2.4725 - precision_m: 3.0605 - recall_m: 2.0921\n",
            "Epoch 1/2\n",
            "1146/1146 [==============================] - 49s 4ms/step - loss: 1.4920 - accuracy: 0.5320 - f1_m: 4.9685 - precision_m: 82661416.0000 - recall_m: 2.8530 - val_loss: 1.0788 - val_accuracy: 0.6812 - val_f1_m: 3.0914 - val_precision_m: 5.3015 - val_recall_m: 2.2164\n",
            "Epoch 2/2\n",
            "1146/1146 [==============================] - 5s 4ms/step - loss: 0.9587 - accuracy: 0.6982 - f1_m: 2.7013 - precision_m: 3.9619 - recall_m: 2.0733 - val_loss: 0.7544 - val_accuracy: 0.7760 - val_f1_m: 2.1327 - val_precision_m: 2.6617 - val_recall_m: 1.8000\n",
            "573/573 [==============================] - 2s 3ms/step - loss: 0.7652 - accuracy: 0.7659 - f1_m: 2.1454 - precision_m: 2.6463 - recall_m: 1.8194\n",
            "Epoch 1/2\n",
            "1146/1146 [==============================] - 6s 5ms/step - loss: 1.5586 - accuracy: 0.5147 - f1_m: 5.5349 - precision_m: 1038401.4375 - recall_m: 3.2711 - val_loss: 1.0954 - val_accuracy: 0.7102 - val_f1_m: 3.6650 - val_precision_m: 7.2406 - val_recall_m: 2.5128\n",
            "Epoch 2/2\n",
            "1146/1146 [==============================] - 5s 4ms/step - loss: 0.9843 - accuracy: 0.7222 - f1_m: 3.1085 - precision_m: 4.9268 - recall_m: 2.3194 - val_loss: 0.7604 - val_accuracy: 0.7770 - val_f1_m: 2.2246 - val_precision_m: 2.7220 - val_recall_m: 1.8913\n",
            "573/573 [==============================] - 2s 3ms/step - loss: 0.7746 - accuracy: 0.7697 - f1_m: 2.2809 - precision_m: 2.8435 - recall_m: 1.9172\n",
            "Epoch 1/2\n",
            "1146/1146 [==============================] - 7s 5ms/step - loss: 2.0743 - accuracy: 0.1826 - f1_m: 7.3987 - precision_m: 1064127488.0000 - recall_m: 3.6994 - val_loss: 1.8972 - val_accuracy: 0.1934 - val_f1_m: 5.7679 - val_precision_m: 832611584.0000 - val_recall_m: 2.8839\n",
            "Epoch 2/2\n",
            "1146/1146 [==============================] - 5s 4ms/step - loss: 1.8481 - accuracy: 0.1998 - f1_m: 6.2508 - precision_m: 899493696.0000 - recall_m: 3.1254 - val_loss: 1.7726 - val_accuracy: 0.1930 - val_f1_m: 6.5555 - val_precision_m: 947388736.0000 - val_recall_m: 3.2778\n",
            "573/573 [==============================] - 2s 3ms/step - loss: 1.7668 - accuracy: 0.2007 - f1_m: 6.6940 - precision_m: 964048640.0000 - recall_m: 3.3470\n",
            "Epoch 1/2\n",
            "1146/1146 [==============================] - 7s 5ms/step - loss: 2.1852 - accuracy: 0.1571 - f1_m: 8.8771 - precision_m: 1277479040.0000 - recall_m: 4.4385 - val_loss: 2.0373 - val_accuracy: 0.1976 - val_f1_m: 7.6256 - val_precision_m: 1101082880.0000 - val_recall_m: 3.8128\n",
            "Epoch 2/2\n",
            "1146/1146 [==============================] - 5s 5ms/step - loss: 1.9710 - accuracy: 0.1899 - f1_m: 7.1662 - precision_m: 1031684160.0000 - recall_m: 3.5831 - val_loss: 1.8993 - val_accuracy: 0.1984 - val_f1_m: 6.8130 - val_precision_m: 983184768.0000 - val_recall_m: 3.4065\n",
            "573/573 [==============================] - 2s 3ms/step - loss: 1.9046 - accuracy: 0.1883 - f1_m: 6.9978 - precision_m: 1005515520.0000 - recall_m: 3.4989\n",
            "Epoch 1/2\n",
            "1146/1146 [==============================] - 7s 5ms/step - loss: 2.0769 - accuracy: 0.1879 - f1_m: 7.8934 - precision_m: 1135524480.0000 - recall_m: 3.9467 - val_loss: 1.9572 - val_accuracy: 0.2022 - val_f1_m: 7.5308 - val_precision_m: 1088152704.0000 - val_recall_m: 3.7654\n",
            "Epoch 2/2\n",
            "1146/1146 [==============================] - 5s 5ms/step - loss: 1.8916 - accuracy: 0.2060 - f1_m: 7.6191 - precision_m: 1096195584.0000 - recall_m: 3.8095 - val_loss: 1.8073 - val_accuracy: 0.2320 - val_f1_m: 7.5024 - val_precision_m: 1084331648.0000 - val_recall_m: 3.7512\n",
            "573/573 [==============================] - 2s 3ms/step - loss: 1.8038 - accuracy: 0.2339 - f1_m: 7.4586 - precision_m: 1073351232.0000 - recall_m: 3.7293\n",
            "Epoch 1/2\n",
            "1719/1719 [==============================] - 9s 4ms/step - loss: 1.0721 - accuracy: 0.6840 - f1_m: 3.2027 - precision_m: 23467128.0000 - recall_m: 2.2733 - val_loss: 0.5866 - val_accuracy: 0.8252 - val_f1_m: 1.6536 - val_precision_m: 1.7217 - val_recall_m: 1.5982\n",
            "Epoch 2/2\n",
            "1719/1719 [==============================] - 7s 4ms/step - loss: 0.5651 - accuracy: 0.8157 - f1_m: 1.5786 - precision_m: 1.6144 - recall_m: 1.5507 - val_loss: 0.4709 - val_accuracy: 0.8432 - val_f1_m: 1.4209 - val_precision_m: 1.4204 - val_recall_m: 1.4263\n"
          ],
          "name": "stdout"
        },
        {
          "output_type": "execute_result",
          "data": {
            "text/plain": [
              "RandomizedSearchCV(cv=3, error_score=nan,\n",
              "                   estimator=<tensorflow.python.keras.wrappers.scikit_learn.KerasClassifier object at 0x7efc6e132510>,\n",
              "                   iid='deprecated', n_iter=3, n_jobs=1,\n",
              "                   param_distributions={'hidden_layers': (1, 2, 3, 4),\n",
              "                                        'layer_size': (1, 2, 3, 4, 5, 6, 7, 8,\n",
              "                                                       9),\n",
              "                                        'learning_rate': <scipy.stats._distn_infrastructure.rv_frozen object at 0x7efc6e229d90>},\n",
              "                   pre_dispatch='2*n_jobs', random_state=None, refit=True,\n",
              "                   return_train_score=False, scoring=None, verbose=0)"
            ]
          },
          "metadata": {
            "tags": []
          },
          "execution_count": 53
        },
        {
          "output_type": "stream",
          "text": [
            "time: 3min 29s (started: 2021-08-05 22:47:48 +00:00)\n"
          ],
          "name": "stdout"
        }
      ]
    },
    {
      "cell_type": "markdown",
      "metadata": {
        "id": "UqAUyxiXgLQk"
      },
      "source": [
        "3个CV，每次训练两次"
      ]
    },
    {
      "cell_type": "code",
      "metadata": {
        "id": "A1qP3VCIapql",
        "colab": {
          "base_uri": "https://localhost:8080/"
        },
        "outputId": "43e0cfcc-d525-4c35-899f-1ba4be53a8cb"
      },
      "source": [
        "#plot_learning_curves(random_search_cv)"
      ],
      "execution_count": null,
      "outputs": [
        {
          "output_type": "stream",
          "text": [
            "time: 6.51 ms (started: 2021-08-05 22:53:34 +00:00)\n"
          ],
          "name": "stdout"
        }
      ]
    },
    {
      "cell_type": "markdown",
      "metadata": {
        "id": "TILNIIWKhorV"
      },
      "source": [
        "## 选取最好的模型以及其参数"
      ]
    },
    {
      "cell_type": "code",
      "metadata": {
        "id": "xM9gecY_aplY",
        "colab": {
          "base_uri": "https://localhost:8080/"
        },
        "outputId": "ee779aee-c58a-4c9a-c009-fe6a1d8b2b88"
      },
      "source": [
        "print(random_search_cv.best_params_)  # 最好的参数\n",
        "print(random_search_cv.best_score_)   # 最好的分值\n",
        "print(random_search_cv.best_estimator_) # 最好的model，可以save下来"
      ],
      "execution_count": null,
      "outputs": [
        {
          "output_type": "stream",
          "text": [
            "{'hidden_layers': 3, 'layer_size': 9, 'learning_rate': 0.00032558561390169205}\n",
            "0.8110910058021545\n",
            "<tensorflow.python.keras.wrappers.scikit_learn.KerasClassifier object at 0x7efc60050890>\n",
            "time: 2.23 ms (started: 2021-08-05 22:52:41 +00:00)\n"
          ],
          "name": "stdout"
        }
      ]
    },
    {
      "cell_type": "code",
      "metadata": {
        "colab": {
          "base_uri": "https://localhost:8080/"
        },
        "id": "DKBIqy4dhBHR",
        "outputId": "38114e20-26ca-43ad-c481-f1780673e298"
      },
      "source": [
        "model = random_search_cv.best_estimator_.model\n",
        "model.evaluate(x_test_scaled, y_test)"
      ],
      "execution_count": null,
      "outputs": [
        {
          "output_type": "stream",
          "text": [
            "313/313 [==============================] - 1s 3ms/step - loss: 0.5109 - accuracy: 0.8243 - f1_m: 1.4306 - precision_m: 1.4271 - recall_m: 1.4382\n"
          ],
          "name": "stdout"
        },
        {
          "output_type": "execute_result",
          "data": {
            "text/plain": [
              "[0.5109321475028992,\n",
              " 0.8242999911308289,\n",
              " 1.4305968284606934,\n",
              " 1.4270997047424316,\n",
              " 1.438218116760254]"
            ]
          },
          "metadata": {
            "tags": []
          },
          "execution_count": 59
        },
        {
          "output_type": "stream",
          "text": [
            "time: 1.31 s (started: 2021-08-05 22:54:03 +00:00)\n"
          ],
          "name": "stdout"
        }
      ]
    },
    {
      "cell_type": "code",
      "metadata": {
        "id": "wqdMABHLhQYy"
      },
      "source": [
        ""
      ],
      "execution_count": null,
      "outputs": []
    }
  ]
}