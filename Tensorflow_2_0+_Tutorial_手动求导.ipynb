{
  "nbformat": 4,
  "nbformat_minor": 0,
  "metadata": {
    "colab": {
      "name": "Tensorflow 2.0+ Tutorial.ipynb",
      "provenance": [],
      "collapsed_sections": [],
      "toc_visible": true,
      "authorship_tag": "ABX9TyPUQuzkOIl4G3QPLXbk3Bla",
      "include_colab_link": true
    },
    "kernelspec": {
      "name": "python3",
      "display_name": "Python 3"
    },
    "accelerator": "GPU"
  },
  "cells": [
    {
      "cell_type": "markdown",
      "metadata": {
        "id": "view-in-github",
        "colab_type": "text"
      },
      "source": [
        "<a href=\"https://colab.research.google.com/github/DarKenW/tensorflow-dojo/blob/main/Tensorflow_2_0%2B_Tutorial.ipynb\" target=\"_parent\"><img src=\"https://colab.research.google.com/assets/colab-badge.svg\" alt=\"Open In Colab\"/></a>"
      ]
    },
    {
      "cell_type": "markdown",
      "metadata": {
        "id": "owiNLgXwOylL"
      },
      "source": [
        "Tutorial Youtube Channel: [Netease Cloud Classroom: Tensorflow 2.0 Best Practice](https://www.youtube.com/playlist?list=PLh7DRwYmUgh7swOvZUZ52LMeGDmjFH0nv)\n",
        "\n",
        "Tutorial Code Repo: [dragen1860/TensorFlow-2.x-Tutorials\n",
        "](https://github.com/dragen1860/TensorFlow-2.x-Tutorials)"
      ]
    },
    {
      "cell_type": "markdown",
      "metadata": {
        "id": "ECD3VbyvzKGi"
      },
      "source": [
        "\n",
        "\n",
        "First of all, we need to remember these *Hero* contributes to the sucess of deep learning since 2012:\n",
        "- Big Data\n",
        "- ReLU\n",
        "- Dropout\n",
        "- BatchNorm\n",
        "- ResNet\n",
        "- Xavier Initialization\n",
        "- Frameworks such as Caffe/Tensorflow/PyTorch\n",
        "- ..."
      ]
    },
    {
      "cell_type": "markdown",
      "metadata": {
        "id": "9dl4uqXIOzEs"
      },
      "source": [
        "# Simple Linear Regression (Numpy)"
      ]
    },
    {
      "cell_type": "code",
      "metadata": {
        "id": "dnnaWR-0KfTr"
      },
      "source": [
        "import pandas as pd\n",
        "\n",
        "# put the github url of raw data\n",
        "url = 'https://raw.githubusercontent.com/dragen1860/TensorFlow-2.x-Tutorials/master/%E6%B7%B1%E5%BA%A6%E5%AD%A6%E4%B9%A0%E4%B8%8ETensorFlow%E5%85%A5%E9%97%A8%E5%AE%9E%E6%88%98-%E6%BA%90%E7%A0%81%E5%92%8CPPT/lesson04-%E5%9B%9E%E5%BD%92%E9%97%AE%E9%A2%98%E5%AE%9E%E6%88%98/data.csv'\n",
        "df = pd.read_csv(url, index_col=0)\n",
        "df.to_csv('data.csv')"
      ],
      "execution_count": null,
      "outputs": []
    },
    {
      "cell_type": "code",
      "metadata": {
        "colab": {
          "base_uri": "https://localhost:8080/"
        },
        "id": "5DR2NyyxKsIP",
        "outputId": "37d2b795-a5a9-4d4e-9c2d-e75e34c46c2b"
      },
      "source": [
        "ls"
      ],
      "execution_count": null,
      "outputs": [
        {
          "output_type": "stream",
          "text": [
            "data.csv  \u001b[0m\u001b[01;34msample_data\u001b[0m/\n"
          ],
          "name": "stdout"
        }
      ]
    },
    {
      "cell_type": "code",
      "metadata": {
        "id": "p97vh168J8Ya"
      },
      "source": [
        "import numpy as np"
      ],
      "execution_count": null,
      "outputs": []
    },
    {
      "cell_type": "markdown",
      "metadata": {
        "id": "h4oPr_exO7p9"
      },
      "source": [
        "Iteration Steps:\n",
        "1. calculate loss \n",
        "2. calculate gradient (by take derivative of loss)\n",
        "3. update gradient"
      ]
    },
    {
      "cell_type": "code",
      "metadata": {
        "id": "fkJ9vdTV-k8E"
      },
      "source": [
        "# y = wx + b\n",
        "def compute_error_for_line_given_points(b, w, points):\n",
        "    totalError = 0\n",
        "    for i in range(0, len(points)):\n",
        "        x = points[i, 0]\n",
        "        y = points[i, 1]\n",
        "        # computer mean-squared-error\n",
        "        totalError += (y - (w * x + b)) ** 2\n",
        "    # average loss for each point\n",
        "    return totalError / float(len(points))"
      ],
      "execution_count": null,
      "outputs": []
    },
    {
      "cell_type": "code",
      "metadata": {
        "id": "txlACwaEA6PD"
      },
      "source": [
        "def step_gradient(b_current, w_current, points, learningRate):\n",
        "    b_gradient = 0\n",
        "    w_gradient = 0\n",
        "    N = float(len(points))\n",
        "    for i in range(0, len(points)):\n",
        "        x = points[i, 0]\n",
        "        y = points[i, 1]\n",
        "        # grad_b = 2(wx+b-y)    #loss function对b求偏导\n",
        "        b_gradient += (2/N) * ((w_current * x + b_current) - y)\n",
        "        # grad_w = 2(wx+b-y)*x  #loss function对w求偏导\n",
        "        w_gradient += (2/N) * x * ((w_current * x + b_current) - y)\n",
        "    # update b'，w'\n",
        "    new_b = b_current - (learningRate * b_gradient)\n",
        "    new_w = w_current - (learningRate * w_gradient)\n",
        "    return [new_b, new_w]"
      ],
      "execution_count": null,
      "outputs": []
    },
    {
      "cell_type": "code",
      "metadata": {
        "id": "ZA8tbowzI1Eb"
      },
      "source": [
        "def gradient_descent_runner(points, starting_b, starting_w, learning_rate, num_iterations):\n",
        "    b = starting_b\n",
        "    w = starting_w\n",
        "    # update for several times\n",
        "    for i in range(num_iterations):\n",
        "        b, w = step_gradient(b, w, np.array(points), learning_rate)\n",
        "    return [b, w]"
      ],
      "execution_count": null,
      "outputs": []
    },
    {
      "cell_type": "code",
      "metadata": {
        "id": "rAWFWIARI1B3"
      },
      "source": [
        "\n",
        "def run():\n",
        "\t\n",
        "    points = np.genfromtxt(\"data.csv\", delimiter=\",\")\n",
        "    learning_rate = 0.0001\n",
        "    initial_b = 0 # initial y-intercept guess\n",
        "    initial_w = 0 # initial slope guess\n",
        "    num_iterations = 1000\n",
        "    print(\"Starting gradient descent at b = {0}, w = {1}, error = {2}\"\n",
        "          .format(initial_b, initial_w,\n",
        "                  compute_error_for_line_given_points(initial_b, initial_w, points))\n",
        "          )\n",
        "    print(\"Running...\")\n",
        "    [b, w] = gradient_descent_runner(points, initial_b, initial_w, learning_rate, num_iterations)\n",
        "    print(\"After {0} iterations b = {1}, w = {2}, error = {3}\".\n",
        "          format(num_iterations, b, w,\n",
        "                 compute_error_for_line_given_points(b, w, points))\n",
        "          )\n",
        "  "
      ],
      "execution_count": null,
      "outputs": []
    },
    {
      "cell_type": "code",
      "metadata": {
        "colab": {
          "base_uri": "https://localhost:8080/"
        },
        "id": "vuiBltR8I0_n",
        "outputId": "7a865a8f-311a-432f-dc2f-9e1fe8744cfc"
      },
      "source": [
        "run()"
      ],
      "execution_count": null,
      "outputs": [
        {
          "output_type": "stream",
          "text": [
            "Starting gradient descent at b = 0, w = 0, error = 5565.10783448321\n",
            "Running...\n",
            "After 1000 iterations b = 0.08893651993741353, w = 1.4777440851894448, error = 112.61481011613472\n"
          ],
          "name": "stdout"
        }
      ]
    },
    {
      "cell_type": "markdown",
      "metadata": {
        "id": "V5UiYrQ4ezZl"
      },
      "source": [
        "# Simple Classification (MINIST)\n",
        "\n",
        "\n",
        "iteration steps:\n",
        "1. compute [h1, h2, out]\n",
        "2. compute loss (MSE of predicted one hot  and actual one hot)\n",
        "3. compute gradient and update [W1', b1', W2', b2', W3', B3']\n",
        "4. Loop"
      ]
    },
    {
      "cell_type": "code",
      "metadata": {
        "colab": {
          "base_uri": "https://localhost:8080/"
        },
        "id": "pLCErMfDjsx6",
        "outputId": "c22264fe-9b74-47b3-f04d-04607845da9f"
      },
      "source": [
        "import  os\n",
        "os.environ['TF_CPP_MIN_LOG_LEVEL']='2'\n",
        "\n",
        "import  tensorflow as tf\n",
        "from    tensorflow import keras\n",
        "from    tensorflow.keras import layers, optimizers, datasets\n",
        "\n",
        "(x, y), (x_val, y_val) = datasets.mnist.load_data() \n",
        "print(type(x))\n",
        "\n",
        "x = tf.convert_to_tensor(x, dtype=tf.float32) / 255.     # convert numpy array to tensor\n",
        "y = tf.convert_to_tensor(y, dtype=tf.int32)\n",
        "y = tf.one_hot(y, depth=10)\n",
        "\n",
        "print(x.shape, x[0].shape, y.shape, y[0].shape) "
      ],
      "execution_count": null,
      "outputs": [
        {
          "output_type": "stream",
          "text": [
            "Downloading data from https://storage.googleapis.com/tensorflow/tf-keras-datasets/mnist.npz\n",
            "11493376/11490434 [==============================] - 0s 0us/step\n",
            "<class 'numpy.ndarray'>\n",
            "(60000, 28, 28) (28, 28) (60000, 10) (10,)\n"
          ],
          "name": "stdout"
        }
      ]
    },
    {
      "cell_type": "markdown",
      "metadata": {
        "id": "VNebrWO6l7xI"
      },
      "source": [
        "60000 pics/data points, each pic has 28 by 28 pixel\n",
        "\n",
        "each y array is a 1 by 10 size vector"
      ]
    },
    {
      "cell_type": "code",
      "metadata": {
        "colab": {
          "base_uri": "https://localhost:8080/"
        },
        "id": "5H9vO0VHj0ud",
        "outputId": "ca2a9666-ae6c-435e-8daf-bf0086909f3a"
      },
      "source": [
        "(xs, ys), _ = datasets.mnist.load_data() \n",
        "\n",
        "db = tf.data.Dataset.from_tensor_slices((xs, ys))\n",
        "\n",
        "for step, (x, y) in enumerate(db):\n",
        "  if step < 3:\n",
        "    print(step, x.shape, y, y.shape)"
      ],
      "execution_count": null,
      "outputs": [
        {
          "output_type": "stream",
          "text": [
            "0 (28, 28) tf.Tensor(5, shape=(), dtype=uint8) ()\n",
            "1 (28, 28) tf.Tensor(0, shape=(), dtype=uint8) ()\n",
            "2 (28, 28) tf.Tensor(4, shape=(), dtype=uint8) ()\n"
          ],
          "name": "stdout"
        }
      ]
    },
    {
      "cell_type": "code",
      "metadata": {
        "colab": {
          "base_uri": "https://localhost:8080/"
        },
        "id": "ghQcBtDBmSPK",
        "outputId": "806b39de-ae09-451e-a0af-dcad5eb40c8b"
      },
      "source": [
        "(xs, ys), _ = datasets.mnist.load_data() \n",
        "\n",
        "db = tf.data.Dataset.from_tensor_slices((xs, ys)).batch(10)   # feed 10 pics each batch\n",
        "\n",
        "for step, (x, y) in enumerate(db):\n",
        "  if step < 3:\n",
        "    print(step, x.shape, y, y.shape)"
      ],
      "execution_count": null,
      "outputs": [
        {
          "output_type": "stream",
          "text": [
            "0 (10, 28, 28) tf.Tensor([5 0 4 1 9 2 1 3 1 4], shape=(10,), dtype=uint8) (10,)\n",
            "1 (10, 28, 28) tf.Tensor([3 5 3 6 1 7 2 8 6 9], shape=(10,), dtype=uint8) (10,)\n",
            "2 (10, 28, 28) tf.Tensor([4 0 9 1 1 2 4 3 2 7], shape=(10,), dtype=uint8) (10,)\n"
          ],
          "name": "stdout"
        }
      ]
    },
    {
      "cell_type": "markdown",
      "metadata": {
        "id": "ZFDxcMz_46uM"
      },
      "source": [
        "![](https://miro.medium.com/max/3744/1*SGPGG7oeSvVlV5sOSQ2iZw.png)"
      ]
    },
    {
      "cell_type": "code",
      "metadata": {
        "id": "Tp5yzSORDDdn"
      },
      "source": [
        ""
      ],
      "execution_count": null,
      "outputs": []
    },
    {
      "cell_type": "code",
      "metadata": {
        "colab": {
          "base_uri": "https://localhost:8080/"
        },
        "id": "dkDCYOZPI0-A",
        "outputId": "c8f78045-1672-4512-f7ee-267afba73582"
      },
      "source": [
        "BATCH_SIZE = 200\n",
        "\n",
        "\n",
        "import  os\n",
        "os.environ['TF_CPP_MIN_LOG_LEVEL']='2'\n",
        "\n",
        "import  tensorflow as tf\n",
        "from    tensorflow import keras\n",
        "from    tensorflow.keras import layers, optimizers, datasets\n",
        "\n",
        "# Data preparation\n",
        "(x, y), (x_val, y_val) = datasets.mnist.load_data() \n",
        "x = tf.convert_to_tensor(x, dtype=tf.float32) / 255.    # convert numpy array to tensor\n",
        "y = tf.convert_to_tensor(y, dtype=tf.int32)\n",
        "y = tf.one_hot(y, depth=10)                             # convert label col to one hot encoding\n",
        "\n",
        "print(x.shape, y.shape)\n",
        "\n",
        "train_dataset = tf.data.Dataset.from_tensor_slices((x, y))   # tf 2.0 new feature: batch parellel processing\n",
        "train_dataset = train_dataset.batch(BATCH_SIZE)   # feed 200 pics each batch, steps in each epoch = DATA_SIZE/BATCH_SIZE, if set BATCH_SIZE = 1 then we need to take\n",
        "                                                  # the greater BATCH_SIZE, the fewer steps need to run each epoch\n",
        " \n",
        "\n",
        "# Model preparation\n",
        "model = keras.Sequential([ \n",
        "    layers.Dense(512, activation='relu'),    #Dense means Fully Connected Layer which learns non-linear combination of features extracted and compress to lower dim for classification\n",
        "    layers.Dense(256, activation='relu'),    # dim 512 -> dim 256\n",
        "    layers.Dense(10)])                       # dim 256 -> dim 10\n",
        "\n",
        "# w' = w - learning rate * (dL / dw)\n",
        "optimizer = optimizers.SGD(learning_rate=0.001)   # optimizers optimize the parameter updating process in back propargation phrase\n",
        "\n",
        "\n",
        "\n",
        "# kick out training process\n",
        "# Step1. compute output\n",
        "# Step2. compute loss\n",
        "# Step3. optimize, calculate gradients and update w1, w2, w3, b1, b2, b3\n",
        "\n",
        "\n",
        "# DATA_SIZE = x.shape[0]\n",
        "\n",
        "def train_epoch(epoch):\n",
        "\n",
        "    # Step4.loop\n",
        "    for step, (x, y) in enumerate(train_dataset):\n",
        "\n",
        "\n",
        "        with tf.GradientTape() as tape:  \n",
        "            # [b, 28, 28] => [b, 784]  b means \"batch\" here, we set batch size = 200 above  \n",
        "            x = tf.reshape(x, (-1, 28*28))\n",
        "\n",
        "            # Step1. compute output\n",
        "            # [b, 784] => [b, 512] => [b, 256] => [b, 10]\n",
        "            out = model(x)\n",
        "\n",
        "            # Step2. compute loss\n",
        "            loss = tf.reduce_sum(tf.square(out - y)) / x.shape[0]       # Loss = 1/N * sum[(y-out)^2]\n",
        "\n",
        "        # Step3. optimize, calculate gradients and update w1, w2, w3, b1, b2, b3\n",
        "        grads = tape.gradient(loss, model.trainable_variables)          # TF 2.0 can auto calculate gradients/partial derivatives of each parameters of each layer\n",
        "        \n",
        "        # update w1, w2, w3, b1, b2, b3\n",
        "        # w' = w - lr * grad   \n",
        "        optimizer.apply_gradients(zip(grads, model.trainable_variables))  # update parameters by using calculated gradients\n",
        "\n",
        "        if step % 10 == 0:\n",
        "            print(epoch, step, 'loss:', loss.numpy())\n",
        "\n",
        "\n",
        "\n",
        "def train():\n",
        "\n",
        "    #EPOCH = int(DATA_SIZE / BATCH_SIZE)\n",
        "\n",
        "    for epoch in range(30):\n",
        "\n",
        "        train_epoch(epoch)"
      ],
      "execution_count": null,
      "outputs": [
        {
          "output_type": "stream",
          "text": [
            "(60000, 28, 28) (60000, 10)\n"
          ],
          "name": "stdout"
        }
      ]
    },
    {
      "cell_type": "code",
      "metadata": {
        "colab": {
          "base_uri": "https://localhost:8080/"
        },
        "id": "6wT0PYq9I03f",
        "outputId": "8efbe1ff-890f-4381-9009-45bcf36c5192"
      },
      "source": [
        "DATA_SIZE = x.shape[0]\n",
        "#ATCH_SIZE = 600\n",
        "\n",
        "# there are 30 epochs, and in each epoch, there are 300 (= DATA_SIZE / BATCH_SIZE) steps\n",
        "train()"
      ],
      "execution_count": null,
      "outputs": [
        {
          "output_type": "stream",
          "text": [
            "0 0 loss: 1.9211751\n",
            "0 10 loss: 1.3088969\n",
            "0 20 loss: 1.1034355\n",
            "0 30 loss: 1.0043306\n",
            "0 40 loss: 0.98944694\n",
            "0 50 loss: 0.9430258\n",
            "0 60 loss: 0.9480988\n",
            "0 70 loss: 0.9556056\n",
            "0 80 loss: 0.9227163\n",
            "0 90 loss: 0.90278727\n",
            "0 100 loss: 0.9153464\n",
            "0 110 loss: 0.88243955\n",
            "0 120 loss: 0.81762123\n",
            "0 130 loss: 0.80281067\n",
            "0 140 loss: 0.7477316\n",
            "0 150 loss: 0.8343726\n",
            "0 160 loss: 0.75582296\n",
            "0 170 loss: 0.7841326\n",
            "0 180 loss: 0.7650756\n",
            "0 190 loss: 0.7546248\n",
            "0 200 loss: 0.7275849\n",
            "0 210 loss: 0.72219205\n",
            "0 220 loss: 0.78244156\n",
            "0 230 loss: 0.7443032\n",
            "0 240 loss: 0.6900959\n",
            "0 250 loss: 0.6982196\n",
            "0 260 loss: 0.77524817\n",
            "0 270 loss: 0.6883738\n",
            "0 280 loss: 0.6788524\n",
            "0 290 loss: 0.638344\n",
            "1 0 loss: 0.6893913\n",
            "1 10 loss: 0.6139842\n",
            "1 20 loss: 0.62859625\n",
            "1 30 loss: 0.57893366\n",
            "1 40 loss: 0.645326\n",
            "1 50 loss: 0.61447775\n",
            "1 60 loss: 0.6228661\n",
            "1 70 loss: 0.6685826\n",
            "1 80 loss: 0.66540307\n",
            "1 90 loss: 0.6209357\n",
            "1 100 loss: 0.6735594\n",
            "1 110 loss: 0.6702347\n",
            "1 120 loss: 0.5918487\n",
            "1 130 loss: 0.56884825\n",
            "1 140 loss: 0.5469582\n",
            "1 150 loss: 0.6658724\n",
            "1 160 loss: 0.5926051\n",
            "1 170 loss: 0.6027443\n",
            "1 180 loss: 0.61145186\n",
            "1 190 loss: 0.59555495\n",
            "1 200 loss: 0.5711517\n",
            "1 210 loss: 0.574485\n",
            "1 220 loss: 0.64389783\n",
            "1 230 loss: 0.61343867\n",
            "1 240 loss: 0.53946775\n",
            "1 250 loss: 0.5694483\n",
            "1 260 loss: 0.6624123\n",
            "1 270 loss: 0.5807262\n",
            "1 280 loss: 0.55447084\n",
            "1 290 loss: 0.5235242\n",
            "2 0 loss: 0.57109904\n",
            "2 10 loss: 0.50762856\n",
            "2 20 loss: 0.5320995\n",
            "2 30 loss: 0.47864243\n",
            "2 40 loss: 0.5515554\n",
            "2 50 loss: 0.5244983\n",
            "2 60 loss: 0.531711\n",
            "2 70 loss: 0.5888288\n",
            "2 80 loss: 0.580428\n",
            "2 90 loss: 0.5237637\n",
            "2 100 loss: 0.5915498\n",
            "2 110 loss: 0.58948773\n",
            "2 120 loss: 0.5163542\n",
            "2 130 loss: 0.4859611\n",
            "2 140 loss: 0.47483167\n",
            "2 150 loss: 0.59833246\n",
            "2 160 loss: 0.5293266\n",
            "2 170 loss: 0.5270025\n",
            "2 180 loss: 0.55008334\n",
            "2 190 loss: 0.5275315\n",
            "2 200 loss: 0.5054709\n",
            "2 210 loss: 0.5137253\n",
            "2 220 loss: 0.5797392\n",
            "2 230 loss: 0.5550485\n",
            "2 240 loss: 0.47164917\n",
            "2 250 loss: 0.5098831\n",
            "2 260 loss: 0.60367686\n",
            "2 270 loss: 0.52850354\n",
            "2 280 loss: 0.4914139\n",
            "2 290 loss: 0.46442825\n",
            "3 0 loss: 0.511191\n",
            "3 10 loss: 0.4539994\n",
            "3 20 loss: 0.4807283\n",
            "3 30 loss: 0.4267943\n",
            "3 40 loss: 0.50074965\n",
            "3 50 loss: 0.47729626\n",
            "3 60 loss: 0.482446\n",
            "3 70 loss: 0.5441962\n",
            "3 80 loss: 0.53282213\n",
            "3 90 loss: 0.46926877\n",
            "3 100 loss: 0.5442699\n",
            "3 110 loss: 0.54175466\n",
            "3 120 loss: 0.47371227\n",
            "3 130 loss: 0.43905526\n",
            "3 140 loss: 0.43366545\n",
            "3 150 loss: 0.5562673\n",
            "3 160 loss: 0.49112445\n",
            "3 170 loss: 0.4805125\n",
            "3 180 loss: 0.51411057\n",
            "3 190 loss: 0.4858283\n",
            "3 200 loss: 0.46547702\n",
            "3 210 loss: 0.47832778\n",
            "3 220 loss: 0.53817946\n",
            "3 230 loss: 0.518861\n",
            "3 240 loss: 0.43024194\n",
            "3 250 loss: 0.47170952\n",
            "3 260 loss: 0.564358\n",
            "3 270 loss: 0.49406907\n",
            "3 280 loss: 0.4502381\n",
            "3 290 loss: 0.42584652\n",
            "4 0 loss: 0.47286308\n",
            "4 10 loss: 0.41905755\n",
            "4 20 loss: 0.44617245\n",
            "4 30 loss: 0.39386323\n",
            "4 40 loss: 0.4668617\n",
            "4 50 loss: 0.4457394\n",
            "4 60 loss: 0.44946563\n",
            "4 70 loss: 0.51320505\n",
            "4 80 loss: 0.50038755\n",
            "4 90 loss: 0.4324594\n",
            "4 100 loss: 0.512074\n",
            "4 110 loss: 0.50879985\n",
            "4 120 loss: 0.4447284\n",
            "4 130 loss: 0.40728703\n",
            "4 140 loss: 0.4055617\n",
            "4 150 loss: 0.5260036\n",
            "4 160 loss: 0.46332023\n",
            "4 170 loss: 0.44713166\n",
            "4 180 loss: 0.488248\n",
            "4 190 loss: 0.45675346\n",
            "4 200 loss: 0.43699113\n",
            "4 210 loss: 0.45317382\n",
            "4 220 loss: 0.50744617\n",
            "4 230 loss: 0.49357513\n",
            "4 240 loss: 0.40127048\n",
            "4 250 loss: 0.4433148\n",
            "4 260 loss: 0.53553337\n",
            "4 270 loss: 0.4683285\n",
            "4 280 loss: 0.4201238\n",
            "4 290 loss: 0.39760506\n",
            "5 0 loss: 0.445303\n",
            "5 10 loss: 0.39360988\n",
            "5 20 loss: 0.4201821\n",
            "5 30 loss: 0.37033343\n",
            "5 40 loss: 0.44154575\n",
            "5 50 loss: 0.42165843\n",
            "5 60 loss: 0.42520115\n",
            "5 70 loss: 0.48945263\n",
            "5 80 loss: 0.47610816\n",
            "5 90 loss: 0.40514347\n",
            "5 100 loss: 0.48751187\n",
            "5 110 loss: 0.48369378\n",
            "5 120 loss: 0.42260984\n",
            "5 130 loss: 0.38344365\n",
            "5 140 loss: 0.38431022\n",
            "5 150 loss: 0.50232625\n",
            "5 160 loss: 0.44158652\n",
            "5 170 loss: 0.4212227\n",
            "5 180 loss: 0.46762764\n",
            "5 190 loss: 0.4342259\n",
            "5 200 loss: 0.41504303\n",
            "5 210 loss: 0.43409917\n",
            "5 220 loss: 0.48351017\n",
            "5 230 loss: 0.47409976\n",
            "5 240 loss: 0.37918338\n",
            "5 250 loss: 0.42084134\n",
            "5 260 loss: 0.5127278\n",
            "5 270 loss: 0.4476681\n",
            "5 280 loss: 0.3961821\n",
            "5 290 loss: 0.37540177\n",
            "6 0 loss: 0.42396218\n",
            "6 10 loss: 0.3735225\n",
            "6 20 loss: 0.3994639\n",
            "6 30 loss: 0.35230923\n",
            "6 40 loss: 0.42118967\n",
            "6 50 loss: 0.40210128\n",
            "6 60 loss: 0.40610695\n",
            "6 70 loss: 0.46998146\n",
            "6 80 loss: 0.4565834\n",
            "6 90 loss: 0.3833645\n",
            "6 100 loss: 0.46757042\n",
            "6 110 loss: 0.46359965\n",
            "6 120 loss: 0.4044732\n",
            "6 130 loss: 0.36442807\n",
            "6 140 loss: 0.36739433\n",
            "6 150 loss: 0.48294204\n",
            "6 160 loss: 0.42362005\n",
            "6 170 loss: 0.400101\n",
            "6 180 loss: 0.45042285\n",
            "6 190 loss: 0.41578588\n",
            "6 200 loss: 0.39743897\n",
            "6 210 loss: 0.41859192\n",
            "6 220 loss: 0.46375614\n",
            "6 230 loss: 0.45792615\n",
            "6 240 loss: 0.3618885\n",
            "6 250 loss: 0.40243962\n",
            "6 260 loss: 0.4939273\n",
            "6 270 loss: 0.43017197\n",
            "6 280 loss: 0.37666276\n",
            "6 290 loss: 0.35726112\n",
            "7 0 loss: 0.40650603\n",
            "7 10 loss: 0.35707164\n",
            "7 20 loss: 0.382259\n",
            "7 30 loss: 0.33766097\n",
            "7 40 loss: 0.40424713\n",
            "7 50 loss: 0.38560596\n",
            "7 60 loss: 0.39027554\n",
            "7 70 loss: 0.45353588\n",
            "7 80 loss: 0.44028667\n",
            "7 90 loss: 0.36541024\n",
            "7 100 loss: 0.45055047\n",
            "7 110 loss: 0.44662368\n",
            "7 120 loss: 0.38925993\n",
            "7 130 loss: 0.34865403\n",
            "7 140 loss: 0.35302544\n",
            "7 150 loss: 0.46667644\n",
            "7 160 loss: 0.40805608\n",
            "7 170 loss: 0.3825071\n",
            "7 180 loss: 0.43582335\n",
            "7 190 loss: 0.40019307\n",
            "7 200 loss: 0.3828189\n",
            "7 210 loss: 0.40550548\n",
            "7 220 loss: 0.4468708\n",
            "7 230 loss: 0.44390756\n",
            "7 240 loss: 0.34764293\n",
            "7 250 loss: 0.38702357\n",
            "7 260 loss: 0.4780777\n",
            "7 270 loss: 0.4151782\n",
            "7 280 loss: 0.36058158\n",
            "7 290 loss: 0.3418071\n",
            "8 0 loss: 0.39160874\n",
            "8 10 loss: 0.3429951\n",
            "8 20 loss: 0.36766532\n",
            "8 30 loss: 0.32528508\n",
            "8 40 loss: 0.38971242\n",
            "8 50 loss: 0.37137097\n",
            "8 60 loss: 0.3767553\n",
            "8 70 loss: 0.43929482\n",
            "8 80 loss: 0.4263031\n",
            "8 90 loss: 0.35024998\n",
            "8 100 loss: 0.43599907\n",
            "8 110 loss: 0.43199366\n",
            "8 120 loss: 0.3762313\n",
            "8 130 loss: 0.3350797\n",
            "8 140 loss: 0.34069175\n",
            "8 150 loss: 0.45262292\n",
            "8 160 loss: 0.3944465\n",
            "8 170 loss: 0.36731002\n",
            "8 180 loss: 0.42296067\n",
            "8 190 loss: 0.38681716\n",
            "8 200 loss: 0.37022498\n",
            "8 210 loss: 0.39393958\n",
            "8 220 loss: 0.43221247\n",
            "8 230 loss: 0.43169823\n",
            "8 240 loss: 0.335559\n",
            "8 250 loss: 0.3736345\n",
            "8 260 loss: 0.46433192\n",
            "8 270 loss: 0.40203708\n",
            "8 280 loss: 0.34674922\n",
            "8 290 loss: 0.32835543\n",
            "9 0 loss: 0.37864125\n",
            "9 10 loss: 0.3306525\n",
            "9 20 loss: 0.35518676\n",
            "9 30 loss: 0.31452405\n",
            "9 40 loss: 0.37697074\n",
            "9 50 loss: 0.3590087\n",
            "9 60 loss: 0.3649379\n",
            "9 70 loss: 0.42666417\n",
            "9 80 loss: 0.41389176\n",
            "9 90 loss: 0.3371993\n",
            "9 100 loss: 0.4231664\n",
            "9 110 loss: 0.41920066\n",
            "9 120 loss: 0.3648415\n",
            "9 130 loss: 0.32320228\n",
            "9 140 loss: 0.33002213\n",
            "9 150 loss: 0.4404511\n",
            "9 160 loss: 0.38257477\n",
            "9 170 loss: 0.35393548\n",
            "9 180 loss: 0.4115461\n",
            "9 190 loss: 0.37514043\n",
            "9 200 loss: 0.3590689\n",
            "9 210 loss: 0.38352302\n",
            "9 220 loss: 0.41931382\n",
            "9 230 loss: 0.4206863\n",
            "9 240 loss: 0.3248546\n",
            "9 250 loss: 0.36158326\n",
            "9 260 loss: 0.45233375\n",
            "9 270 loss: 0.39034\n",
            "9 280 loss: 0.33475792\n",
            "9 290 loss: 0.31647572\n",
            "10 0 loss: 0.36719775\n",
            "10 10 loss: 0.31980172\n",
            "10 20 loss: 0.34436554\n",
            "10 30 loss: 0.3051203\n",
            "10 40 loss: 0.3657499\n",
            "10 50 loss: 0.34805527\n",
            "10 60 loss: 0.35452136\n",
            "10 70 loss: 0.41530028\n",
            "10 80 loss: 0.402774\n",
            "10 90 loss: 0.32563454\n",
            "10 100 loss: 0.41165596\n",
            "10 110 loss: 0.40771973\n",
            "10 120 loss: 0.35484177\n",
            "10 130 loss: 0.31271645\n",
            "10 140 loss: 0.32058072\n",
            "10 150 loss: 0.42976865\n",
            "10 160 loss: 0.3719051\n",
            "10 170 loss: 0.34204945\n",
            "10 180 loss: 0.4013128\n",
            "10 190 loss: 0.36481726\n",
            "10 200 loss: 0.34911674\n",
            "10 210 loss: 0.3741192\n",
            "10 220 loss: 0.40788525\n",
            "10 230 loss: 0.4108482\n",
            "10 240 loss: 0.3155636\n",
            "10 250 loss: 0.35085067\n",
            "10 260 loss: 0.441651\n",
            "10 270 loss: 0.37984136\n",
            "10 280 loss: 0.3241681\n",
            "10 290 loss: 0.305863\n",
            "11 0 loss: 0.3569844\n",
            "11 10 loss: 0.31011045\n",
            "11 20 loss: 0.3347547\n",
            "11 30 loss: 0.29681563\n",
            "11 40 loss: 0.35574177\n",
            "11 50 loss: 0.33809462\n",
            "11 60 loss: 0.34521952\n",
            "11 70 loss: 0.40491346\n",
            "11 80 loss: 0.39263403\n",
            "11 90 loss: 0.31532323\n",
            "11 100 loss: 0.40129665\n",
            "11 110 loss: 0.3973822\n",
            "11 120 loss: 0.34592533\n",
            "11 130 loss: 0.30331916\n",
            "11 140 loss: 0.31215084\n",
            "11 150 loss: 0.42008868\n",
            "11 160 loss: 0.36220485\n",
            "11 170 loss: 0.33142385\n",
            "11 180 loss: 0.39199015\n",
            "11 190 loss: 0.3556182\n",
            "11 200 loss: 0.34008276\n",
            "11 210 loss: 0.36542904\n",
            "11 220 loss: 0.3975557\n",
            "11 230 loss: 0.40202513\n",
            "11 240 loss: 0.30734774\n",
            "11 250 loss: 0.34112903\n",
            "11 260 loss: 0.4320383\n",
            "11 270 loss: 0.37033492\n",
            "11 280 loss: 0.314746\n",
            "11 290 loss: 0.29634708\n",
            "12 0 loss: 0.34781304\n",
            "12 10 loss: 0.30138865\n",
            "12 20 loss: 0.32610458\n",
            "12 30 loss: 0.28934783\n",
            "12 40 loss: 0.34668082\n",
            "12 50 loss: 0.3290183\n",
            "12 60 loss: 0.33681595\n",
            "12 70 loss: 0.39527035\n",
            "12 80 loss: 0.38331586\n",
            "12 90 loss: 0.306038\n",
            "12 100 loss: 0.39180633\n",
            "12 110 loss: 0.38797936\n",
            "12 120 loss: 0.33790714\n",
            "12 130 loss: 0.29482394\n",
            "12 140 loss: 0.30452004\n",
            "12 150 loss: 0.41113603\n",
            "12 160 loss: 0.35341564\n",
            "12 170 loss: 0.32173538\n",
            "12 180 loss: 0.38334823\n",
            "12 190 loss: 0.34739953\n",
            "12 200 loss: 0.3318543\n",
            "12 210 loss: 0.35744685\n",
            "12 220 loss: 0.38818946\n",
            "12 230 loss: 0.39399353\n",
            "12 240 loss: 0.2999186\n",
            "12 250 loss: 0.33229524\n",
            "12 260 loss: 0.42328072\n",
            "12 270 loss: 0.36156425\n",
            "12 280 loss: 0.30622303\n",
            "12 290 loss: 0.28784877\n",
            "13 0 loss: 0.3393946\n",
            "13 10 loss: 0.29346415\n",
            "13 20 loss: 0.31836316\n",
            "13 30 loss: 0.28263742\n",
            "13 40 loss: 0.33858082\n",
            "13 50 loss: 0.32079232\n",
            "13 60 loss: 0.32910416\n",
            "13 70 loss: 0.38633174\n",
            "13 80 loss: 0.37488738\n",
            "13 90 loss: 0.29757887\n",
            "13 100 loss: 0.38302815\n",
            "13 110 loss: 0.37937242\n",
            "13 120 loss: 0.33058056\n",
            "13 130 loss: 0.287127\n",
            "13 140 loss: 0.29761064\n",
            "13 150 loss: 0.4029521\n",
            "13 160 loss: 0.3453886\n",
            "13 170 loss: 0.3128593\n",
            "13 180 loss: 0.37539512\n",
            "13 190 loss: 0.33996743\n",
            "13 200 loss: 0.3243463\n",
            "13 210 loss: 0.35010463\n",
            "13 220 loss: 0.3794915\n",
            "13 230 loss: 0.386552\n",
            "13 240 loss: 0.2931277\n",
            "13 250 loss: 0.32423246\n",
            "13 260 loss: 0.41529095\n",
            "13 270 loss: 0.35347953\n",
            "13 280 loss: 0.29852775\n",
            "13 290 loss: 0.28009245\n",
            "14 0 loss: 0.33162704\n",
            "14 10 loss: 0.28627846\n",
            "14 20 loss: 0.31132108\n",
            "14 30 loss: 0.27646273\n",
            "14 40 loss: 0.33125046\n",
            "14 50 loss: 0.31325614\n",
            "14 60 loss: 0.32202095\n",
            "14 70 loss: 0.37791625\n",
            "14 80 loss: 0.36704817\n",
            "14 90 loss: 0.2898462\n",
            "14 100 loss: 0.3749588\n",
            "14 110 loss: 0.37142307\n",
            "14 120 loss: 0.32386103\n",
            "14 130 loss: 0.28001544\n",
            "14 140 loss: 0.29140583\n",
            "14 150 loss: 0.39541295\n",
            "14 160 loss: 0.33788145\n",
            "14 170 loss: 0.30468854\n",
            "14 180 loss: 0.36805856\n",
            "14 190 loss: 0.3330319\n",
            "14 200 loss: 0.3173661\n",
            "14 210 loss: 0.34321976\n",
            "14 220 loss: 0.3714694\n",
            "14 230 loss: 0.37963107\n",
            "14 240 loss: 0.28692278\n",
            "14 250 loss: 0.31685486\n",
            "14 260 loss: 0.40792304\n",
            "14 270 loss: 0.34599742\n",
            "14 280 loss: 0.2915095\n",
            "14 290 loss: 0.27302793\n",
            "15 0 loss: 0.32448003\n",
            "15 10 loss: 0.27969638\n",
            "15 20 loss: 0.3049478\n",
            "15 30 loss: 0.27086127\n",
            "15 40 loss: 0.32456124\n",
            "15 50 loss: 0.30628985\n",
            "15 60 loss: 0.31551337\n",
            "15 70 loss: 0.37006864\n",
            "15 80 loss: 0.3596982\n",
            "15 90 loss: 0.28278625\n",
            "15 100 loss: 0.36742637\n",
            "15 110 loss: 0.3640928\n",
            "15 120 loss: 0.31766886\n",
            "15 130 loss: 0.27351594\n",
            "15 140 loss: 0.28562766\n",
            "15 150 loss: 0.38841355\n",
            "15 160 loss: 0.3309239\n",
            "15 170 loss: 0.29712746\n",
            "15 180 loss: 0.36125928\n",
            "15 190 loss: 0.32660577\n",
            "15 200 loss: 0.3108852\n",
            "15 210 loss: 0.33678624\n",
            "15 220 loss: 0.36406547\n",
            "15 230 loss: 0.37323365\n",
            "15 240 loss: 0.28125298\n",
            "15 250 loss: 0.31000617\n",
            "15 260 loss: 0.40106586\n",
            "15 270 loss: 0.33902863\n",
            "15 280 loss: 0.28506398\n",
            "15 290 loss: 0.26656127\n",
            "16 0 loss: 0.31781635\n",
            "16 10 loss: 0.27357343\n",
            "16 20 loss: 0.29910544\n",
            "16 30 loss: 0.26575375\n",
            "16 40 loss: 0.31836766\n",
            "16 50 loss: 0.29975915\n",
            "16 60 loss: 0.30947125\n",
            "16 70 loss: 0.3627705\n",
            "16 80 loss: 0.35278144\n",
            "16 90 loss: 0.2763162\n",
            "16 100 loss: 0.3604217\n",
            "16 110 loss: 0.35729071\n",
            "16 120 loss: 0.31188095\n",
            "16 130 loss: 0.2675097\n",
            "16 140 loss: 0.28029114\n",
            "16 150 loss: 0.38195592\n",
            "16 160 loss: 0.32447636\n",
            "16 170 loss: 0.29013303\n",
            "16 180 loss: 0.35495213\n",
            "16 190 loss: 0.3205874\n",
            "16 200 loss: 0.30492294\n",
            "16 210 loss: 0.33069915\n",
            "16 220 loss: 0.35707557\n",
            "16 230 loss: 0.36721697\n",
            "16 240 loss: 0.27602077\n",
            "16 250 loss: 0.30362234\n",
            "16 260 loss: 0.39462638\n",
            "16 270 loss: 0.3324451\n",
            "16 280 loss: 0.27918708\n",
            "16 290 loss: 0.26058963\n",
            "17 0 loss: 0.31154567\n",
            "17 10 loss: 0.2678545\n",
            "17 20 loss: 0.29372853\n",
            "17 30 loss: 0.26090884\n",
            "17 40 loss: 0.31262082\n",
            "17 50 loss: 0.29371476\n",
            "17 60 loss: 0.30386907\n",
            "17 70 loss: 0.3559031\n",
            "17 80 loss: 0.34631616\n",
            "17 90 loss: 0.2703152\n",
            "17 100 loss: 0.35388896\n",
            "17 110 loss: 0.3508844\n",
            "17 120 loss: 0.30650428\n",
            "17 130 loss: 0.26195836\n",
            "17 140 loss: 0.27535576\n",
            "17 150 loss: 0.37598228\n",
            "17 160 loss: 0.31846675\n",
            "17 170 loss: 0.28367984\n",
            "17 180 loss: 0.3489883\n",
            "17 190 loss: 0.31493583\n",
            "17 200 loss: 0.29938042\n",
            "17 210 loss: 0.3249581\n",
            "17 220 loss: 0.35052043\n",
            "17 230 loss: 0.36162442\n",
            "17 240 loss: 0.2711597\n",
            "17 250 loss: 0.29768285\n",
            "17 260 loss: 0.3885626\n",
            "17 270 loss: 0.32630417\n",
            "17 280 loss: 0.27375972\n",
            "17 290 loss: 0.25508526\n",
            "18 0 loss: 0.30556548\n",
            "18 10 loss: 0.26247343\n",
            "18 20 loss: 0.2887455\n",
            "18 30 loss: 0.25634855\n",
            "18 40 loss: 0.30726686\n",
            "18 50 loss: 0.28803548\n",
            "18 60 loss: 0.29863095\n",
            "18 70 loss: 0.34949628\n",
            "18 80 loss: 0.34027204\n",
            "18 90 loss: 0.26471272\n",
            "18 100 loss: 0.34778365\n",
            "18 110 loss: 0.34483105\n",
            "18 120 loss: 0.3014828\n",
            "18 130 loss: 0.25677446\n",
            "18 140 loss: 0.27069512\n",
            "18 150 loss: 0.3702695\n",
            "18 160 loss: 0.31285405\n",
            "18 170 loss: 0.2776436\n",
            "18 180 loss: 0.3433322\n",
            "18 190 loss: 0.30958915\n",
            "18 200 loss: 0.2942352\n",
            "18 210 loss: 0.31947675\n",
            "18 220 loss: 0.3443917\n",
            "18 230 loss: 0.35636035\n",
            "18 240 loss: 0.26657462\n",
            "18 250 loss: 0.29216477\n",
            "18 260 loss: 0.38287026\n",
            "18 270 loss: 0.32054952\n",
            "18 280 loss: 0.26870206\n",
            "18 290 loss: 0.24995607\n",
            "19 0 loss: 0.29995477\n",
            "19 10 loss: 0.25748155\n",
            "19 20 loss: 0.28407747\n",
            "19 30 loss: 0.25207156\n",
            "19 40 loss: 0.30220994\n",
            "19 50 loss: 0.2827385\n",
            "19 60 loss: 0.29370666\n",
            "19 70 loss: 0.34356624\n",
            "19 80 loss: 0.33455592\n",
            "19 90 loss: 0.25947815\n",
            "19 100 loss: 0.3421236\n",
            "19 110 loss: 0.33905593\n",
            "19 120 loss: 0.29677123\n",
            "19 130 loss: 0.25198495\n",
            "19 140 loss: 0.26636726\n",
            "19 150 loss: 0.3648367\n",
            "19 160 loss: 0.30756\n",
            "19 170 loss: 0.2720524\n",
            "19 180 loss: 0.33807427\n",
            "19 190 loss: 0.30455443\n",
            "19 200 loss: 0.28940782\n",
            "19 210 loss: 0.31435737\n",
            "19 220 loss: 0.33861446\n",
            "19 230 loss: 0.35140273\n",
            "19 240 loss: 0.26227757\n",
            "19 250 loss: 0.28697684\n",
            "19 260 loss: 0.37753633\n",
            "19 270 loss: 0.3151095\n",
            "19 280 loss: 0.26403713\n",
            "19 290 loss: 0.24518585\n",
            "20 0 loss: 0.29464093\n",
            "20 10 loss: 0.25294554\n",
            "20 20 loss: 0.279708\n",
            "20 30 loss: 0.24805109\n",
            "20 40 loss: 0.29746392\n",
            "20 50 loss: 0.27779448\n",
            "20 60 loss: 0.28912252\n",
            "20 70 loss: 0.33799985\n",
            "20 80 loss: 0.32917237\n",
            "20 90 loss: 0.2545389\n",
            "20 100 loss: 0.33684388\n",
            "20 110 loss: 0.3335799\n",
            "20 120 loss: 0.292349\n",
            "20 130 loss: 0.24745265\n",
            "20 140 loss: 0.26236737\n",
            "20 150 loss: 0.35966843\n",
            "20 160 loss: 0.30259952\n",
            "20 170 loss: 0.2667765\n",
            "20 180 loss: 0.33315077\n",
            "20 190 loss: 0.29982594\n",
            "20 200 loss: 0.28484765\n",
            "20 210 loss: 0.30952817\n",
            "20 220 loss: 0.33317235\n",
            "20 230 loss: 0.346708\n",
            "20 240 loss: 0.25825414\n",
            "20 250 loss: 0.28204697\n",
            "20 260 loss: 0.37246776\n",
            "20 270 loss: 0.30999967\n",
            "20 280 loss: 0.2597417\n",
            "20 290 loss: 0.24074037\n",
            "21 0 loss: 0.2896006\n",
            "21 10 loss: 0.24871425\n",
            "21 20 loss: 0.27559534\n",
            "21 30 loss: 0.24429828\n",
            "21 40 loss: 0.29300797\n",
            "21 50 loss: 0.27322024\n",
            "21 60 loss: 0.28482807\n",
            "21 70 loss: 0.3327348\n",
            "21 80 loss: 0.32407942\n",
            "21 90 loss: 0.24995424\n",
            "21 100 loss: 0.3318001\n",
            "21 110 loss: 0.32839\n",
            "21 120 loss: 0.28821072\n",
            "21 130 loss: 0.2432062\n",
            "21 140 loss: 0.25857022\n",
            "21 150 loss: 0.3547636\n",
            "21 160 loss: 0.29796803\n",
            "21 170 loss: 0.26183343\n",
            "21 180 loss: 0.3285582\n",
            "21 190 loss: 0.2953314\n",
            "21 200 loss: 0.2805275\n",
            "21 210 loss: 0.3049259\n",
            "21 220 loss: 0.3280837\n",
            "21 230 loss: 0.34229213\n",
            "21 240 loss: 0.25450328\n",
            "21 250 loss: 0.27743927\n",
            "21 260 loss: 0.36763364\n",
            "21 270 loss: 0.3051537\n",
            "21 280 loss: 0.2557481\n",
            "21 290 loss: 0.23654264\n",
            "22 0 loss: 0.2848543\n",
            "22 10 loss: 0.24475901\n",
            "22 20 loss: 0.27174062\n",
            "22 30 loss: 0.24079949\n",
            "22 40 loss: 0.28883544\n",
            "22 50 loss: 0.26891944\n",
            "22 60 loss: 0.28074908\n",
            "22 70 loss: 0.32777116\n",
            "22 80 loss: 0.31927258\n",
            "22 90 loss: 0.245676\n",
            "22 100 loss: 0.32698822\n",
            "22 110 loss: 0.32347602\n",
            "22 120 loss: 0.28430706\n",
            "22 130 loss: 0.2392004\n",
            "22 140 loss: 0.25499308\n",
            "22 150 loss: 0.3500831\n",
            "22 160 loss: 0.29365107\n",
            "22 170 loss: 0.25720266\n",
            "22 180 loss: 0.32419705\n",
            "22 190 loss: 0.29104388\n",
            "22 200 loss: 0.27642936\n",
            "22 210 loss: 0.3005452\n",
            "22 220 loss: 0.32329208\n",
            "22 230 loss: 0.33807334\n",
            "22 240 loss: 0.25096834\n",
            "22 250 loss: 0.27313933\n",
            "22 260 loss: 0.3631048\n",
            "22 270 loss: 0.30059293\n",
            "22 280 loss: 0.25197685\n",
            "22 290 loss: 0.23259306\n",
            "23 0 loss: 0.28036892\n",
            "23 10 loss: 0.24099691\n",
            "23 20 loss: 0.26811373\n",
            "23 30 loss: 0.23747778\n",
            "23 40 loss: 0.2848767\n",
            "23 50 loss: 0.26486126\n",
            "23 60 loss: 0.27685633\n",
            "23 70 loss: 0.32304418\n",
            "23 80 loss: 0.31470367\n",
            "23 90 loss: 0.24165632\n",
            "23 100 loss: 0.32241207\n",
            "23 110 loss: 0.3187353\n",
            "23 120 loss: 0.280574\n",
            "23 130 loss: 0.23545198\n",
            "23 140 loss: 0.25164154\n",
            "23 150 loss: 0.345629\n",
            "23 160 loss: 0.28956082\n",
            "23 170 loss: 0.25281358\n",
            "23 180 loss: 0.3199801\n",
            "23 190 loss: 0.28696445\n",
            "23 200 loss: 0.27255505\n",
            "23 210 loss: 0.29640502\n",
            "23 220 loss: 0.31874725\n",
            "23 230 loss: 0.33406413\n",
            "23 240 loss: 0.24766617\n",
            "23 250 loss: 0.26908726\n",
            "23 260 loss: 0.35880414\n",
            "23 270 loss: 0.2962741\n",
            "23 280 loss: 0.24842696\n",
            "23 290 loss: 0.22888583\n",
            "24 0 loss: 0.2761769\n",
            "24 10 loss: 0.23749755\n",
            "24 20 loss: 0.2647006\n",
            "24 30 loss: 0.23429008\n",
            "24 40 loss: 0.28110793\n",
            "24 50 loss: 0.26101154\n",
            "24 60 loss: 0.2731494\n",
            "24 70 loss: 0.31852198\n",
            "24 80 loss: 0.31035703\n",
            "24 90 loss: 0.23791526\n",
            "24 100 loss: 0.3180627\n",
            "24 110 loss: 0.31419602\n",
            "24 120 loss: 0.27703893\n",
            "24 130 loss: 0.23192592\n",
            "24 140 loss: 0.24845411\n",
            "24 150 loss: 0.34136173\n",
            "24 160 loss: 0.2857122\n",
            "24 170 loss: 0.24870972\n",
            "24 180 loss: 0.31594685\n",
            "24 190 loss: 0.28302875\n",
            "24 200 loss: 0.2688919\n",
            "24 210 loss: 0.2924487\n",
            "24 220 loss: 0.31445664\n",
            "24 230 loss: 0.3302389\n",
            "24 240 loss: 0.2445514\n",
            "24 250 loss: 0.26523826\n",
            "24 260 loss: 0.35467938\n",
            "24 270 loss: 0.29217792\n",
            "24 280 loss: 0.24508682\n",
            "24 290 loss: 0.2254159\n",
            "25 0 loss: 0.27217555\n",
            "25 10 loss: 0.23421109\n",
            "25 20 loss: 0.26149127\n",
            "25 30 loss: 0.2312501\n",
            "25 40 loss: 0.27749342\n",
            "25 50 loss: 0.2573086\n",
            "25 60 loss: 0.2696303\n",
            "25 70 loss: 0.31418586\n",
            "25 80 loss: 0.30621707\n",
            "25 90 loss: 0.23435067\n",
            "25 100 loss: 0.31392667\n",
            "25 110 loss: 0.30988476\n",
            "25 120 loss: 0.27370796\n",
            "25 130 loss: 0.22857209\n",
            "25 140 loss: 0.24546029\n",
            "25 150 loss: 0.33727458\n",
            "25 160 loss: 0.28205895\n",
            "25 170 loss: 0.24481033\n",
            "25 180 loss: 0.31211865\n",
            "25 190 loss: 0.2793146\n",
            "25 200 loss: 0.26533338\n",
            "25 210 loss: 0.28866565\n",
            "25 220 loss: 0.3103544\n",
            "25 230 loss: 0.3265757\n",
            "25 240 loss: 0.24161707\n",
            "25 250 loss: 0.2615844\n",
            "25 260 loss: 0.35075328\n",
            "25 270 loss: 0.28825933\n",
            "25 280 loss: 0.24193871\n",
            "25 290 loss: 0.22212425\n",
            "26 0 loss: 0.26840943\n",
            "26 10 loss: 0.23112339\n",
            "26 20 loss: 0.2585088\n",
            "26 30 loss: 0.22831044\n",
            "26 40 loss: 0.2740485\n",
            "26 50 loss: 0.2537738\n",
            "26 60 loss: 0.2662633\n",
            "26 70 loss: 0.3100132\n",
            "26 80 loss: 0.302259\n",
            "26 90 loss: 0.23095977\n",
            "26 100 loss: 0.30993083\n",
            "26 110 loss: 0.30578473\n",
            "26 120 loss: 0.270519\n",
            "26 130 loss: 0.22539628\n",
            "26 140 loss: 0.24256815\n",
            "26 150 loss: 0.33328655\n",
            "26 160 loss: 0.27856404\n",
            "26 170 loss: 0.24110325\n",
            "26 180 loss: 0.30845916\n",
            "26 190 loss: 0.27571785\n",
            "26 200 loss: 0.26195225\n",
            "26 210 loss: 0.28500235\n",
            "26 220 loss: 0.30643436\n",
            "26 230 loss: 0.32305285\n",
            "26 240 loss: 0.23877034\n",
            "26 250 loss: 0.2580914\n",
            "26 260 loss: 0.34699512\n",
            "26 270 loss: 0.2845065\n",
            "26 280 loss: 0.2389756\n",
            "26 290 loss: 0.21901906\n",
            "27 0 loss: 0.26479733\n",
            "27 10 loss: 0.22819096\n",
            "27 20 loss: 0.255703\n",
            "27 30 loss: 0.22551197\n",
            "27 40 loss: 0.2707475\n",
            "27 50 loss: 0.25043374\n",
            "27 60 loss: 0.26309583\n",
            "27 70 loss: 0.30599126\n",
            "27 80 loss: 0.29849193\n",
            "27 90 loss: 0.22773522\n",
            "27 100 loss: 0.3061451\n",
            "27 110 loss: 0.30188766\n",
            "27 120 loss: 0.2674815\n",
            "27 130 loss: 0.22237961\n",
            "27 140 loss: 0.2397474\n",
            "27 150 loss: 0.32943875\n",
            "27 160 loss: 0.27522126\n",
            "27 170 loss: 0.23752771\n",
            "27 180 loss: 0.30496448\n",
            "27 190 loss: 0.27224338\n",
            "27 200 loss: 0.25870493\n",
            "27 210 loss: 0.28149253\n",
            "27 220 loss: 0.30267882\n",
            "27 230 loss: 0.31968126\n",
            "27 240 loss: 0.23600553\n",
            "27 250 loss: 0.2547569\n",
            "27 260 loss: 0.3434417\n",
            "27 270 loss: 0.28091943\n",
            "27 280 loss: 0.23618495\n",
            "27 290 loss: 0.21609083\n",
            "28 0 loss: 0.2613219\n",
            "28 10 loss: 0.22539681\n",
            "28 20 loss: 0.2530035\n",
            "28 30 loss: 0.22280638\n",
            "28 40 loss: 0.267596\n",
            "28 50 loss: 0.2472241\n",
            "28 60 loss: 0.26008978\n",
            "28 70 loss: 0.30214536\n",
            "28 80 loss: 0.2949164\n",
            "28 90 loss: 0.22468458\n",
            "28 100 loss: 0.3025338\n",
            "28 110 loss: 0.29814613\n",
            "28 120 loss: 0.26455605\n",
            "28 130 loss: 0.2194978\n",
            "28 140 loss: 0.23706116\n",
            "28 150 loss: 0.32574603\n",
            "28 160 loss: 0.27206132\n",
            "28 170 loss: 0.2341319\n",
            "28 180 loss: 0.30163097\n",
            "28 190 loss: 0.26886892\n",
            "28 200 loss: 0.25558808\n",
            "28 210 loss: 0.27813017\n",
            "28 220 loss: 0.29909196\n",
            "28 230 loss: 0.3164385\n",
            "28 240 loss: 0.23333013\n",
            "28 250 loss: 0.25158852\n",
            "28 260 loss: 0.3400105\n",
            "28 270 loss: 0.27746335\n",
            "28 280 loss: 0.2335254\n",
            "28 290 loss: 0.21330562\n",
            "29 0 loss: 0.2580287\n",
            "29 10 loss: 0.22273743\n",
            "29 20 loss: 0.2504107\n",
            "29 30 loss: 0.22020254\n",
            "29 40 loss: 0.2645876\n",
            "29 50 loss: 0.24417932\n",
            "29 60 loss: 0.25718236\n",
            "29 70 loss: 0.2984699\n",
            "29 80 loss: 0.29152545\n",
            "29 90 loss: 0.2217731\n",
            "29 100 loss: 0.29907835\n",
            "29 110 loss: 0.2945327\n",
            "29 120 loss: 0.26175222\n",
            "29 130 loss: 0.21670905\n",
            "29 140 loss: 0.23448025\n",
            "29 150 loss: 0.3221957\n",
            "29 160 loss: 0.26905063\n",
            "29 170 loss: 0.23089191\n",
            "29 180 loss: 0.29842177\n",
            "29 190 loss: 0.265645\n",
            "29 200 loss: 0.25260946\n",
            "29 210 loss: 0.27487662\n",
            "29 220 loss: 0.29565156\n",
            "29 230 loss: 0.31333557\n",
            "29 240 loss: 0.23076159\n",
            "29 250 loss: 0.24855027\n",
            "29 260 loss: 0.33668914\n",
            "29 270 loss: 0.27413502\n",
            "29 280 loss: 0.23100603\n",
            "29 290 loss: 0.21065319\n"
          ],
          "name": "stdout"
        }
      ]
    },
    {
      "cell_type": "markdown",
      "metadata": {
        "id": "4ZO_karVn7bG"
      },
      "source": [
        "# Basic TF Data structure\n",
        "\n",
        "> Lets learn knowledge pieces by pieces first, and we will know why these pieces are so useful when we implement the deep learning network later on.\n",
        "\n"
      ]
    },
    {
      "cell_type": "markdown",
      "metadata": {
        "id": "0hf-VTl-hxoT"
      },
      "source": [
        "\n",
        "## Intro to tensor\n",
        "We usually see a lof of different kinds of tensor, what do they mean:\n",
        "\n",
        "- 4 dim tensor example: `[32, 24, 24, 3]`     \n",
        "  in cv, this 4 dim tensor means 32 pics, each pic is a 24x24 matrix and there are 3 channels: r,g,b\n",
        "- 4 dim tensor example: `[b, seq_len, word_dim]`      \n",
        "  In nlp, this 4 dim tensor means `b` sentences, each sentence consists of `seq_len` words, and each word is a `word_dim` dimension vector\n",
        "- 5 dim tensor example: `[task_num, b, seq_len, word_dim]`      \n",
        "  In meta-learning, this 5 dim tensor means  `task_num` task, `b` sentences, each sentence consists of `seq_len` words, and each word is a `word_dim` dimension vector\n",
        "\n",
        "\n",
        "1. int, float, double\n",
        "2. string\n",
        "3. bool"
      ]
    },
    {
      "cell_type": "code",
      "metadata": {
        "id": "Ml-wZx4WrziZ"
      },
      "source": [
        "import numpy as np"
      ],
      "execution_count": null,
      "outputs": []
    },
    {
      "cell_type": "code",
      "metadata": {
        "colab": {
          "base_uri": "https://localhost:8080/"
        },
        "id": "A3to0a91n7PH",
        "outputId": "134f162e-8381-4f31-81bf-0c3cdc679ea8"
      },
      "source": [
        "tf.constant(1)"
      ],
      "execution_count": null,
      "outputs": [
        {
          "output_type": "execute_result",
          "data": {
            "text/plain": [
              "<tf.Tensor: shape=(), dtype=int32, numpy=1>"
            ]
          },
          "metadata": {
            "tags": []
          },
          "execution_count": 15
        }
      ]
    },
    {
      "cell_type": "code",
      "metadata": {
        "colab": {
          "base_uri": "https://localhost:8080/"
        },
        "id": "F66GCCuYn7LY",
        "outputId": "aef62329-69b4-420d-b1aa-edfa80928d76"
      },
      "source": [
        "tf.constant(1.)"
      ],
      "execution_count": null,
      "outputs": [
        {
          "output_type": "execute_result",
          "data": {
            "text/plain": [
              "<tf.Tensor: shape=(), dtype=float32, numpy=1.0>"
            ]
          },
          "metadata": {
            "tags": []
          },
          "execution_count": 16
        }
      ]
    },
    {
      "cell_type": "code",
      "metadata": {
        "colab": {
          "base_uri": "https://localhost:8080/"
        },
        "id": "OfmO9MmOn7IB",
        "outputId": "44591c96-943d-4781-a126-0e6febce94bd"
      },
      "source": [
        "tf.constant(1, dtype=tf.int32)"
      ],
      "execution_count": null,
      "outputs": [
        {
          "output_type": "execute_result",
          "data": {
            "text/plain": [
              "<tf.Tensor: shape=(), dtype=int32, numpy=1>"
            ]
          },
          "metadata": {
            "tags": []
          },
          "execution_count": 17
        }
      ]
    },
    {
      "cell_type": "code",
      "metadata": {
        "colab": {
          "base_uri": "https://localhost:8080/"
        },
        "id": "TX75yCJFn7Fp",
        "outputId": "9ac97324-aa26-4961-a490-9aa73483cac3"
      },
      "source": [
        "tf.constant(1., dtype=tf.double)"
      ],
      "execution_count": null,
      "outputs": [
        {
          "output_type": "execute_result",
          "data": {
            "text/plain": [
              "<tf.Tensor: shape=(), dtype=float64, numpy=1.0>"
            ]
          },
          "metadata": {
            "tags": []
          },
          "execution_count": 18
        }
      ]
    },
    {
      "cell_type": "code",
      "metadata": {
        "colab": {
          "base_uri": "https://localhost:8080/"
        },
        "id": "_dC9GH1on7Cr",
        "outputId": "c3c9cc29-a044-4322-86f5-c3269ccfcd2f"
      },
      "source": [
        "tf.constant([True, False])"
      ],
      "execution_count": null,
      "outputs": [
        {
          "output_type": "execute_result",
          "data": {
            "text/plain": [
              "<tf.Tensor: shape=(2,), dtype=bool, numpy=array([ True, False])>"
            ]
          },
          "metadata": {
            "tags": []
          },
          "execution_count": 19
        }
      ]
    },
    {
      "cell_type": "code",
      "metadata": {
        "colab": {
          "base_uri": "https://localhost:8080/"
        },
        "id": "dBa3Niayn7Aj",
        "outputId": "37c15dc0-1609-4172-a0ae-520b6755c3a3"
      },
      "source": [
        "tf.constant('hello world')"
      ],
      "execution_count": null,
      "outputs": [
        {
          "output_type": "execute_result",
          "data": {
            "text/plain": [
              "<tf.Tensor: shape=(), dtype=string, numpy=b'hello world'>"
            ]
          },
          "metadata": {
            "tags": []
          },
          "execution_count": 20
        }
      ]
    },
    {
      "cell_type": "markdown",
      "metadata": {
        "id": "oQizGdCFpTcH"
      },
      "source": [
        "tensor type"
      ]
    },
    {
      "cell_type": "code",
      "metadata": {
        "id": "BzjgwvEJn6-w"
      },
      "source": [
        "with tf.device('cpu'):\n",
        "  a = tf.constant(1)\n",
        "\n",
        "with tf.device('gpu'):\n",
        "  b = tf.range(4)"
      ],
      "execution_count": null,
      "outputs": []
    },
    {
      "cell_type": "code",
      "metadata": {
        "colab": {
          "base_uri": "https://localhost:8080/"
        },
        "id": "GdRHqNTPn68b",
        "outputId": "559d36b8-32ac-41c2-878f-269207cbac98"
      },
      "source": [
        "print(a.device)    # tensor a is saved in gpu\n",
        "print(b.device)    # tensor b is saved in gpu"
      ],
      "execution_count": null,
      "outputs": [
        {
          "output_type": "stream",
          "text": [
            "/job:localhost/replica:0/task:0/device:CPU:0\n",
            "/job:localhost/replica:0/task:0/device:GPU:0\n"
          ],
          "name": "stdout"
        }
      ]
    },
    {
      "cell_type": "markdown",
      "metadata": {
        "id": "obP2sX60q8c9"
      },
      "source": [
        "\n",
        "transfer data between gpu and cpu\n",
        "\n",
        "warning: data manipuation cant happen across platform\n"
      ]
    },
    {
      "cell_type": "code",
      "metadata": {
        "colab": {
          "base_uri": "https://localhost:8080/"
        },
        "id": "JPQk0k6jn65C",
        "outputId": "8c9de694-331e-410d-cc2f-004fef44683a"
      },
      "source": [
        "# tensor a is transfered to gpu\n",
        "aa = a.gpu()\n",
        "print(aa.device)"
      ],
      "execution_count": null,
      "outputs": [
        {
          "output_type": "stream",
          "text": [
            "WARNING:tensorflow:From <ipython-input-23-2fc2ecff62a3>:2: _EagerTensorBase.gpu (from tensorflow.python.framework.ops) is deprecated and will be removed in a future version.\n",
            "Instructions for updating:\n",
            "Use tf.identity instead.\n",
            "/job:localhost/replica:0/task:0/device:GPU:0\n"
          ],
          "name": "stdout"
        }
      ]
    },
    {
      "cell_type": "code",
      "metadata": {
        "colab": {
          "base_uri": "https://localhost:8080/"
        },
        "id": "53yGk10Kn62q",
        "outputId": "9d49e5da-ef59-43e1-f13c-363223b5bf4a"
      },
      "source": [
        "b.numpy()   # tf tensor to numpy array"
      ],
      "execution_count": null,
      "outputs": [
        {
          "output_type": "execute_result",
          "data": {
            "text/plain": [
              "array([0, 1, 2, 3], dtype=int32)"
            ]
          },
          "metadata": {
            "tags": []
          },
          "execution_count": 24
        }
      ]
    },
    {
      "cell_type": "code",
      "metadata": {
        "colab": {
          "base_uri": "https://localhost:8080/"
        },
        "id": "cEqLCIAjn60C",
        "outputId": "09e00cd5-8cfe-4d4c-d69b-66a9b74ddd28"
      },
      "source": [
        "b.ndim"
      ],
      "execution_count": null,
      "outputs": [
        {
          "output_type": "execute_result",
          "data": {
            "text/plain": [
              "1"
            ]
          },
          "metadata": {
            "tags": []
          },
          "execution_count": 25
        }
      ]
    },
    {
      "cell_type": "code",
      "metadata": {
        "colab": {
          "base_uri": "https://localhost:8080/"
        },
        "id": "isdLEXKfn6xW",
        "outputId": "3e9fc69b-1528-46d0-dbf9-6dddb8a9927f"
      },
      "source": [
        "b.shape"
      ],
      "execution_count": null,
      "outputs": [
        {
          "output_type": "execute_result",
          "data": {
            "text/plain": [
              "TensorShape([4])"
            ]
          },
          "metadata": {
            "tags": []
          },
          "execution_count": 26
        }
      ]
    },
    {
      "cell_type": "code",
      "metadata": {
        "colab": {
          "base_uri": "https://localhost:8080/"
        },
        "id": "2jMlQP8aqSCU",
        "outputId": "ff270482-a39e-4ae6-ebcd-3e37a1021e70"
      },
      "source": [
        "tf.rank(b)"
      ],
      "execution_count": null,
      "outputs": [
        {
          "output_type": "execute_result",
          "data": {
            "text/plain": [
              "<tf.Tensor: shape=(), dtype=int32, numpy=1>"
            ]
          },
          "metadata": {
            "tags": []
          },
          "execution_count": 27
        }
      ]
    },
    {
      "cell_type": "code",
      "metadata": {
        "colab": {
          "base_uri": "https://localhost:8080/"
        },
        "id": "iGoM7iFJqR9k",
        "outputId": "813d2392-71b7-4e6e-b59d-5b0ec356750a"
      },
      "source": [
        "tf.rank(tf.ones([2,3]))"
      ],
      "execution_count": null,
      "outputs": [
        {
          "output_type": "execute_result",
          "data": {
            "text/plain": [
              "<tf.Tensor: shape=(), dtype=int32, numpy=2>"
            ]
          },
          "metadata": {
            "tags": []
          },
          "execution_count": 28
        }
      ]
    },
    {
      "cell_type": "markdown",
      "metadata": {
        "id": "Z5IocdbIrlzU"
      },
      "source": [
        "check type"
      ]
    },
    {
      "cell_type": "code",
      "metadata": {
        "colab": {
          "base_uri": "https://localhost:8080/"
        },
        "id": "HZSqkBK0qR3r",
        "outputId": "5bd52f0d-f14a-4b97-fd9b-3af61f8e46b5"
      },
      "source": [
        "tf.is_tensor(b)"
      ],
      "execution_count": null,
      "outputs": [
        {
          "output_type": "execute_result",
          "data": {
            "text/plain": [
              "True"
            ]
          },
          "metadata": {
            "tags": []
          },
          "execution_count": 29
        }
      ]
    },
    {
      "cell_type": "code",
      "metadata": {
        "colab": {
          "base_uri": "https://localhost:8080/"
        },
        "id": "L92ZmGRHqR0i",
        "outputId": "f29c7e5f-10dc-4988-b6d0-ba3658bb082d"
      },
      "source": [
        "a.dtype"
      ],
      "execution_count": null,
      "outputs": [
        {
          "output_type": "execute_result",
          "data": {
            "text/plain": [
              "tf.int32"
            ]
          },
          "metadata": {
            "tags": []
          },
          "execution_count": 30
        }
      ]
    },
    {
      "cell_type": "code",
      "metadata": {
        "colab": {
          "base_uri": "https://localhost:8080/"
        },
        "id": "6ZRHiz2DqRx-",
        "outputId": "409a9f33-d0e2-483d-919d-d070baae4f81"
      },
      "source": [
        "a.dtype == tf.int32"
      ],
      "execution_count": null,
      "outputs": [
        {
          "output_type": "execute_result",
          "data": {
            "text/plain": [
              "True"
            ]
          },
          "metadata": {
            "tags": []
          },
          "execution_count": 31
        }
      ]
    },
    {
      "cell_type": "markdown",
      "metadata": {
        "id": "M1MpjnKArrgD"
      },
      "source": [
        "Conver to tensor \n",
        "- `tf.cast(a, dtype = int)`\n",
        "- `tf.constant(np_array)`\n",
        "- `tf.convert_to_tensor(a)`\n",
        "- `tensor.numpy()`\n",
        "- `int(tensort)`"
      ]
    },
    {
      "cell_type": "code",
      "metadata": {
        "colab": {
          "base_uri": "https://localhost:8080/"
        },
        "id": "wAh7NVUlqRvT",
        "outputId": "eb532091-a15e-45d2-98a0-d771f185dd26"
      },
      "source": [
        "a = np.arange(5)\n",
        "a, a.dtype"
      ],
      "execution_count": null,
      "outputs": [
        {
          "output_type": "execute_result",
          "data": {
            "text/plain": [
              "(array([0, 1, 2, 3, 4]), dtype('int64'))"
            ]
          },
          "metadata": {
            "tags": []
          },
          "execution_count": 32
        }
      ]
    },
    {
      "cell_type": "code",
      "metadata": {
        "colab": {
          "base_uri": "https://localhost:8080/"
        },
        "id": "YRajz4iRqRrs",
        "outputId": "0871106d-190e-42a1-bec9-fb3d0ec1907b"
      },
      "source": [
        "aa = tf.convert_to_tensor(a)\n",
        "aa"
      ],
      "execution_count": null,
      "outputs": [
        {
          "output_type": "execute_result",
          "data": {
            "text/plain": [
              "<tf.Tensor: shape=(5,), dtype=int64, numpy=array([0, 1, 2, 3, 4])>"
            ]
          },
          "metadata": {
            "tags": []
          },
          "execution_count": 33
        }
      ]
    },
    {
      "cell_type": "code",
      "metadata": {
        "colab": {
          "base_uri": "https://localhost:8080/"
        },
        "id": "m4F3e23BsDYS",
        "outputId": "ae48f2a9-307f-4cb2-8d53-ff90389f19cf"
      },
      "source": [
        "aa = tf.convert_to_tensor(a, dtype=tf.int32)\n",
        "aa"
      ],
      "execution_count": null,
      "outputs": [
        {
          "output_type": "execute_result",
          "data": {
            "text/plain": [
              "<tf.Tensor: shape=(5,), dtype=int32, numpy=array([0, 1, 2, 3, 4], dtype=int32)>"
            ]
          },
          "metadata": {
            "tags": []
          },
          "execution_count": 34
        }
      ]
    },
    {
      "cell_type": "code",
      "metadata": {
        "colab": {
          "base_uri": "https://localhost:8080/"
        },
        "id": "JHCgBzYrsDV2",
        "outputId": "d34bf6de-77df-4da0-f1ff-b515e0032eef"
      },
      "source": [
        "tf.cast(a, dtype=tf.int32)   # cast tensor to different dtype"
      ],
      "execution_count": null,
      "outputs": [
        {
          "output_type": "execute_result",
          "data": {
            "text/plain": [
              "<tf.Tensor: shape=(5,), dtype=int32, numpy=array([0, 1, 2, 3, 4], dtype=int32)>"
            ]
          },
          "metadata": {
            "tags": []
          },
          "execution_count": 35
        }
      ]
    },
    {
      "cell_type": "code",
      "metadata": {
        "colab": {
          "base_uri": "https://localhost:8080/"
        },
        "id": "emV-MU-VsDTf",
        "outputId": "4cc60cc0-3602-4c26-bac3-8301509b73ea"
      },
      "source": [
        "b = tf.convert_to_tensor([0 ,1])\n",
        "b"
      ],
      "execution_count": null,
      "outputs": [
        {
          "output_type": "execute_result",
          "data": {
            "text/plain": [
              "<tf.Tensor: shape=(2,), dtype=int32, numpy=array([0, 1], dtype=int32)>"
            ]
          },
          "metadata": {
            "tags": []
          },
          "execution_count": 36
        }
      ]
    },
    {
      "cell_type": "code",
      "metadata": {
        "colab": {
          "base_uri": "https://localhost:8080/"
        },
        "id": "1VLCKhmCsDOj",
        "outputId": "1d6d2cd5-8dc2-4b4e-c6a2-e4305669df1c"
      },
      "source": [
        "tf.cast(b, dtype = tf.bool)    # 1,0 to bool"
      ],
      "execution_count": null,
      "outputs": [
        {
          "output_type": "execute_result",
          "data": {
            "text/plain": [
              "<tf.Tensor: shape=(2,), dtype=bool, numpy=array([False,  True])>"
            ]
          },
          "metadata": {
            "tags": []
          },
          "execution_count": 37
        }
      ]
    },
    {
      "cell_type": "markdown",
      "metadata": {
        "id": "DEXGXvFbtNH-"
      },
      "source": [
        "`tf.Variable`\n",
        "\n",
        "we can wrap tensors like **weights** into `tf.Variable` which turns to be trainable (which means tf will calculate gradients)"
      ]
    },
    {
      "cell_type": "code",
      "metadata": {
        "colab": {
          "base_uri": "https://localhost:8080/"
        },
        "id": "4ZPpKNkJsDLQ",
        "outputId": "8288cb8c-6ca3-4512-debe-94d82b84cfbc"
      },
      "source": [
        "weights = tf.range(5)\n",
        "weights"
      ],
      "execution_count": null,
      "outputs": [
        {
          "output_type": "execute_result",
          "data": {
            "text/plain": [
              "<tf.Tensor: shape=(5,), dtype=int32, numpy=array([0, 1, 2, 3, 4], dtype=int32)>"
            ]
          },
          "metadata": {
            "tags": []
          },
          "execution_count": 38
        }
      ]
    },
    {
      "cell_type": "code",
      "metadata": {
        "colab": {
          "base_uri": "https://localhost:8080/"
        },
        "id": "_tiWkQtGsDGL",
        "outputId": "6aab8914-3dbc-4048-9ef7-d2441acd1ffe"
      },
      "source": [
        "weights = tf.Variable(weights)\n",
        "weights"
      ],
      "execution_count": null,
      "outputs": [
        {
          "output_type": "execute_result",
          "data": {
            "text/plain": [
              "<tf.Variable 'Variable:0' shape=(5,) dtype=int32, numpy=array([0, 1, 2, 3, 4], dtype=int32)>"
            ]
          },
          "metadata": {
            "tags": []
          },
          "execution_count": 39
        }
      ]
    },
    {
      "cell_type": "code",
      "metadata": {
        "colab": {
          "base_uri": "https://localhost:8080/"
        },
        "id": "AtLZlNx3n6rU",
        "outputId": "cb587c15-e68c-4764-eda7-373f1b2b0333"
      },
      "source": [
        "weights = tf.Variable(weights, name = 'initial weights')\n",
        "weights.name, weights.trainable    # becaome trainable"
      ],
      "execution_count": null,
      "outputs": [
        {
          "output_type": "execute_result",
          "data": {
            "text/plain": [
              "('initial weights:0', True)"
            ]
          },
          "metadata": {
            "tags": []
          },
          "execution_count": 40
        }
      ]
    },
    {
      "cell_type": "code",
      "metadata": {
        "colab": {
          "base_uri": "https://localhost:8080/"
        },
        "id": "NHe_jSQnI0rS",
        "outputId": "6908ac5d-1d0d-46e3-fbbd-d63f1cf71e0f"
      },
      "source": [
        "weights.dtype, tf.is_tensor(weights)     # variables data are still tensor"
      ],
      "execution_count": null,
      "outputs": [
        {
          "output_type": "execute_result",
          "data": {
            "text/plain": [
              "(tf.int32, True)"
            ]
          },
          "metadata": {
            "tags": []
          },
          "execution_count": 41
        }
      ]
    },
    {
      "cell_type": "code",
      "metadata": {
        "colab": {
          "base_uri": "https://localhost:8080/"
        },
        "id": "f2d939hdI0n0",
        "outputId": "03af39b0-0fc3-4516-bf37-4eef338e98ad"
      },
      "source": [
        "weights.numpy()     # tensor/variable to numpy"
      ],
      "execution_count": null,
      "outputs": [
        {
          "output_type": "execute_result",
          "data": {
            "text/plain": [
              "array([0, 1, 2, 3, 4], dtype=int32)"
            ]
          },
          "metadata": {
            "tags": []
          },
          "execution_count": 42
        }
      ]
    },
    {
      "cell_type": "markdown",
      "metadata": {
        "id": "bysKOMJxcpQ8"
      },
      "source": [
        "Create/initiate tensor\n",
        "\n",
        "Weights initation like Xavier and He methods are widely implemented in deep learning\n",
        "\n",
        "1. `tf.fill()`   fill tensor with any value in any shape\n",
        "2. `tf.ones()` & `tf.ones_like()`\n",
        "3. `tf.zeros()` & `tf.zeros_like()`\n",
        "4. `tf.random.normal()` \n",
        "5. `tf.random.truncated_normal()` # can help avoid gradient vanish\n",
        "6. `tf.random.uniform()`"
      ]
    },
    {
      "cell_type": "code",
      "metadata": {
        "colab": {
          "base_uri": "https://localhost:8080/"
        },
        "id": "lMbJ86kfc8uA",
        "outputId": "f51939c6-7316-4bd3-8b2e-6a9b1d77cd3e"
      },
      "source": [
        "tf.convert_to_tensor([1, 2.])"
      ],
      "execution_count": null,
      "outputs": [
        {
          "output_type": "execute_result",
          "data": {
            "text/plain": [
              "<tf.Tensor: shape=(2,), dtype=float32, numpy=array([1., 2.], dtype=float32)>"
            ]
          },
          "metadata": {
            "tags": []
          },
          "execution_count": 43
        }
      ]
    },
    {
      "cell_type": "code",
      "metadata": {
        "colab": {
          "base_uri": "https://localhost:8080/"
        },
        "id": "-j4B-Rqrco7c",
        "outputId": "dcb19f7b-8f1f-4ae5-9ff1-7941f026afba"
      },
      "source": [
        "tf.ones([2,3]) # feed shape 2x3 [0]"
      ],
      "execution_count": null,
      "outputs": [
        {
          "output_type": "execute_result",
          "data": {
            "text/plain": [
              "<tf.Tensor: shape=(2, 3), dtype=float32, numpy=\n",
              "array([[1., 1., 1.],\n",
              "       [1., 1., 1.]], dtype=float32)>"
            ]
          },
          "metadata": {
            "tags": []
          },
          "execution_count": 44
        }
      ]
    },
    {
      "cell_type": "code",
      "metadata": {
        "colab": {
          "base_uri": "https://localhost:8080/"
        },
        "id": "MhBIep5eckZL",
        "outputId": "8b3c81f3-6e9a-46e8-f781-8f7d10fd2eea"
      },
      "source": [
        "tf.zeros([2,3]) # feed shape 2x3 [0]"
      ],
      "execution_count": null,
      "outputs": [
        {
          "output_type": "execute_result",
          "data": {
            "text/plain": [
              "<tf.Tensor: shape=(2, 3), dtype=float32, numpy=\n",
              "array([[0., 0., 0.],\n",
              "       [0., 0., 0.]], dtype=float32)>"
            ]
          },
          "metadata": {
            "tags": []
          },
          "execution_count": 45
        }
      ]
    },
    {
      "cell_type": "code",
      "metadata": {
        "colab": {
          "base_uri": "https://localhost:8080/"
        },
        "id": "pJKD8-UrckVQ",
        "outputId": "35e1131f-f565-4e61-cce1-b6efbe2f685e"
      },
      "source": [
        "tf.fill([2,3], 5)"
      ],
      "execution_count": null,
      "outputs": [
        {
          "output_type": "execute_result",
          "data": {
            "text/plain": [
              "<tf.Tensor: shape=(2, 3), dtype=int32, numpy=\n",
              "array([[5, 5, 5],\n",
              "       [5, 5, 5]], dtype=int32)>"
            ]
          },
          "metadata": {
            "tags": []
          },
          "execution_count": 46
        }
      ]
    },
    {
      "cell_type": "code",
      "metadata": {
        "colab": {
          "base_uri": "https://localhost:8080/"
        },
        "id": "HXvOczGcckSB",
        "outputId": "bacc29d4-2fde-4e4c-dc06-68288500978a"
      },
      "source": [
        "tf.random.truncated_normal([2,3], mean = 1, stddev=3)"
      ],
      "execution_count": null,
      "outputs": [
        {
          "output_type": "execute_result",
          "data": {
            "text/plain": [
              "<tf.Tensor: shape=(2, 3), dtype=float32, numpy=\n",
              "array([[ 5.484226 , -1.404146 , -1.4366832],\n",
              "       [ 3.7063744, -0.9537686,  0.937595 ]], dtype=float32)>"
            ]
          },
          "metadata": {
            "tags": []
          },
          "execution_count": 47
        }
      ]
    },
    {
      "cell_type": "code",
      "metadata": {
        "colab": {
          "base_uri": "https://localhost:8080/"
        },
        "id": "xRZaFb-tckOD",
        "outputId": "1e4c6b0e-41aa-4556-cd8c-f7b7a5075897"
      },
      "source": [
        "tf.random.uniform([3,3], minval =0, maxval = 1)"
      ],
      "execution_count": null,
      "outputs": [
        {
          "output_type": "execute_result",
          "data": {
            "text/plain": [
              "<tf.Tensor: shape=(3, 3), dtype=float32, numpy=\n",
              "array([[0.3308277 , 0.30213332, 0.9616064 ],\n",
              "       [0.8487315 , 0.99455154, 0.7795495 ],\n",
              "       [0.48687196, 0.766085  , 0.44331813]], dtype=float32)>"
            ]
          },
          "metadata": {
            "tags": []
          },
          "execution_count": 48
        }
      ]
    },
    {
      "cell_type": "markdown",
      "metadata": {
        "id": "0nYuo8QVlpCg"
      },
      "source": [
        "Random permutation\n",
        "\n",
        "1. `tf.gather(a, shuffled_idx)`   # shuffle the order/row of input data"
      ]
    },
    {
      "cell_type": "code",
      "metadata": {
        "colab": {
          "base_uri": "https://localhost:8080/"
        },
        "id": "LTV9c4xUckLe",
        "outputId": "0fe30336-26f6-47a6-bbdd-13700847be44"
      },
      "source": [
        "idx = tf.range(5)\n",
        "idx = tf.random.shuffle(idx)\n",
        "idx"
      ],
      "execution_count": null,
      "outputs": [
        {
          "output_type": "execute_result",
          "data": {
            "text/plain": [
              "<tf.Tensor: shape=(5,), dtype=int32, numpy=array([4, 3, 1, 2, 0], dtype=int32)>"
            ]
          },
          "metadata": {
            "tags": []
          },
          "execution_count": 49
        }
      ]
    },
    {
      "cell_type": "code",
      "metadata": {
        "id": "kdk1F0phckIi"
      },
      "source": [
        "a = tf.random.normal([5, 784])\n",
        "b = tf.random.uniform([5], minval= 10, maxval=30, dtype=tf.float32)"
      ],
      "execution_count": null,
      "outputs": []
    },
    {
      "cell_type": "code",
      "metadata": {
        "colab": {
          "base_uri": "https://localhost:8080/"
        },
        "id": "A-SSkQRumNv3",
        "outputId": "8277dc59-51be-4376-c349-f255fa2caa05"
      },
      "source": [
        "a"
      ],
      "execution_count": null,
      "outputs": [
        {
          "output_type": "execute_result",
          "data": {
            "text/plain": [
              "<tf.Tensor: shape=(5, 784), dtype=float32, numpy=\n",
              "array([[-0.85705024,  0.22482744, -1.4012432 , ..., -0.72257996,\n",
              "        -0.2506269 ,  0.9059631 ],\n",
              "       [-0.8646298 ,  1.2941447 ,  0.35352546, ...,  0.50852185,\n",
              "         1.7029588 , -0.3078736 ],\n",
              "       [-0.03236101,  1.196351  ,  0.9648994 , ...,  1.9289964 ,\n",
              "         0.97349554,  1.2714056 ],\n",
              "       [ 2.151031  , -0.05654513, -0.42885292, ...,  0.43904564,\n",
              "         0.48725885,  0.49210334],\n",
              "       [ 0.5162558 , -2.3016114 , -0.5382874 , ...,  2.2245183 ,\n",
              "        -0.84472406, -0.28568125]], dtype=float32)>"
            ]
          },
          "metadata": {
            "tags": []
          },
          "execution_count": 51
        }
      ]
    },
    {
      "cell_type": "code",
      "metadata": {
        "colab": {
          "base_uri": "https://localhost:8080/"
        },
        "id": "w41BwipKckCF",
        "outputId": "9c74da48-85dd-4768-d286-2c2e0745b4ba"
      },
      "source": [
        "# shuffle the order/row of matrix\n",
        "a = tf.gather(a, idx)\n",
        "b = tf.gather(b, idx)\n",
        "a"
      ],
      "execution_count": null,
      "outputs": [
        {
          "output_type": "execute_result",
          "data": {
            "text/plain": [
              "<tf.Tensor: shape=(5, 784), dtype=float32, numpy=\n",
              "array([[ 0.5162558 , -2.3016114 , -0.5382874 , ...,  2.2245183 ,\n",
              "        -0.84472406, -0.28568125],\n",
              "       [ 2.151031  , -0.05654513, -0.42885292, ...,  0.43904564,\n",
              "         0.48725885,  0.49210334],\n",
              "       [-0.8646298 ,  1.2941447 ,  0.35352546, ...,  0.50852185,\n",
              "         1.7029588 , -0.3078736 ],\n",
              "       [-0.03236101,  1.196351  ,  0.9648994 , ...,  1.9289964 ,\n",
              "         0.97349554,  1.2714056 ],\n",
              "       [-0.85705024,  0.22482744, -1.4012432 , ..., -0.72257996,\n",
              "        -0.2506269 ,  0.9059631 ]], dtype=float32)>"
            ]
          },
          "metadata": {
            "tags": []
          },
          "execution_count": 52
        }
      ]
    },
    {
      "cell_type": "markdown",
      "metadata": {
        "id": "2aOZDqOis2Dx"
      },
      "source": [
        "Vector\n"
      ]
    },
    {
      "cell_type": "code",
      "metadata": {
        "colab": {
          "base_uri": "https://localhost:8080/"
        },
        "id": "Yokrj62scjgG",
        "outputId": "b9c82067-3276-4424-ce4a-30b100c2db6e"
      },
      "source": [
        "# each layer: X@W + b\n",
        "net = layers.Dense(10)\n",
        "net.build((4, 8))\n",
        "net.kernel    # check layer weights: W -> (8X10)"
      ],
      "execution_count": null,
      "outputs": [
        {
          "output_type": "execute_result",
          "data": {
            "text/plain": [
              "<tf.Variable 'kernel:0' shape=(8, 10) dtype=float32, numpy=\n",
              "array([[-0.3816467 , -0.36376473,  0.00476092,  0.03919959, -0.4690649 ,\n",
              "         0.07725364, -0.56319577, -0.25802988, -0.3386038 , -0.32864472],\n",
              "       [-0.00929528, -0.25295675,  0.54702234, -0.50549036, -0.0574891 ,\n",
              "        -0.22451696, -0.39834088,  0.27013618,  0.31665754,  0.01828212],\n",
              "       [-0.01452452,  0.31905198, -0.13319775,  0.39377433, -0.3123368 ,\n",
              "        -0.302458  ,  0.22428954, -0.52465343,  0.5617846 ,  0.36701232],\n",
              "       [-0.51607835,  0.4164285 ,  0.07584518, -0.16538715, -0.2665623 ,\n",
              "        -0.33898175,  0.46941566,  0.22248358,  0.33132148,  0.17028081],\n",
              "       [-0.11108068,  0.121077  ,  0.3352521 ,  0.19136906,  0.17238754,\n",
              "         0.00319916,  0.5517664 , -0.12145501, -0.49369022, -0.13620582],\n",
              "       [-0.41553432, -0.01577592, -0.4477858 , -0.5530803 ,  0.06270432,\n",
              "        -0.4845107 ,  0.3245266 ,  0.2847916 ,  0.55851555,  0.28551316],\n",
              "       [ 0.51643574, -0.50582004,  0.4126022 , -0.3438605 ,  0.31416923,\n",
              "         0.1185751 , -0.5236871 , -0.00294119,  0.25148886,  0.04344654],\n",
              "       [ 0.01163328, -0.40295467,  0.3064828 , -0.38858843,  0.49753904,\n",
              "         0.48709464,  0.4615928 , -0.4998347 , -0.4715218 , -0.03512663]],\n",
              "      dtype=float32)>"
            ]
          },
          "metadata": {
            "tags": []
          },
          "execution_count": 53
        }
      ]
    },
    {
      "cell_type": "code",
      "metadata": {
        "colab": {
          "base_uri": "https://localhost:8080/"
        },
        "id": "XL5igC5IcjdF",
        "outputId": "73c1c31a-0509-4b09-8ec5-ac8e5523eb6b"
      },
      "source": [
        "net.bias    # check layer bias: W -> (8X10)b -> (1X10)"
      ],
      "execution_count": null,
      "outputs": [
        {
          "output_type": "execute_result",
          "data": {
            "text/plain": [
              "<tf.Variable 'bias:0' shape=(10,) dtype=float32, numpy=array([0., 0., 0., 0., 0., 0., 0., 0., 0., 0.], dtype=float32)>"
            ]
          },
          "metadata": {
            "tags": []
          },
          "execution_count": 54
        }
      ]
    },
    {
      "cell_type": "markdown",
      "metadata": {
        "id": "T6QMbgC7nzod"
      },
      "source": [
        "Implementation：Loss calculation"
      ]
    },
    {
      "cell_type": "code",
      "metadata": {
        "colab": {
          "base_uri": "https://localhost:8080/"
        },
        "id": "6dvkKAMPcj7y",
        "outputId": "0519a3ef-9f80-4210-f1f8-55144d5447bb"
      },
      "source": [
        "out = tf.random.uniform([4, 10])\n",
        "out    # output layer outputs the probility of each class (4 outputs, 10 classes)"
      ],
      "execution_count": null,
      "outputs": [
        {
          "output_type": "execute_result",
          "data": {
            "text/plain": [
              "<tf.Tensor: shape=(4, 10), dtype=float32, numpy=\n",
              "array([[0.8138162 , 0.2909956 , 0.00321054, 0.90989864, 0.33530498,\n",
              "        0.25106192, 0.22276795, 0.05527127, 0.98479366, 0.02541316],\n",
              "       [0.4705137 , 0.7318162 , 0.14017451, 0.3719399 , 0.23778558,\n",
              "        0.9665227 , 0.0013175 , 0.10251021, 0.21956897, 0.821381  ],\n",
              "       [0.6213106 , 0.15109909, 0.75418425, 0.6293026 , 0.06764877,\n",
              "        0.915969  , 0.35134423, 0.02708745, 0.48705816, 0.15729213],\n",
              "       [0.08266449, 0.55585515, 0.6655718 , 0.3584609 , 0.9622514 ,\n",
              "        0.43881166, 0.95235336, 0.92095065, 0.40237033, 0.6835475 ]],\n",
              "      dtype=float32)>"
            ]
          },
          "metadata": {
            "tags": []
          },
          "execution_count": 55
        }
      ]
    },
    {
      "cell_type": "code",
      "metadata": {
        "colab": {
          "base_uri": "https://localhost:8080/"
        },
        "id": "ubY1Jfurcj0P",
        "outputId": "888b8a38-3688-4374-afd3-f394c79c5c2a"
      },
      "source": [
        "y = tf.range(4)\n",
        "y = tf.one_hot(y, depth= 10)\n",
        "y   # actual labels -> one hot encoding"
      ],
      "execution_count": null,
      "outputs": [
        {
          "output_type": "execute_result",
          "data": {
            "text/plain": [
              "<tf.Tensor: shape=(4, 10), dtype=float32, numpy=\n",
              "array([[1., 0., 0., 0., 0., 0., 0., 0., 0., 0.],\n",
              "       [0., 1., 0., 0., 0., 0., 0., 0., 0., 0.],\n",
              "       [0., 0., 1., 0., 0., 0., 0., 0., 0., 0.],\n",
              "       [0., 0., 0., 1., 0., 0., 0., 0., 0., 0.]], dtype=float32)>"
            ]
          },
          "metadata": {
            "tags": []
          },
          "execution_count": 56
        }
      ]
    },
    {
      "cell_type": "code",
      "metadata": {
        "colab": {
          "base_uri": "https://localhost:8080/"
        },
        "id": "z0GcorfJcjuM",
        "outputId": "ab8310a6-e197-4245-8b92-51d3db2cdfb7"
      },
      "source": [
        "loss_list = tf.keras.losses.mse(y, out)    # tf keras API calculates mean of squared errors\n",
        "loss_list"
      ],
      "execution_count": null,
      "outputs": [
        {
          "output_type": "execute_result",
          "data": {
            "text/plain": [
              "<tf.Tensor: shape=(4,), dtype=float32, numpy=array([0.2145875 , 0.21753892, 0.20950237, 0.46731156], dtype=float32)>"
            ]
          },
          "metadata": {
            "tags": []
          },
          "execution_count": 57
        }
      ]
    },
    {
      "cell_type": "code",
      "metadata": {
        "colab": {
          "base_uri": "https://localhost:8080/"
        },
        "id": "N-Z1UgrXcji9",
        "outputId": "603660c5-8df6-4bc9-fcd5-dfd808923ed7"
      },
      "source": [
        "loss = tf.reduce_mean(loss_list)  \n",
        "loss    # scalar"
      ],
      "execution_count": null,
      "outputs": [
        {
          "output_type": "execute_result",
          "data": {
            "text/plain": [
              "<tf.Tensor: shape=(), dtype=float32, numpy=0.2772351>"
            ]
          },
          "metadata": {
            "tags": []
          },
          "execution_count": 58
        }
      ]
    },
    {
      "cell_type": "markdown",
      "metadata": {
        "id": "cDIegf9VuGt9"
      },
      "source": [
        "Implementation: Maxtrix dim evolves"
      ]
    },
    {
      "cell_type": "code",
      "metadata": {
        "colab": {
          "base_uri": "https://localhost:8080/"
        },
        "id": "ZfCnX7hYuMTe",
        "outputId": "1fcc0d85-902e-43b2-9b1d-590db3489b3d"
      },
      "source": [
        "x = tf.random.normal([4, 784])   # 4 pics, each pic is a 1*784 vector\n",
        "x.shape"
      ],
      "execution_count": null,
      "outputs": [
        {
          "output_type": "execute_result",
          "data": {
            "text/plain": [
              "TensorShape([4, 784])"
            ]
          },
          "metadata": {
            "tags": []
          },
          "execution_count": 59
        }
      ]
    },
    {
      "cell_type": "code",
      "metadata": {
        "id": "U0a0luQ2uMQJ"
      },
      "source": [
        "net = layers.Dense(10)\n",
        "net.build((4, 784))"
      ],
      "execution_count": null,
      "outputs": []
    },
    {
      "cell_type": "code",
      "metadata": {
        "colab": {
          "base_uri": "https://localhost:8080/"
        },
        "id": "BOJaTdxLuMOH",
        "outputId": "7f40968d-d1b4-4aac-d6e8-9d2762d17d2b"
      },
      "source": [
        "net(x).shape"
      ],
      "execution_count": null,
      "outputs": [
        {
          "output_type": "execute_result",
          "data": {
            "text/plain": [
              "TensorShape([4, 10])"
            ]
          },
          "metadata": {
            "tags": []
          },
          "execution_count": 61
        }
      ]
    },
    {
      "cell_type": "code",
      "metadata": {
        "colab": {
          "base_uri": "https://localhost:8080/"
        },
        "id": "nVpjvCBMuMKq",
        "outputId": "ac998fe9-1ba2-4680-d909-ddb194965e0a"
      },
      "source": [
        "net.kernel.shape"
      ],
      "execution_count": null,
      "outputs": [
        {
          "output_type": "execute_result",
          "data": {
            "text/plain": [
              "TensorShape([784, 10])"
            ]
          },
          "metadata": {
            "tags": []
          },
          "execution_count": 62
        }
      ]
    },
    {
      "cell_type": "code",
      "metadata": {
        "colab": {
          "base_uri": "https://localhost:8080/"
        },
        "id": "Y_SLaAlbuMH-",
        "outputId": "15f47747-2e49-4e55-9523-5b9b13e56589"
      },
      "source": [
        "net.bias.shape"
      ],
      "execution_count": null,
      "outputs": [
        {
          "output_type": "execute_result",
          "data": {
            "text/plain": [
              "TensorShape([10])"
            ]
          },
          "metadata": {
            "tags": []
          },
          "execution_count": 63
        }
      ]
    },
    {
      "cell_type": "markdown",
      "metadata": {
        "id": "6OONXqIIgFqC"
      },
      "source": [
        "## Indexing & slicing"
      ]
    },
    {
      "cell_type": "markdown",
      "metadata": {
        "id": "X82iTCNCiMCu"
      },
      "source": [
        "Basic indexing (python-style)"
      ]
    },
    {
      "cell_type": "code",
      "metadata": {
        "colab": {
          "base_uri": "https://localhost:8080/"
        },
        "id": "PWeZMEQ8uL_u",
        "outputId": "02a5596e-274f-4fed-edc8-1303b33db622"
      },
      "source": [
        "a = tf.ones([1,2,3, 4]) # 1[2[3,4]]\n",
        "a"
      ],
      "execution_count": null,
      "outputs": [
        {
          "output_type": "execute_result",
          "data": {
            "text/plain": [
              "<tf.Tensor: shape=(1, 2, 3, 4), dtype=float32, numpy=\n",
              "array([[[[1., 1., 1., 1.],\n",
              "         [1., 1., 1., 1.],\n",
              "         [1., 1., 1., 1.]],\n",
              "\n",
              "        [[1., 1., 1., 1.],\n",
              "         [1., 1., 1., 1.],\n",
              "         [1., 1., 1., 1.]]]], dtype=float32)>"
            ]
          },
          "metadata": {
            "tags": []
          },
          "execution_count": 64
        }
      ]
    },
    {
      "cell_type": "code",
      "metadata": {
        "colab": {
          "base_uri": "https://localhost:8080/"
        },
        "id": "mFpyYuOucjZv",
        "outputId": "276e7098-6993-4cac-9dba-04534d2cd1b2"
      },
      "source": [
        "a[0][0]"
      ],
      "execution_count": null,
      "outputs": [
        {
          "output_type": "execute_result",
          "data": {
            "text/plain": [
              "<tf.Tensor: shape=(3, 4), dtype=float32, numpy=\n",
              "array([[1., 1., 1., 1.],\n",
              "       [1., 1., 1., 1.],\n",
              "       [1., 1., 1., 1.]], dtype=float32)>"
            ]
          },
          "metadata": {
            "tags": []
          },
          "execution_count": 65
        }
      ]
    },
    {
      "cell_type": "code",
      "metadata": {
        "colab": {
          "base_uri": "https://localhost:8080/"
        },
        "id": "FhgmJThIcjU1",
        "outputId": "407f1ece-a9fe-412c-f8fd-84db68939b74"
      },
      "source": [
        "a[0][0][0]"
      ],
      "execution_count": null,
      "outputs": [
        {
          "output_type": "execute_result",
          "data": {
            "text/plain": [
              "<tf.Tensor: shape=(4,), dtype=float32, numpy=array([1., 1., 1., 1.], dtype=float32)>"
            ]
          },
          "metadata": {
            "tags": []
          },
          "execution_count": 66
        }
      ]
    },
    {
      "cell_type": "code",
      "metadata": {
        "colab": {
          "base_uri": "https://localhost:8080/"
        },
        "id": "dL39_ytgcjPs",
        "outputId": "ef3984c2-391b-4392-e85e-dc15360f3083"
      },
      "source": [
        "a[0][0][0][2]"
      ],
      "execution_count": null,
      "outputs": [
        {
          "output_type": "execute_result",
          "data": {
            "text/plain": [
              "<tf.Tensor: shape=(), dtype=float32, numpy=1.0>"
            ]
          },
          "metadata": {
            "tags": []
          },
          "execution_count": 67
        }
      ]
    },
    {
      "cell_type": "markdown",
      "metadata": {
        "id": "kuYMF73PiiyZ"
      },
      "source": [
        "Basic indexing (numpy-style) "
      ]
    },
    {
      "cell_type": "code",
      "metadata": {
        "id": "tR-WTMKscjKV"
      },
      "source": [
        "a = tf.random.normal([2,28,28,3])  # two pics, each pics contains 28x28 pixel, 3channels\n"
      ],
      "execution_count": null,
      "outputs": []
    },
    {
      "cell_type": "code",
      "metadata": {
        "colab": {
          "base_uri": "https://localhost:8080/"
        },
        "id": "q8gSOrYfI0aF",
        "outputId": "6681ff5a-62a6-4698-99da-5e4c37d0594c"
      },
      "source": [
        "a[1].shape "
      ],
      "execution_count": null,
      "outputs": [
        {
          "output_type": "execute_result",
          "data": {
            "text/plain": [
              "TensorShape([28, 28, 3])"
            ]
          },
          "metadata": {
            "tags": []
          },
          "execution_count": 69
        }
      ]
    },
    {
      "cell_type": "code",
      "metadata": {
        "colab": {
          "base_uri": "https://localhost:8080/"
        },
        "id": "2jrq4WFoie2K",
        "outputId": "7dcb827b-b1e3-41cb-a779-1b9be5abce83"
      },
      "source": [
        "a[1, 2].shape # a[1][2]  second pics and 3rd row is a [28x3] tensor"
      ],
      "execution_count": null,
      "outputs": [
        {
          "output_type": "execute_result",
          "data": {
            "text/plain": [
              "TensorShape([28, 3])"
            ]
          },
          "metadata": {
            "tags": []
          },
          "execution_count": 70
        }
      ]
    },
    {
      "cell_type": "code",
      "metadata": {
        "colab": {
          "base_uri": "https://localhost:8080/"
        },
        "id": "HgjVhHjtiezn",
        "outputId": "72b2e4a4-c97c-4e5a-fca2-50fac0f4d05c"
      },
      "source": [
        "a[1,2,3]   # a[1][2][3]  second pics and 3rd row 4th column is a [1x3] tensor, they are all channels"
      ],
      "execution_count": null,
      "outputs": [
        {
          "output_type": "execute_result",
          "data": {
            "text/plain": [
              "<tf.Tensor: shape=(3,), dtype=float32, numpy=array([ 0.43245754,  0.37991   , -0.86595947], dtype=float32)>"
            ]
          },
          "metadata": {
            "tags": []
          },
          "execution_count": 71
        }
      ]
    },
    {
      "cell_type": "code",
      "metadata": {
        "colab": {
          "base_uri": "https://localhost:8080/"
        },
        "id": "vJ_2VO_2iexG",
        "outputId": "efd4a6a7-44c0-49e5-ec85-7eadad4a2ea6"
      },
      "source": [
        "a[1,2,3,2].shape   # output is a scalar, which means one of the channels"
      ],
      "execution_count": null,
      "outputs": [
        {
          "output_type": "execute_result",
          "data": {
            "text/plain": [
              "TensorShape([])"
            ]
          },
          "metadata": {
            "tags": []
          },
          "execution_count": 72
        }
      ]
    },
    {
      "cell_type": "markdown",
      "metadata": {
        "id": "GL3dhcfwoTl6"
      },
      "source": [
        "Basic Slicing"
      ]
    },
    {
      "cell_type": "code",
      "metadata": {
        "colab": {
          "base_uri": "https://localhost:8080/"
        },
        "id": "mr9x8_gOieuk",
        "outputId": "777a3c43-c6f9-4bd5-9834-cf52fe071a5d"
      },
      "source": [
        "a = tf.range(10)\n",
        "a"
      ],
      "execution_count": null,
      "outputs": [
        {
          "output_type": "execute_result",
          "data": {
            "text/plain": [
              "<tf.Tensor: shape=(10,), dtype=int32, numpy=array([0, 1, 2, 3, 4, 5, 6, 7, 8, 9], dtype=int32)>"
            ]
          },
          "metadata": {
            "tags": []
          },
          "execution_count": 73
        }
      ]
    },
    {
      "cell_type": "code",
      "metadata": {
        "colab": {
          "base_uri": "https://localhost:8080/"
        },
        "id": "vd3mYtN5ierW",
        "outputId": "2aec8076-a7b3-413c-a7f1-b9eb479663bd"
      },
      "source": [
        "a[-3:]"
      ],
      "execution_count": null,
      "outputs": [
        {
          "output_type": "execute_result",
          "data": {
            "text/plain": [
              "<tf.Tensor: shape=(3,), dtype=int32, numpy=array([7, 8, 9], dtype=int32)>"
            ]
          },
          "metadata": {
            "tags": []
          },
          "execution_count": 74
        }
      ]
    },
    {
      "cell_type": "code",
      "metadata": {
        "colab": {
          "base_uri": "https://localhost:8080/"
        },
        "id": "wASkjdj5ien7",
        "outputId": "e5df4dda-1bba-43ed-84ff-fdf137d13787"
      },
      "source": [
        "a = tf.random.normal([2,28,28,3])  # two pics, each pics contains 28x28 pixel, 3channels\n",
        "a.shape"
      ],
      "execution_count": null,
      "outputs": [
        {
          "output_type": "execute_result",
          "data": {
            "text/plain": [
              "TensorShape([2, 28, 28, 3])"
            ]
          },
          "metadata": {
            "tags": []
          },
          "execution_count": 75
        }
      ]
    },
    {
      "cell_type": "code",
      "metadata": {
        "colab": {
          "base_uri": "https://localhost:8080/"
        },
        "id": "izUvLRrmielp",
        "outputId": "30b62b6e-1047-4b86-8033-4f054fd20849"
      },
      "source": [
        "a[0,:,:].shape"
      ],
      "execution_count": null,
      "outputs": [
        {
          "output_type": "execute_result",
          "data": {
            "text/plain": [
              "TensorShape([28, 28, 3])"
            ]
          },
          "metadata": {
            "tags": []
          },
          "execution_count": 76
        }
      ]
    },
    {
      "cell_type": "code",
      "metadata": {
        "colab": {
          "base_uri": "https://localhost:8080/"
        },
        "id": "wQpr-H0AiejD",
        "outputId": "cc08e346-3a3b-42f8-eab1-dadd17a80705"
      },
      "source": [
        "a[0,:,3,:].shape  # first pic, all rows, 4th col, all channel"
      ],
      "execution_count": null,
      "outputs": [
        {
          "output_type": "execute_result",
          "data": {
            "text/plain": [
              "TensorShape([28, 3])"
            ]
          },
          "metadata": {
            "tags": []
          },
          "execution_count": 77
        }
      ]
    },
    {
      "cell_type": "code",
      "metadata": {
        "colab": {
          "base_uri": "https://localhost:8080/"
        },
        "id": "Q9PvE6xKiegh",
        "outputId": "2f3446d8-085a-4c41-eff4-486c1ccb9805"
      },
      "source": [
        "a[0,18:22:2,3,::2].shape  #"
      ],
      "execution_count": null,
      "outputs": [
        {
          "output_type": "execute_result",
          "data": {
            "text/plain": [
              "TensorShape([2, 2])"
            ]
          },
          "metadata": {
            "tags": []
          },
          "execution_count": 78
        }
      ]
    },
    {
      "cell_type": "markdown",
      "metadata": {
        "id": "VzOrpzq7r8C_"
      },
      "source": [
        "use `...` in slicing"
      ]
    },
    {
      "cell_type": "code",
      "metadata": {
        "colab": {
          "base_uri": "https://localhost:8080/"
        },
        "id": "0pnY6_JYieeL",
        "outputId": "bbc20b84-0a83-47e9-c256-e6918873e34d"
      },
      "source": [
        "a = tf.random.normal([4, 2,28,28,3])  # four tasks, two pics, each pics contains 28x28 pixel, 3channels\n",
        "a.shape"
      ],
      "execution_count": null,
      "outputs": [
        {
          "output_type": "execute_result",
          "data": {
            "text/plain": [
              "TensorShape([4, 2, 28, 28, 3])"
            ]
          },
          "metadata": {
            "tags": []
          },
          "execution_count": 79
        }
      ]
    },
    {
      "cell_type": "code",
      "metadata": {
        "colab": {
          "base_uri": "https://localhost:8080/"
        },
        "id": "J3C--krBieaq",
        "outputId": "e26eef21-de43-4906-f9d0-c5a0c766b94a"
      },
      "source": [
        "a[0,...].shape"
      ],
      "execution_count": null,
      "outputs": [
        {
          "output_type": "execute_result",
          "data": {
            "text/plain": [
              "TensorShape([2, 28, 28, 3])"
            ]
          },
          "metadata": {
            "tags": []
          },
          "execution_count": 80
        }
      ]
    },
    {
      "cell_type": "code",
      "metadata": {
        "colab": {
          "base_uri": "https://localhost:8080/"
        },
        "id": "TNZIu_zLieYV",
        "outputId": "7cdcf3e5-96e1-4d4b-a484-28a76c97a4b5"
      },
      "source": [
        "a[0,...,2].shape"
      ],
      "execution_count": null,
      "outputs": [
        {
          "output_type": "execute_result",
          "data": {
            "text/plain": [
              "TensorShape([2, 28, 28])"
            ]
          },
          "metadata": {
            "tags": []
          },
          "execution_count": 81
        }
      ]
    },
    {
      "cell_type": "code",
      "metadata": {
        "colab": {
          "base_uri": "https://localhost:8080/"
        },
        "id": "10Otnm1KieUg",
        "outputId": "f0647d2f-9d11-416a-afc1-0111104ae740"
      },
      "source": [
        "a[...,0].shape"
      ],
      "execution_count": null,
      "outputs": [
        {
          "output_type": "execute_result",
          "data": {
            "text/plain": [
              "TensorShape([4, 2, 28, 28])"
            ]
          },
          "metadata": {
            "tags": []
          },
          "execution_count": 82
        }
      ]
    },
    {
      "cell_type": "markdown",
      "metadata": {
        "id": "01WZcSnBtHfM"
      },
      "source": [
        "Selective indexing\n",
        "\n",
        "- `tf.gather(a, perm = index_list)` # need axis param\n",
        "- `tf.gather_nd()`   # doesnt need axis param\n",
        " - `[[0],[1],...]`\n",
        " - `[[0, 0], [1, 1]]`\n",
        "- `tf.boolean_mask()`"
      ]
    },
    {
      "cell_type": "code",
      "metadata": {
        "colab": {
          "base_uri": "https://localhost:8080/"
        },
        "id": "O1J6UMquieRU",
        "outputId": "f7b5961e-51c2-4cf2-ed3f-3e22fe599802"
      },
      "source": [
        "a = tf.random.normal([4,35,8])  # 4 classes, 35 students, 8 subjects\n",
        "a.shape"
      ],
      "execution_count": null,
      "outputs": [
        {
          "output_type": "execute_result",
          "data": {
            "text/plain": [
              "TensorShape([4, 35, 8])"
            ]
          },
          "metadata": {
            "tags": []
          },
          "execution_count": 83
        }
      ]
    },
    {
      "cell_type": "code",
      "metadata": {
        "colab": {
          "base_uri": "https://localhost:8080/"
        },
        "id": "2RM_VNEIieMB",
        "outputId": "40595d83-1aa9-4da0-cd4a-e2a8b2264094"
      },
      "source": [
        "tf.gather(a, axis = 0, indices= [2,3]).shape   # sample student 3 and 4"
      ],
      "execution_count": null,
      "outputs": [
        {
          "output_type": "execute_result",
          "data": {
            "text/plain": [
              "TensorShape([2, 35, 8])"
            ]
          },
          "metadata": {
            "tags": []
          },
          "execution_count": 84
        }
      ]
    },
    {
      "cell_type": "code",
      "metadata": {
        "colab": {
          "base_uri": "https://localhost:8080/"
        },
        "id": "3ArjEVZMieI1",
        "outputId": "6f041c56-6b78-4f2d-8b7a-9b5c5cd694fc"
      },
      "source": [
        "a[2:3,].shape"
      ],
      "execution_count": null,
      "outputs": [
        {
          "output_type": "execute_result",
          "data": {
            "text/plain": [
              "TensorShape([1, 35, 8])"
            ]
          },
          "metadata": {
            "tags": []
          },
          "execution_count": 85
        }
      ]
    },
    {
      "cell_type": "code",
      "metadata": {
        "colab": {
          "base_uri": "https://localhost:8080/"
        },
        "id": "z0n_GBMAieFi",
        "outputId": "114bafbd-3a86-4f9b-f284-4787fbd436d7"
      },
      "source": [
        "tf.gather(a, axis = 0, indices= [2,1, 3, 0]).shape   # sample 4 classes in preset order "
      ],
      "execution_count": null,
      "outputs": [
        {
          "output_type": "execute_result",
          "data": {
            "text/plain": [
              "TensorShape([4, 35, 8])"
            ]
          },
          "metadata": {
            "tags": []
          },
          "execution_count": 86
        }
      ]
    },
    {
      "cell_type": "code",
      "metadata": {
        "colab": {
          "base_uri": "https://localhost:8080/"
        },
        "id": "n0aWoolpieBO",
        "outputId": "f957cb66-d5c6-4fd2-8d5a-06a3e3d1626a"
      },
      "source": [
        "tf.gather(a, axis = 1, indices= [2,1, 3, 0,3]).shape   # sample 4 classes, 5 students and 8 subjects"
      ],
      "execution_count": null,
      "outputs": [
        {
          "output_type": "execute_result",
          "data": {
            "text/plain": [
              "TensorShape([4, 5, 8])"
            ]
          },
          "metadata": {
            "tags": []
          },
          "execution_count": 87
        }
      ]
    },
    {
      "cell_type": "code",
      "metadata": {
        "colab": {
          "base_uri": "https://localhost:8080/"
        },
        "id": "kfV8ttXjid-5",
        "outputId": "183b2be4-718e-4ad5-8ebd-c240a9636d64"
      },
      "source": [
        "tf.gather(a, axis = 2, indices= [2,3,7]).shape   # sample 4 classes, 35 students and 3 subjects"
      ],
      "execution_count": null,
      "outputs": [
        {
          "output_type": "execute_result",
          "data": {
            "text/plain": [
              "TensorShape([4, 35, 3])"
            ]
          },
          "metadata": {
            "tags": []
          },
          "execution_count": 88
        }
      ]
    },
    {
      "cell_type": "code",
      "metadata": {
        "colab": {
          "base_uri": "https://localhost:8080/"
        },
        "id": "NADedRgpxIMv",
        "outputId": "db1f7395-f4c0-4ded-a5bc-8d0e4e8414f1"
      },
      "source": [
        "a = tf.random.normal([4,35,8])  # 4 classes, 35 students, 8 subjects\n",
        "a.shape"
      ],
      "execution_count": null,
      "outputs": [
        {
          "output_type": "execute_result",
          "data": {
            "text/plain": [
              "TensorShape([4, 35, 8])"
            ]
          },
          "metadata": {
            "tags": []
          },
          "execution_count": 89
        }
      ]
    },
    {
      "cell_type": "code",
      "metadata": {
        "colab": {
          "base_uri": "https://localhost:8080/"
        },
        "id": "-m4E6-z2idwp",
        "outputId": "65d227b3-5070-4b31-9727-03e863d39980"
      },
      "source": [
        "tf.gather_nd(a,  [0]).shape   # sample 1 classes, 35 students and 8 subjects"
      ],
      "execution_count": null,
      "outputs": [
        {
          "output_type": "execute_result",
          "data": {
            "text/plain": [
              "TensorShape([35, 8])"
            ]
          },
          "metadata": {
            "tags": []
          },
          "execution_count": 90
        }
      ]
    },
    {
      "cell_type": "code",
      "metadata": {
        "colab": {
          "base_uri": "https://localhost:8080/"
        },
        "id": "AjTK-0miidsZ",
        "outputId": "27d9d3c7-2f81-4a5f-afd9-2af43ef148e8"
      },
      "source": [
        "tf.gather_nd(a,  [0, 1]).shape   # sample 1 classes, 1 students and 3 subjects"
      ],
      "execution_count": null,
      "outputs": [
        {
          "output_type": "execute_result",
          "data": {
            "text/plain": [
              "TensorShape([8])"
            ]
          },
          "metadata": {
            "tags": []
          },
          "execution_count": 91
        }
      ]
    },
    {
      "cell_type": "code",
      "metadata": {
        "colab": {
          "base_uri": "https://localhost:8080/"
        },
        "id": "cpLEpIg9idnb",
        "outputId": "dd754719-b413-4270-c462-b7370399610f"
      },
      "source": [
        "tf.gather_nd(a,  [0,1,2]).shape   # sample 1 classes, 1 students and 1 subjects"
      ],
      "execution_count": null,
      "outputs": [
        {
          "output_type": "execute_result",
          "data": {
            "text/plain": [
              "TensorShape([])"
            ]
          },
          "metadata": {
            "tags": []
          },
          "execution_count": 92
        }
      ]
    },
    {
      "cell_type": "code",
      "metadata": {
        "colab": {
          "base_uri": "https://localhost:8080/"
        },
        "id": "BVQaG12Yidgd",
        "outputId": "5f1d50ed-1f90-4288-a341-2ec9ead6cf95"
      },
      "source": [
        "tf.gather_nd(a,  [[0,1,2]]).shape   # sample 1 classes, 1 students and 1 subjects"
      ],
      "execution_count": null,
      "outputs": [
        {
          "output_type": "execute_result",
          "data": {
            "text/plain": [
              "TensorShape([1])"
            ]
          },
          "metadata": {
            "tags": []
          },
          "execution_count": 93
        }
      ]
    },
    {
      "cell_type": "code",
      "metadata": {
        "colab": {
          "base_uri": "https://localhost:8080/"
        },
        "id": "RdKvuyFeidc_",
        "outputId": "151c8cc1-a073-46fe-e6e7-b0edff1d8471"
      },
      "source": [
        "tf.gather_nd(a,  [[0,0], [1,1]]).shape   # sample 1 classes, 1 students and 1 subjects"
      ],
      "execution_count": null,
      "outputs": [
        {
          "output_type": "execute_result",
          "data": {
            "text/plain": [
              "TensorShape([2, 8])"
            ]
          },
          "metadata": {
            "tags": []
          },
          "execution_count": 94
        }
      ]
    },
    {
      "cell_type": "code",
      "metadata": {
        "colab": {
          "base_uri": "https://localhost:8080/"
        },
        "id": "pwgK5y_IidZt",
        "outputId": "5680d662-82ba-42ca-c446-3950066fe977"
      },
      "source": [
        "tf.gather_nd(a,  [[0,0,0], [1,1,1], [2,2,2]]).shape   # sample 3 classes, 3 students and 3 subjects"
      ],
      "execution_count": null,
      "outputs": [
        {
          "output_type": "execute_result",
          "data": {
            "text/plain": [
              "TensorShape([3])"
            ]
          },
          "metadata": {
            "tags": []
          },
          "execution_count": 95
        }
      ]
    },
    {
      "cell_type": "code",
      "metadata": {
        "colab": {
          "base_uri": "https://localhost:8080/"
        },
        "id": "eslv6yXAidXc",
        "outputId": "f74f16a9-12d7-4598-c9ba-f930089a59f4"
      },
      "source": [
        "a.shape"
      ],
      "execution_count": null,
      "outputs": [
        {
          "output_type": "execute_result",
          "data": {
            "text/plain": [
              "TensorShape([4, 35, 8])"
            ]
          },
          "metadata": {
            "tags": []
          },
          "execution_count": 96
        }
      ]
    },
    {
      "cell_type": "code",
      "metadata": {
        "colab": {
          "base_uri": "https://localhost:8080/"
        },
        "id": "4QQX9PF2idQ9",
        "outputId": "2fe19d02-891d-48e9-cf1a-9ccce78c7f18"
      },
      "source": [
        "tf.boolean_mask(a, axis =0, mask=[True, False, True,False]).shape"
      ],
      "execution_count": null,
      "outputs": [
        {
          "output_type": "execute_result",
          "data": {
            "text/plain": [
              "TensorShape([2, 35, 8])"
            ]
          },
          "metadata": {
            "tags": []
          },
          "execution_count": 97
        }
      ]
    },
    {
      "cell_type": "code",
      "metadata": {
        "colab": {
          "base_uri": "https://localhost:8080/"
        },
        "id": "bAkgmBVLidNv",
        "outputId": "d1023c62-5829-4f10-bf4d-4d54f5807863"
      },
      "source": [
        "tf.boolean_mask(a, axis =2, mask=[True, False, True,False,True, False, True,False]).shape # only chose 4 subjects"
      ],
      "execution_count": null,
      "outputs": [
        {
          "output_type": "execute_result",
          "data": {
            "text/plain": [
              "TensorShape([4, 35, 4])"
            ]
          },
          "metadata": {
            "tags": []
          },
          "execution_count": 98
        }
      ]
    },
    {
      "cell_type": "code",
      "metadata": {
        "id": "TK_LItHHz8_j"
      },
      "source": [
        "a = tf.ones([2,3,4])"
      ],
      "execution_count": null,
      "outputs": []
    },
    {
      "cell_type": "code",
      "metadata": {
        "colab": {
          "base_uri": "https://localhost:8080/"
        },
        "id": "KEyfDgntidJ_",
        "outputId": "941c1547-ae0e-4504-d013-06ef1c9f994b"
      },
      "source": [
        "tf.boolean_mask(a, mask=[[True, False, True], [False, True,False]]).shape    # chose 3 rows in total"
      ],
      "execution_count": null,
      "outputs": [
        {
          "output_type": "execute_result",
          "data": {
            "text/plain": [
              "TensorShape([3, 4])"
            ]
          },
          "metadata": {
            "tags": []
          },
          "execution_count": 100
        }
      ]
    },
    {
      "cell_type": "markdown",
      "metadata": {
        "id": "bvMIavEnRUPL"
      },
      "source": [
        "## Tensor reshaping\n",
        "1. `tf.reshape(expected_shape)`\n",
        "2. `tf.expand_dims/squeeze()`\n",
        "3. `tf.transpose()`\n",
        "4. `tf.broadcast_to()`"
      ]
    },
    {
      "cell_type": "code",
      "metadata": {
        "id": "ZHbiXrFuRTiC"
      },
      "source": [
        "a = tf.random.normal([4, 28, 28, 3])"
      ],
      "execution_count": null,
      "outputs": []
    },
    {
      "cell_type": "code",
      "metadata": {
        "colab": {
          "base_uri": "https://localhost:8080/"
        },
        "id": "bg4fHEaURTeE",
        "outputId": "7c4d8e9b-946e-40b9-ca12-d639402d82de"
      },
      "source": [
        "a.shape, a.ndim"
      ],
      "execution_count": null,
      "outputs": [
        {
          "output_type": "execute_result",
          "data": {
            "text/plain": [
              "(TensorShape([4, 28, 28, 3]), 4)"
            ]
          },
          "metadata": {
            "tags": []
          },
          "execution_count": 102
        }
      ]
    },
    {
      "cell_type": "code",
      "metadata": {
        "colab": {
          "base_uri": "https://localhost:8080/"
        },
        "id": "0JJUi2cQRTPM",
        "outputId": "b4ff8b3f-b5c8-4b85-d705-35a8fdf2656b"
      },
      "source": [
        "tf.reshape(a, [4, 784, 3]).shape"
      ],
      "execution_count": null,
      "outputs": [
        {
          "output_type": "execute_result",
          "data": {
            "text/plain": [
              "TensorShape([4, 784, 3])"
            ]
          },
          "metadata": {
            "tags": []
          },
          "execution_count": 103
        }
      ]
    },
    {
      "cell_type": "code",
      "metadata": {
        "colab": {
          "base_uri": "https://localhost:8080/"
        },
        "id": "YhgLKA_gRTLR",
        "outputId": "161887b0-157e-45e2-dddf-b2ac997ae66e"
      },
      "source": [
        "tf.reshape(a, [4, -1]).shape"
      ],
      "execution_count": null,
      "outputs": [
        {
          "output_type": "execute_result",
          "data": {
            "text/plain": [
              "TensorShape([4, 2352])"
            ]
          },
          "metadata": {
            "tags": []
          },
          "execution_count": 104
        }
      ]
    },
    {
      "cell_type": "code",
      "metadata": {
        "colab": {
          "base_uri": "https://localhost:8080/"
        },
        "id": "54-9KWYaRTHL",
        "outputId": "562ba74c-3f7f-4429-d851-c921f13d48eb"
      },
      "source": [
        "tf.reshape(a, [4, -1, 3]).shape"
      ],
      "execution_count": null,
      "outputs": [
        {
          "output_type": "execute_result",
          "data": {
            "text/plain": [
              "TensorShape([4, 784, 3])"
            ]
          },
          "metadata": {
            "tags": []
          },
          "execution_count": 105
        }
      ]
    },
    {
      "cell_type": "markdown",
      "metadata": {
        "id": "GlrD4CaAbUHC"
      },
      "source": [
        "`tf.transpose()` can help permute the dimensions according to the value of perm.\n",
        "\n",
        "e.g. TF requires image input data  tensor shape be like `[4, 28, 28, 3] (b, H, W, C)`, but pyTorch requires input data dim be like `[4, 3, 28, 28]`, we can use `transpose` to reshape the data"
      ]
    },
    {
      "cell_type": "code",
      "metadata": {
        "id": "LyrhbbusRTC0"
      },
      "source": [
        "a = tf.random.normal([4, 28, 28, 3])   "
      ],
      "execution_count": null,
      "outputs": []
    },
    {
      "cell_type": "code",
      "metadata": {
        "colab": {
          "base_uri": "https://localhost:8080/"
        },
        "id": "faA_vezNRS8T",
        "outputId": "6ae42cd2-d39e-4c67-a61c-9e74a4c29794"
      },
      "source": [
        "tf.transpose(a, perm =[0, 3, 1, 2]).shape "
      ],
      "execution_count": null,
      "outputs": [
        {
          "output_type": "execute_result",
          "data": {
            "text/plain": [
              "TensorShape([4, 3, 28, 28])"
            ]
          },
          "metadata": {
            "tags": []
          },
          "execution_count": 107
        }
      ]
    },
    {
      "cell_type": "code",
      "metadata": {
        "id": "zHD96L8MRSWa"
      },
      "source": [
        "a = tf.random.normal([4, 35, 8]) # 4 classes, 35 students/class, 8 subjects/student"
      ],
      "execution_count": null,
      "outputs": []
    },
    {
      "cell_type": "code",
      "metadata": {
        "colab": {
          "base_uri": "https://localhost:8080/"
        },
        "id": "KGqwDk69RR5H",
        "outputId": "e727205c-630b-4e7c-ff77-7db796295bce"
      },
      "source": [
        "tf.expand_dims(a, axis = 0).shape # 1 school, 4 classes/school, 35 students/class, 8 subjects/student"
      ],
      "execution_count": null,
      "outputs": [
        {
          "output_type": "execute_result",
          "data": {
            "text/plain": [
              "TensorShape([1, 4, 35, 8])"
            ]
          },
          "metadata": {
            "tags": []
          },
          "execution_count": 109
        }
      ]
    },
    {
      "cell_type": "code",
      "metadata": {
        "colab": {
          "base_uri": "https://localhost:8080/"
        },
        "id": "xq4Lt52xRRxl",
        "outputId": "c7e0730c-3e45-4e22-b2bd-5743c8dfffe7"
      },
      "source": [
        "tf.expand_dims(a, axis = -2).shape"
      ],
      "execution_count": null,
      "outputs": [
        {
          "output_type": "execute_result",
          "data": {
            "text/plain": [
              "TensorShape([4, 35, 1, 8])"
            ]
          },
          "metadata": {
            "tags": []
          },
          "execution_count": 110
        }
      ]
    },
    {
      "cell_type": "code",
      "metadata": {
        "colab": {
          "base_uri": "https://localhost:8080/"
        },
        "id": "Dr4ftc4cRRsK",
        "outputId": "a29cce8f-b657-4cbe-a930-dcb4f952c1c8"
      },
      "source": [
        "tf.squeeze(tf.expand_dims(a, axis = 0), axis=0).shape    # remove school dim"
      ],
      "execution_count": null,
      "outputs": [
        {
          "output_type": "execute_result",
          "data": {
            "text/plain": [
              "TensorShape([4, 35, 8])"
            ]
          },
          "metadata": {
            "tags": []
          },
          "execution_count": 111
        }
      ]
    },
    {
      "cell_type": "markdown",
      "metadata": {
        "id": "KR54dmtnbxSp"
      },
      "source": [
        "## Split and combine\n",
        "- `tf.concat([a, b])`\n",
        "- `tf.stack([a, b], axis = 0)`  # create new dim\n",
        "- `tf.unstack(c, axis = 0)` # Unpacks the given dimension of a `rank-R` tensor into `rank-(R-1)` tensors.\n",
        "- `tf.split(c, axis = 0, num_or_size_split = 2)` # split according rows\n",
        "\n"
      ]
    },
    {
      "cell_type": "markdown",
      "metadata": {
        "id": "RC0wTZdLspA4"
      },
      "source": [
        "## Sort (accuracy calculation)\n",
        "\n",
        "- `tf.sort(a, direction = 'DESCENDING')`\n",
        "- `tf.argsort(a, direction = 'DESCENDING')`\n",
        "- `tf.math.top_k(a, 2)`   # 最大的前两个值\n",
        "   - `tf.math.top_k(a, 2).indices`\n",
        "   - `tf.math.top_k(a, 2).values`\n",
        "### top_k accuracy\n"
      ]
    },
    {
      "cell_type": "code",
      "metadata": {
        "colab": {
          "base_uri": "https://localhost:8080/"
        },
        "id": "UBnvbXGTbw-k",
        "outputId": "37a90136-7251-42e0-d890-fd0baa2c0af0"
      },
      "source": [
        "\n",
        "import  tensorflow as tf\n",
        "import  os\n",
        "\n",
        "os.environ['TF_CPP_MIN_LOG_LEVEL'] = '2'\n",
        "tf.random.set_seed(2467)\n",
        "\n",
        "def accuracy(output, target, topk=(1,)):\n",
        "    maxk = max(topk)\n",
        "    batch_size = target.shape[0]\n",
        "\n",
        "    pred = tf.math.top_k(output, maxk).indices\n",
        "    pred = tf.transpose(pred, perm=[1, 0])\n",
        "    target_ = tf.broadcast_to(target, pred.shape)\n",
        "    # [10, b]\n",
        "    correct = tf.equal(pred, target_)\n",
        "\n",
        "    res = []\n",
        "    for k in topk:\n",
        "        correct_k = tf.cast(tf.reshape(correct[:k], [-1]), dtype=tf.float32)\n",
        "        correct_k = tf.reduce_sum(correct_k)\n",
        "        acc = float(correct_k* (100.0 / batch_size) )\n",
        "        res.append(acc)\n",
        "\n",
        "    return res\n",
        "\n",
        "\n",
        "\n",
        "output = tf.random.normal([10, 6])\n",
        "output = tf.math.softmax(output, axis=1)\n",
        "target = tf.random.uniform([10], maxval=6, dtype=tf.int32)\n",
        "print('prob:', output.numpy())\n",
        "pred = tf.argmax(output, axis=1)\n",
        "print('pred:', pred.numpy())\n",
        "print('label:', target.numpy())\n",
        "\n",
        "acc = accuracy(output, target, topk=(1,2,3,4,5,6))\n",
        "print('top-1-6 acc:', acc)"
      ],
      "execution_count": null,
      "outputs": [
        {
          "output_type": "stream",
          "text": [
            "prob: [[0.25310278 0.21715644 0.16043882 0.13088997 0.04334083 0.19507109]\n",
            " [0.05892418 0.04548917 0.00926314 0.14529602 0.66777605 0.07325139]\n",
            " [0.09742808 0.08304427 0.07460099 0.04067177 0.626185   0.07806987]\n",
            " [0.20478569 0.12294924 0.12010485 0.13751231 0.36418733 0.05046057]\n",
            " [0.11872064 0.31072393 0.12530336 0.1552888  0.2132587  0.07670452]\n",
            " [0.01519807 0.09672114 0.1460476  0.00934331 0.5649092  0.16778067]\n",
            " [0.04199061 0.18141054 0.06647632 0.6006175  0.03198383 0.07752118]\n",
            " [0.09226219 0.2346089  0.13022321 0.16295874 0.05362028 0.3263266 ]\n",
            " [0.07019574 0.0861177  0.10912605 0.10521299 0.2152082  0.4141393 ]\n",
            " [0.01882887 0.26597694 0.19122466 0.24109262 0.14920162 0.13367532]]\n",
            "pred: [0 4 4 4 1 4 3 5 5 1]\n",
            "label: [0 2 3 4 2 4 2 3 5 5]\n",
            "top-1-6 acc: [40.0, 40.0, 50.0, 70.0, 80.0, 100.0]\n"
          ],
          "name": "stdout"
        }
      ]
    },
    {
      "cell_type": "markdown",
      "metadata": {
        "id": "RLm6YrqIFq4-"
      },
      "source": [
        "## Padding and Tile (image padding)\n",
        "\n",
        "- `tf.pad(a, [[0,1], [1, 0]])`  # only padding top row and left col\n",
        "- `tf,tile(a, [1, 2])`   # only copy rows, `tf.broadcast_to()` is better"
      ]
    },
    {
      "cell_type": "code",
      "metadata": {
        "colab": {
          "base_uri": "https://localhost:8080/"
        },
        "id": "QutiVsbdbw2y",
        "outputId": "5b53c22d-fbb7-4405-dfc0-64a7afc54762"
      },
      "source": [
        "a = tf.reshape(tf.range(9), [3, 3])\n",
        "a"
      ],
      "execution_count": null,
      "outputs": [
        {
          "output_type": "execute_result",
          "data": {
            "text/plain": [
              "<tf.Tensor: shape=(3, 3), dtype=int32, numpy=\n",
              "array([[0, 1, 2],\n",
              "       [3, 4, 5],\n",
              "       [6, 7, 8]], dtype=int32)>"
            ]
          },
          "metadata": {
            "tags": []
          },
          "execution_count": 113
        }
      ]
    },
    {
      "cell_type": "code",
      "metadata": {
        "colab": {
          "base_uri": "https://localhost:8080/"
        },
        "id": "VhL0fnfnbwun",
        "outputId": "88a4ca05-fe95-41f8-b187-7087350867bb"
      },
      "source": [
        "tf.pad(a, [[1,1], [1,0]]) # top row, bot row, left col"
      ],
      "execution_count": null,
      "outputs": [
        {
          "output_type": "execute_result",
          "data": {
            "text/plain": [
              "<tf.Tensor: shape=(5, 4), dtype=int32, numpy=\n",
              "array([[0, 0, 0, 0],\n",
              "       [0, 0, 1, 2],\n",
              "       [0, 3, 4, 5],\n",
              "       [0, 6, 7, 8],\n",
              "       [0, 0, 0, 0]], dtype=int32)>"
            ]
          },
          "metadata": {
            "tags": []
          },
          "execution_count": 114
        }
      ]
    },
    {
      "cell_type": "code",
      "metadata": {
        "colab": {
          "base_uri": "https://localhost:8080/"
        },
        "id": "p48fqwv3bwrZ",
        "outputId": "ee68d584-6cf5-47ce-af4e-b5d134bd021e"
      },
      "source": [
        "a = tf.random.normal([4,28,28,3])\n",
        "b = tf.pad(a, [[0,0], [2,2], [2,2], [0, 0]])    # only padding top row and left col of image pixels\n",
        "b.shape"
      ],
      "execution_count": null,
      "outputs": [
        {
          "output_type": "execute_result",
          "data": {
            "text/plain": [
              "TensorShape([4, 32, 32, 3])"
            ]
          },
          "metadata": {
            "tags": []
          },
          "execution_count": 115
        }
      ]
    },
    {
      "cell_type": "code",
      "metadata": {
        "colab": {
          "base_uri": "https://localhost:8080/"
        },
        "id": "OozFDkf_bwne",
        "outputId": "f4862fc8-9dfa-443f-8cf5-7d0897ab5f2a"
      },
      "source": [
        "a = tf.reshape(tf.range(9), [3, 3])\n",
        "a"
      ],
      "execution_count": null,
      "outputs": [
        {
          "output_type": "execute_result",
          "data": {
            "text/plain": [
              "<tf.Tensor: shape=(3, 3), dtype=int32, numpy=\n",
              "array([[0, 1, 2],\n",
              "       [3, 4, 5],\n",
              "       [6, 7, 8]], dtype=int32)>"
            ]
          },
          "metadata": {
            "tags": []
          },
          "execution_count": 116
        }
      ]
    },
    {
      "cell_type": "code",
      "metadata": {
        "colab": {
          "base_uri": "https://localhost:8080/"
        },
        "id": "5xglEQhLbwiU",
        "outputId": "dad2fd64-bdd3-4ca1-c56b-667a3ee0089a"
      },
      "source": [
        "tf.tile(a, [2,3]) # copy row twice and copy col three times"
      ],
      "execution_count": null,
      "outputs": [
        {
          "output_type": "execute_result",
          "data": {
            "text/plain": [
              "<tf.Tensor: shape=(6, 9), dtype=int32, numpy=\n",
              "array([[0, 1, 2, 0, 1, 2, 0, 1, 2],\n",
              "       [3, 4, 5, 3, 4, 5, 3, 4, 5],\n",
              "       [6, 7, 8, 6, 7, 8, 6, 7, 8],\n",
              "       [0, 1, 2, 0, 1, 2, 0, 1, 2],\n",
              "       [3, 4, 5, 3, 4, 5, 3, 4, 5],\n",
              "       [6, 7, 8, 6, 7, 8, 6, 7, 8]], dtype=int32)>"
            ]
          },
          "metadata": {
            "tags": []
          },
          "execution_count": 117
        }
      ]
    },
    {
      "cell_type": "markdown",
      "metadata": {
        "id": "rFNYiDcwSMFd"
      },
      "source": [
        "## Clip (gradient exploding/vanishing)\n",
        "\n",
        "- `tf.maximum(a, 2)`   # lower limit = 2\n",
        "- `tf.minimum(a, 8)`   # upper limit = 8\n",
        "- `tf.nn.relu(a)`   #max(x, 0)\n",
        "- `tf.clip_by_value(a, 2, 8)` # lower limit = 2 and upper limit = 8\n",
        "- `tf.clip_by_norm(a, 15)` \n",
        "- `tf.clip_by_global_norm(grads, 15)`     # deal with gradient exploding and gradient vanishing by clip by global norm\n"
      ]
    },
    {
      "cell_type": "code",
      "metadata": {
        "colab": {
          "base_uri": "https://localhost:8080/"
        },
        "id": "1bzZklLQbwfL",
        "outputId": "2f10c767-380e-4df7-99e6-7f6ff3495afb"
      },
      "source": [
        "a = tf.range(-5, 9)\n",
        "a"
      ],
      "execution_count": null,
      "outputs": [
        {
          "output_type": "execute_result",
          "data": {
            "text/plain": [
              "<tf.Tensor: shape=(14,), dtype=int32, numpy=\n",
              "array([-5, -4, -3, -2, -1,  0,  1,  2,  3,  4,  5,  6,  7,  8],\n",
              "      dtype=int32)>"
            ]
          },
          "metadata": {
            "tags": []
          },
          "execution_count": 118
        }
      ]
    },
    {
      "cell_type": "code",
      "metadata": {
        "colab": {
          "base_uri": "https://localhost:8080/"
        },
        "id": "BwG3sENBbwby",
        "outputId": "4351bc61-26fa-4fb7-8a53-0f1c61d7753c"
      },
      "source": [
        "tf.nn.relu(a)"
      ],
      "execution_count": null,
      "outputs": [
        {
          "output_type": "execute_result",
          "data": {
            "text/plain": [
              "<tf.Tensor: shape=(14,), dtype=int32, numpy=array([0, 0, 0, 0, 0, 0, 1, 2, 3, 4, 5, 6, 7, 8], dtype=int32)>"
            ]
          },
          "metadata": {
            "tags": []
          },
          "execution_count": 119
        }
      ]
    },
    {
      "cell_type": "code",
      "metadata": {
        "colab": {
          "base_uri": "https://localhost:8080/"
        },
        "id": "dcgCI-inbwYh",
        "outputId": "ae64a4db-ec70-4e52-dda3-f6011e567fe4"
      },
      "source": [
        "tf.nn.relu6(a)"
      ],
      "execution_count": null,
      "outputs": [
        {
          "output_type": "execute_result",
          "data": {
            "text/plain": [
              "<tf.Tensor: shape=(14,), dtype=int32, numpy=array([0, 0, 0, 0, 0, 0, 1, 2, 3, 4, 5, 6, 6, 6], dtype=int32)>"
            ]
          },
          "metadata": {
            "tags": []
          },
          "execution_count": 120
        }
      ]
    },
    {
      "cell_type": "markdown",
      "metadata": {
        "id": "8BXhNjxqhoZi"
      },
      "source": [
        "we can conclude that `tf.clip_by_global_norm(grads, 15)` can hugely boost the training speed. by comparing the loss after 3500 steps and find that "
      ]
    },
    {
      "cell_type": "code",
      "metadata": {
        "colab": {
          "base_uri": "https://localhost:8080/"
        },
        "id": "fB8TzSt7bwU9",
        "outputId": "e9f82bdb-20dd-4dc3-f2a4-8170e578a750"
      },
      "source": [
        "import  tensorflow as tf\n",
        "from    tensorflow import keras\n",
        "from    tensorflow.keras import datasets, layers, optimizers\n",
        "import  os\n",
        "\n",
        "os.environ['TF_CPP_MIN_LOG_LEVEL']='2'\n",
        "print(tf.__version__)\n",
        "\n",
        "(x, y), _ = datasets.mnist.load_data()\n",
        "x = tf.convert_to_tensor(x, dtype=tf.float32) / 50.\n",
        "y = tf.convert_to_tensor(y)\n",
        "y = tf.one_hot(y, depth=10)\n",
        "print('x:', x.shape, 'y:', y.shape)\n",
        "train_db = tf.data.Dataset.from_tensor_slices((x,y)).batch(128).repeat(30)\n",
        "x,y = next(iter(train_db))\n",
        "print('sample:', x.shape, y.shape)\n",
        "# print(x[0], y[0])\n",
        "\n",
        "\n",
        "\n",
        "def main():\n",
        "\n",
        "    # 784 => 512\n",
        "    w1, b1 = tf.Variable(tf.random.truncated_normal([784, 512], stddev=0.1)), tf.Variable(tf.zeros([512]))\n",
        "    # 512 => 256\n",
        "    w2, b2 = tf.Variable(tf.random.truncated_normal([512, 256], stddev=0.1)), tf.Variable(tf.zeros([256]))\n",
        "    # 256 => 10\n",
        "    w3, b3 = tf.Variable(tf.random.truncated_normal([256, 10], stddev=0.1)), tf.Variable(tf.zeros([10]))\n",
        "\n",
        "\n",
        "\n",
        "    optimizer = optimizers.SGD(lr=0.01)\n",
        "\n",
        "\n",
        "    for step, (x,y) in enumerate(train_db):\n",
        "\n",
        "        # [b, 28, 28] => [b, 784]\n",
        "        x = tf.reshape(x, (-1, 784))\n",
        "\n",
        "        with tf.GradientTape() as tape:\n",
        "\n",
        "            # layer1.\n",
        "            h1 = x @ w1 + b1\n",
        "            h1 = tf.nn.relu(h1)\n",
        "            # layer2\n",
        "            h2 = h1 @ w2 + b2\n",
        "            h2 = tf.nn.relu(h2)\n",
        "            # output\n",
        "            out = h2 @ w3 + b3\n",
        "            # out = tf.nn.relu(out)\n",
        "\n",
        "            # compute loss\n",
        "            # [b, 10] - [b, 10]\n",
        "            loss = tf.square(y-out)\n",
        "            # [b, 10] => [b]\n",
        "            loss = tf.reduce_mean(loss, axis=1)\n",
        "            # [b] => scalar\n",
        "            loss = tf.reduce_mean(loss)\n",
        "\n",
        "\n",
        "\n",
        "        # compute gradient\n",
        "        grads = tape.gradient(loss, [w1, b1, w2, b2, w3, b3])\n",
        "\n",
        "        # print('==before==')\n",
        "        # for g in grads:\n",
        "        #     print(tf.norm(g))\n",
        "        \n",
        "        grads,  _ = tf.clip_by_global_norm(grads, 15)   \n",
        "\n",
        "        # print('==after==')\n",
        "        # for g in grads:\n",
        "        #     print(tf.norm(g))\n",
        "        #update w' = w - lr*grad\n",
        "        optimizer.apply_gradients(zip(grads, [w1, b1, w2, b2, w3, b3]))\n",
        "\n",
        "\n",
        "\n",
        "        if step % 100 == 0:\n",
        "            print(step, 'loss:', float(loss))\n",
        "\n",
        "\n",
        "\n",
        "\n",
        "# if __name__ == '__main__':\n",
        "#     main()\n",
        "\n",
        "#main()"
      ],
      "execution_count": null,
      "outputs": [
        {
          "output_type": "stream",
          "text": [
            "2.4.1\n",
            "x: (60000, 28, 28) y: (60000, 10)\n",
            "sample: (128, 28, 28) (128, 10)\n"
          ],
          "name": "stdout"
        }
      ]
    },
    {
      "cell_type": "code",
      "metadata": {
        "id": "GS5jTlW0buxT"
      },
      "source": [
        ""
      ],
      "execution_count": null,
      "outputs": []
    },
    {
      "cell_type": "markdown",
      "metadata": {
        "id": "QN3IhZVVfhKQ"
      },
      "source": [
        "## Broadcasting\n",
        "\n",
        "when we do high-dim tensor + low-dim tensor, the calculation only implies to according lower dim, it reduces tons of memory consumption.\n",
        "\n",
        "e.g. X@W + b -> [60k*784][784, 10] + [bias]\n",
        "\n",
        "\n",
        "`tf.broadcast_to(tf.random.normal([4,1,1,1]),[4,32,32,3])`"
      ]
    },
    {
      "cell_type": "code",
      "metadata": {
        "colab": {
          "base_uri": "https://localhost:8080/"
        },
        "id": "broRBym_RRlp",
        "outputId": "9cecc15e-bfa5-40e3-cf7d-b1dc8f5547af"
      },
      "source": [
        "a = tf.random.normal([4, 35, 8]) # 4 classes, 35 students/class, 8 subjects/student\n",
        "a[0,0,0], a.shape"
      ],
      "execution_count": null,
      "outputs": [
        {
          "output_type": "execute_result",
          "data": {
            "text/plain": [
              "(<tf.Tensor: shape=(), dtype=float32, numpy=1.0483129>,\n",
              " TensorShape([4, 35, 8]))"
            ]
          },
          "metadata": {
            "tags": []
          },
          "execution_count": 122
        }
      ]
    },
    {
      "cell_type": "code",
      "metadata": {
        "colab": {
          "base_uri": "https://localhost:8080/"
        },
        "id": "HcK3ZMJkRRfm",
        "outputId": "124421d2-d307-4bcc-cc4a-64d93ddd83f0"
      },
      "source": [
        "(a+[5.0])[0,0,0]   # every student's score + 5"
      ],
      "execution_count": null,
      "outputs": [
        {
          "output_type": "execute_result",
          "data": {
            "text/plain": [
              "<tf.Tensor: shape=(), dtype=float32, numpy=6.048313>"
            ]
          },
          "metadata": {
            "tags": []
          },
          "execution_count": 123
        }
      ]
    },
    {
      "cell_type": "code",
      "metadata": {
        "id": "21fDweuMRRZh"
      },
      "source": [
        "a = tf.random.normal([4, 28, 28, 3])   "
      ],
      "execution_count": null,
      "outputs": []
    },
    {
      "cell_type": "code",
      "metadata": {
        "colab": {
          "base_uri": "https://localhost:8080/"
        },
        "id": "bSgttpw3RRWc",
        "outputId": "cb08d44a-f71f-46ee-e3b7-795fca9adf26"
      },
      "source": [
        "(a + tf.random.normal([3])).shape"
      ],
      "execution_count": null,
      "outputs": [
        {
          "output_type": "execute_result",
          "data": {
            "text/plain": [
              "TensorShape([4, 28, 28, 3])"
            ]
          },
          "metadata": {
            "tags": []
          },
          "execution_count": 125
        }
      ]
    },
    {
      "cell_type": "code",
      "metadata": {
        "colab": {
          "base_uri": "https://localhost:8080/"
        },
        "id": "-UOQUcGhRRRT",
        "outputId": "672e1de5-3ba0-4ed9-f732-d849ae7641bf"
      },
      "source": [
        "(a + tf.random.normal([28,28,1])).shape"
      ],
      "execution_count": null,
      "outputs": [
        {
          "output_type": "execute_result",
          "data": {
            "text/plain": [
              "TensorShape([4, 28, 28, 3])"
            ]
          },
          "metadata": {
            "tags": []
          },
          "execution_count": 126
        }
      ]
    },
    {
      "cell_type": "code",
      "metadata": {
        "colab": {
          "base_uri": "https://localhost:8080/"
        },
        "id": "CrjOUNB8RRMi",
        "outputId": "2ace0be6-3bb3-4a31-8d1e-e5599fcb1169"
      },
      "source": [
        "(a + tf.random.normal([4,1,1,1])).shape"
      ],
      "execution_count": null,
      "outputs": [
        {
          "output_type": "execute_result",
          "data": {
            "text/plain": [
              "TensorShape([4, 28, 28, 3])"
            ]
          },
          "metadata": {
            "tags": []
          },
          "execution_count": 127
        }
      ]
    },
    {
      "cell_type": "code",
      "metadata": {
        "id": "LUbgadu-RRGt"
      },
      "source": [
        "#(a + tf.random.normal([1,4,1,1])).shape"
      ],
      "execution_count": null,
      "outputs": []
    },
    {
      "cell_type": "markdown",
      "metadata": {
        "id": "ASwFZOCPowd8"
      },
      "source": [
        "## Math\n",
        "- `tf.math.log(a)`\n",
        "- `tf.exp(a)`\n",
        "- `tf.sqrt(a)`\n",
        "- `tf.square(a)`   #  square every item in a tensor \n",
        "- `tf.pow(a,3)` or `a**3`   \n",
        "- `tf.matmul(a,b)` or `a@b`   --> matrix multiplication: `[4,2,3]@[4,3,5] = [4,2,5]`\n",
        "- `tf.multiply(a,b)` or `a*b`  -->  element-wise multiplication (dot production), need a and b are in same shape\n",
        "- `tf.reduce_sum(_, axis=1)` -> row-wise calculation: `[[1,2] -> [3]`, `[[1,2],[3,4] -> [3,7]`"
      ]
    },
    {
      "cell_type": "code",
      "metadata": {
        "id": "NtXI6Oj9RQ8C"
      },
      "source": [
        "x = tf.ones([4,2])\n",
        "W = tf.constant([[1.], [-5.]])\n",
        "b = tf.constant([0.1])"
      ],
      "execution_count": null,
      "outputs": []
    },
    {
      "cell_type": "code",
      "metadata": {
        "colab": {
          "base_uri": "https://localhost:8080/"
        },
        "id": "ulj229ioRQ3y",
        "outputId": "e8516f16-32d2-43c3-8699-0db20d853441"
      },
      "source": [
        "out = x@W + b\n",
        "out"
      ],
      "execution_count": null,
      "outputs": [
        {
          "output_type": "execute_result",
          "data": {
            "text/plain": [
              "<tf.Tensor: shape=(4, 1), dtype=float32, numpy=\n",
              "array([[-3.9],\n",
              "       [-3.9],\n",
              "       [-3.9],\n",
              "       [-3.9]], dtype=float32)>"
            ]
          },
          "metadata": {
            "tags": []
          },
          "execution_count": 130
        }
      ]
    },
    {
      "cell_type": "code",
      "metadata": {
        "colab": {
          "base_uri": "https://localhost:8080/"
        },
        "id": "ByoscRVmRQ0R",
        "outputId": "7e154a0e-cf57-4b6e-ea84-d6b9ee026a8c"
      },
      "source": [
        "tf.nn.relu(out)   # ReLU layer filters all negative items"
      ],
      "execution_count": null,
      "outputs": [
        {
          "output_type": "execute_result",
          "data": {
            "text/plain": [
              "<tf.Tensor: shape=(4, 1), dtype=float32, numpy=\n",
              "array([[0.],\n",
              "       [0.],\n",
              "       [0.],\n",
              "       [0.]], dtype=float32)>"
            ]
          },
          "metadata": {
            "tags": []
          },
          "execution_count": 131
        }
      ]
    },
    {
      "cell_type": "markdown",
      "metadata": {
        "id": "hT5QRaAhjJhg"
      },
      "source": [
        "## Statistics\n",
        "\n",
        "- `tf.norm()` is equiv. to `tf.sqrt(tf.reduce_sum(tf.square(a)))`\n",
        "- `tf.norm(a, ord=1, axis = 0)`  # L1-norm on axis 1\n",
        "- `tf.reduce_min/max/mean(a)`  # global min/max\n",
        "- `tf.reduce_min/max/mean(a, axis = 0)`  # min/max on axis 0, reduce dimension\n",
        "- `tf.argmax()` # min/max of axis 0\n",
        "- `tf.equal(a, b)` # compare two tensors\n",
        "- `tf.unique()`\n",
        "\n"
      ]
    },
    {
      "cell_type": "markdown",
      "metadata": {
        "id": "P9Wzs_GxkOIZ"
      },
      "source": [
        "## Advanced Operation\n",
        "- `tf.where(mask)`          # return indices of true\n",
        "- `tf.where(mask, A, B)`   # if true go A, otherwise go B\n",
        "- `tf.scatter_nd(indices, updates, shape)`   # update according pos with given value\n",
        "- `tf.meshgrd(x_linspace, y_linspace)`\n"
      ]
    },
    {
      "cell_type": "code",
      "metadata": {
        "colab": {
          "base_uri": "https://localhost:8080/",
          "height": 551
        },
        "id": "4hLIhb1wkPCv",
        "outputId": "8aaeea73-9ca8-4877-a44f-2c98f6870a57"
      },
      "source": [
        "import tensorflow as tf\n",
        "\n",
        "import matplotlib.pyplot as plt\n",
        "\n",
        "\n",
        "def func(x):\n",
        "    \"\"\"\n",
        "    :param x: [b, 2]\n",
        "    :return:\n",
        "    \"\"\"\n",
        "    z = tf.math.sin(x[...,0]) + tf.math.sin(x[...,1])\n",
        "\n",
        "    return z\n",
        "\n",
        "\n",
        "x = tf.linspace(0., 2*3.14, 500)\n",
        "y = tf.linspace(0., 2*3.14, 500)\n",
        "# [50, 50]\n",
        "point_x, point_y = tf.meshgrid(x, y)\n",
        "# [50, 50, 2]\n",
        "points = tf.stack([point_x, point_y], axis=2)\n",
        "# points = tf.reshape(points, [-1, 2])\n",
        "print('points:', points.shape)\n",
        "z = func(points)\n",
        "print('z:', z.shape)\n",
        "\n",
        "plt.figure('plot 2d func value')\n",
        "plt.imshow(z, origin='lower', interpolation='none')\n",
        "plt.colorbar()\n",
        "\n",
        "plt.figure('plot 2d func contour')\n",
        "plt.contour(point_x, point_y, z)\n",
        "plt.colorbar()\n",
        "plt.show()"
      ],
      "execution_count": null,
      "outputs": [
        {
          "output_type": "stream",
          "text": [
            "points: (500, 500, 2)\n",
            "z: (500, 500)\n"
          ],
          "name": "stdout"
        },
        {
          "output_type": "display_data",
          "data": {
            "image/png": "[encoded data removed]",
            "text/plain": [
              "<Figure size 432x288 with 2 Axes>"
            ]
          },
          "metadata": {
            "tags": [],
            "needs_background": "light"
          }
        },
        {
          "output_type": "display_data",
          "data": {
            "image/png": "[encoded data removed]",
            "text/plain": [
              "<Figure size 432x288 with 2 Axes>"
            ]
          },
          "metadata": {
            "tags": [],
            "needs_background": "light"
          }
        }
      ]
    },
    {
      "cell_type": "markdown",
      "metadata": {
        "id": "CFcFSMZUriiA"
      },
      "source": [
        "## Load dataset\n",
        "\n",
        "- `tf.keras.datasets.mnist.load_data()` \n",
        "- `tf.data.Dataset.from_tensor_slices()` # best way to convert dataset to tensors\n",
        " - `db.shuffle(1000)`\n",
        " - `db.map(preprocess)`\n",
        " - `db.batch(200)`\n",
        " - `db.repeat()`\n",
        "\n",
        " regular pipeline:\n",
        " 1. laod numpy dataset from kera.Data API\n",
        " 2. one-hot encoding for y\n",
        " 3. load into sliced TensorFlow tensor dataset\n",
        " 4. shuffle dataset and creat batches \n",
        " 5. preprocess (change dtype and minmax normalization)"
      ]
    },
    {
      "cell_type": "code",
      "metadata": {
        "colab": {
          "base_uri": "https://localhost:8080/"
        },
        "id": "QQFkYT5_kO-e",
        "outputId": "ee9a0c7c-d06b-4f4d-81fc-b54dd66269b4"
      },
      "source": [
        "import  tensorflow as tf\n",
        "from    tensorflow import keras\n",
        "from    tensorflow.keras import datasets, layers, optimizers\n",
        "import  os\n",
        "\n",
        "os.environ['TF_CPP_MIN_LOG_LEVEL']='2'\n",
        "print(tf.__version__)\n",
        "\n",
        "def prepare_mnist_feature_and_labels(x, y):\n",
        "  x = tf.cast(x, tf.float32) / 255.\n",
        "  y = tf.cast(y, tf.int32)\n",
        "  return x, y\n",
        "\n",
        "def load_dataset():\n",
        "  #(x, y), _ = tf.keras.datasets.mnist.load_data()   # still numpy array, need to wrap into tensor for tensorflow use\n",
        "  #(x, y), _ = tf.keras.datasets.cifar10.load_data()   # still numpy array, need to wrap into tensor for tensorflow use\n",
        "  (x, y), (x_val, y_val) = tf.keras.datasets.fashion_mnist.load_data()   # still numpy array, need to wrap into tensor for tensorflow use\n",
        "  #print(x.min(), x.max(), x.mean())\n",
        "  # next(iter(x)).shape   # check x's content \n",
        "\n",
        "  y = tf.one_hot(y, depth = 10)\n",
        "  y_val = tf.one_hot(y_val, depth = 10)\n",
        "\n",
        "  ds = tf.data.Dataset.from_tensor_slices((x, y)) # conver to tensor      \n",
        "  ds = ds.map(prepare_mnist_feature_and_labels)\n",
        "  ds = ds.shuffle(60000).batch(100)\n",
        "\n",
        "  ds_val = tf.data.Dataset.from_tensor_slices((x, y))\n",
        "  ds_val = ds_val.map(prepare_mnist_feature_and_labels)\n",
        "  ds_val = ds_val.shuffle(60000).batch(100) \n",
        "\n",
        "  return ds, ds_val\n",
        "\n"
      ],
      "execution_count": null,
      "outputs": [
        {
          "output_type": "stream",
          "text": [
            "2.4.1\n"
          ],
          "name": "stdout"
        }
      ]
    },
    {
      "cell_type": "code",
      "metadata": {
        "colab": {
          "base_uri": "https://localhost:8080/"
        },
        "id": "w6mEhTQ5kO59",
        "outputId": "78398695-8ce0-4966-84a8-a4469e5586cf"
      },
      "source": [
        "load_dataset()"
      ],
      "execution_count": null,
      "outputs": [
        {
          "output_type": "stream",
          "text": [
            "Downloading data from https://storage.googleapis.com/tensorflow/tf-keras-datasets/train-labels-idx1-ubyte.gz\n",
            "32768/29515 [=================================] - 0s 0us/step\n",
            "Downloading data from https://storage.googleapis.com/tensorflow/tf-keras-datasets/train-images-idx3-ubyte.gz\n",
            "26427392/26421880 [==============================] - 0s 0us/step\n",
            "Downloading data from https://storage.googleapis.com/tensorflow/tf-keras-datasets/t10k-labels-idx1-ubyte.gz\n",
            "8192/5148 [===============================================] - 0s 0us/step\n",
            "Downloading data from https://storage.googleapis.com/tensorflow/tf-keras-datasets/t10k-images-idx3-ubyte.gz\n",
            "4423680/4422102 [==============================] - 0s 0us/step\n"
          ],
          "name": "stdout"
        },
        {
          "output_type": "execute_result",
          "data": {
            "text/plain": [
              "(<BatchDataset shapes: ((None, 28, 28), (None, 10)), types: (tf.float32, tf.int32)>,\n",
              " <BatchDataset shapes: ((None, 28, 28), (None, 10)), types: (tf.float32, tf.int32)>)"
            ]
          },
          "metadata": {
            "tags": []
          },
          "execution_count": 134
        }
      ]
    },
    {
      "cell_type": "code",
      "metadata": {
        "id": "8QwuAyj3kO1b"
      },
      "source": [
        "train_db = tf.data.Dataset.from_tensor_slices((x,y)).batch(128)  # batch processing"
      ],
      "execution_count": null,
      "outputs": []
    },
    {
      "cell_type": "code",
      "metadata": {
        "id": "Ctr0bZTvkOx0"
      },
      "source": [
        ""
      ],
      "execution_count": null,
      "outputs": []
    },
    {
      "cell_type": "markdown",
      "metadata": {
        "id": "XDEC46NdeHau"
      },
      "source": [
        "## Project: Forward propargation (tensor low level)\n",
        "\n",
        "some points worth mentioning:\n",
        "- weights, bias and loss should be wrapped into `tf.Varable()` for gradient calculation\n",
        "= weights initialization is extremely important, otherwise it will cause gradient vanishing\n",
        "- larger batch size means fewer trsining steps in each epoch\n",
        "- `tf.float32` is a suitable dtype for training data\n"
      ]
    },
    {
      "cell_type": "code",
      "metadata": {
        "id": "BbZ0D1tWeIbw"
      },
      "source": [
        "import tensorflow as tf\n",
        "from tensorflow import keras\n",
        "from tensorflow.keras import datasets\n",
        "import os \n",
        "\n",
        "os.environ['TF_CPP_MIN_LOG_LEVEL'] = '2'\n",
        "\n",
        "def preprocess(x, y):\n",
        "    \"\"\"\n",
        "    :param x:\n",
        "    :param y:\n",
        "    :return:\n",
        "    \"\"\"\n",
        "    # [b, 28, 28], [b]\n",
        "    x = tf.cast(x, dtype=tf.float32) / 255.\n",
        "    x = tf.reshape(x, [-1, 28*28])   \n",
        "    y = tf.cast(y, dtype=tf.int32)\n",
        "    y = tf.one_hot(y, depth=10)\n",
        "\n",
        "    return x,y\n",
        "\n",
        "    \n",
        "# x: [60k, 28, 28]\n",
        "# y: [60k]\n",
        "#(x, y), _ = datasets.mnist.load_data()\n",
        "(x, y), (x_test, y_test) = datasets.mnist.load_data()\n",
        "print('x:', x.shape, 'y:', y.shape, 'x test:', x_test.shape, 'y test:', y_test)\n",
        "\n",
        "############################## replaced by preprocess function ########################\n",
        "# x = tf.convert_to_tensor(x, dtype = tf.float32) / 255.    # min-max normalize\n",
        "# y = tf.convert_to_tensor(y, dtype = tf.int32)\n",
        "\n",
        "# x_test = tf.convert_to_tensor(x_test, dtype = tf.float32) / 255.    # min-max normalize\n",
        "# y_test = tf.convert_to_tensor(y_test, dtype = tf.int32)\n",
        "\n",
        "# print(x.shape, y.shape, x.dtype, y.dtype)\n",
        "# print(tf.reduce_min(x), tf.reduce_max(x))  #check min and max value of x\n",
        "# print(tf.reduce_min(y), tf.reduce_max(y))  #label: 0-9\n",
        "########################################################################################\n",
        "\n",
        "train_db = tf.data.Dataset.from_tensor_slices((x, y))\n",
        "train_db = train_db.shuffle(60000).batch(128).map(preprocess).repeat(30)\n",
        "\n",
        "test_db = tf.data.Dataset.from_tensor_slices((x_test, y_test))\n",
        "test_db = test_db.shuffle(10000).batch(128).map(preprocess)\n",
        "\n",
        "# x,y = next(iter(train_db))\n",
        "# print('train sample:', x.shape, y.shape)\n",
        "\n",
        "# check train_db content\n",
        "# train_iter = iter(train_db)\n",
        "# sample = next(train_iter)\n",
        "\n",
        "# print('batch', sample[0].shape, sample[1].shape)\n",
        "\n",
        "# [b, 784] => [b, 256] => [b, 128] => [b, 10]\n",
        "# [dim_in, dim_out], [dim_out]\n",
        "\n",
        "# learning rate\n",
        "lr = 1e-3\n",
        "\n",
        "############################## verbose code ############################################\n",
        "# weights initialization, must change default stddev=1 to stddev=0.1\n",
        "# w1 = tf.Variable(tf.random.truncated_normal([784, 256], stddev=0.1)) # need to wrap w, b into tf.Vraible() to enable gradient descent\n",
        "# b1 = tf.Variable(tf.zeros([256]))\n",
        "# w2 = tf.Variable(tf.random.truncated_normal([256, 128], stddev=0.1))\n",
        "# b2 = tf.Variable(tf.zeros([128]))\n",
        "# w3 = tf.Variable(tf.random.truncated_normal([128, 10], stddev=0.1))\n",
        "# b3 = tf.Variable(tf.zeros([10]))\n",
        "########################################################################################\n",
        "\n",
        "# 784 => 512\n",
        "w1, b1 = tf.Variable(tf.random.truncated_normal([784, 512], stddev=0.1)), tf.Variable(tf.zeros([512]))\n",
        "# 512 => 256\n",
        "w2, b2 = tf.Variable(tf.random.truncated_normal([512, 256], stddev=0.1)), tf.Variable(tf.zeros([256]))\n",
        "# 256 => 10\n",
        "w3, b3 = tf.Variable(tf.random.truncated_normal([256, 10], stddev=0.1)), tf.Variable(tf.zeros([10]))\n",
        "\n",
        "\n",
        "for epoch in range(100):\n",
        "\n",
        "  # trsining \n",
        "  for step, (x, y) in enumerate(train_db):   # barch processing\n",
        "    # x:[128,28,28]         # process 128 pics / batch\n",
        "    # y:[128]\n",
        "\n",
        "    # [b, 28*28] => [b, 28*28]\n",
        "    #print(x.shape)\n",
        "    x = tf.reshape(x,[-1, 28*28])\n",
        "    #print(x.shape)\n",
        "\n",
        "    with tf.GradientTape() as tape:    #gradient descent wrapper， to use tf.GradientTape() you should put all computation under tf.GradientTape()\n",
        "      # x:[b, 28*28]\n",
        "      # h1 = x@w + b1\n",
        "      # [b,782]@[784,256] + [256] -> [b, 256] + [256]\n",
        "      h1 = x@w1 + b1\n",
        "      h1 = tf.nn.relu(h1)\n",
        "      # [b, 256] => [b, 128]\n",
        "      h2 = h1@w2 + b2\n",
        "      h2 = tf.nn.relu(h2)\n",
        "      # [b, 128] => [b, 10]\n",
        "      out = h2@w3 + b3\n",
        "\n",
        "      # compute loss\n",
        "      # out: [b, 10]\n",
        "      # y:[b] => [b, 10]\n",
        "      #y_onehot = tf.one_hot(y, depth=10)\n",
        "\n",
        "      # mse = mean(sum(y-out)^2)\n",
        "      loss = tf.square(y - out)\n",
        "      loss = tf.reduce_mean(loss) \n",
        "\n",
        "    # compute gradients\n",
        "    grads = tape.gradient(loss, [w1, b1, w2, b2, w3, b3])   # all gradents will be saved in grads\n",
        "\n",
        "    #grads,  _ = tf.clip_by_global_norm(grads, 15)\n",
        "\n",
        "############################## verbose code ############################################\n",
        "    # w1 = w1 - lr * grads[0]\n",
        "    # b1 = b1 - lr * grads[1]\n",
        "    # w2 = w2 - lr * grads[2]\n",
        "    # b2 = b2 - lr * grads[3]\n",
        "    # w3 = w3 - lr * grads[4]\n",
        "    # b3 = b3 - lr * grads[5]\n",
        "    # w1.assign_sub(lr * grads[0]) # need to keep assigning tf.Variable() for output\n",
        "    # b1.assign_sub(lr * grads[1])\n",
        "    # w2.assign_sub(lr * grads[2])\n",
        "    # b2.assign_sub(lr * grads[3])\n",
        "    # w3.assign_sub(lr * grads[4])\n",
        "    # b3.assign_sub(lr * grads[5])\n",
        "########################################################################################\n",
        "\n",
        "    # update w' = w - lr * grad of w \n",
        "    for p, g in zip([w1, b1, w2, b2, w3, b3], grads):   # w1 - lr * grad of w \n",
        "        p.assign_sub(lr * g)\n",
        "\n",
        "    if step%500 == 0:\n",
        "      print('epoch: ',epoch, 'step: ',step, 'loss: ', float(loss))\n",
        "\n",
        "\n",
        "    # testing /evaluation\n",
        "    if step % 500 == 0:\n",
        "              total, total_correct = 0., 0\n",
        "\n",
        "              for step, (x, y) in enumerate(test_db):\n",
        "                  # layer1.\n",
        "                  h1 = x @ w1 + b1\n",
        "                  h1 = tf.nn.relu(h1)\n",
        "                  # layer2\n",
        "                  h2 = h1 @ w2 + b2\n",
        "                  h2 = tf.nn.relu(h2)\n",
        "                  # output\n",
        "                  out = h2 @ w3 + b3\n",
        "                  # [b, 10] => [b]\n",
        "                  pred = tf.argmax(out, axis=1)\n",
        "                  # convert one_hot y to number y\n",
        "                  y = tf.argmax(y, axis=1)\n",
        "                  # bool type\n",
        "                  correct = tf.equal(pred, y)\n",
        "                  # bool tensor => int tensor => numpy\n",
        "                  total_correct += tf.reduce_sum(tf.cast(correct, dtype=tf.int32)).numpy()\n",
        "                  total += x.shape[0]\n",
        "                  acc = total_correct/total\n",
        "\n",
        "              print(\"Evaluate Step: \", step, 'Evaluate Acc:', acc)\n",
        "\n"
      ],
      "execution_count": null,
      "outputs": []
    },
    {
      "cell_type": "markdown",
      "metadata": {
        "id": "QYXeht76PKRa"
      },
      "source": [
        "# Tesorflow & Deep Learning"
      ]
    },
    {
      "cell_type": "markdown",
      "metadata": {
        "id": "9phO2_8ZPYaX"
      },
      "source": [
        "## Fully Connected Layer / MLP\n",
        "\n",
        "- `tf.keras.layers.Dense(out_shape)`"
      ]
    },
    {
      "cell_type": "code",
      "metadata": {
        "id": "N0EBcOYLeIYg"
      },
      "source": [
        "import tensorflow as tf \n",
        "from \ttensorflow import keras\n",
        "\n",
        "x = tf.random.normal([2, 3])\n",
        "\n",
        "model = keras.Sequential([\n",
        "\t\tkeras.layers.Dense(2, activation='relu'),  \n",
        "\t\tkeras.layers.Dense(2, activation='relu'),\n",
        "\t\tkeras.layers.Dense(2)    # output layer doesnt need activation function\n",
        "\t])\n",
        "\n",
        "model.build(input_shape=[None, 3])    # weights initializer\n",
        "model.summary()\n",
        "\n",
        "for p in model.trainable_variables:  # trainable_variables: [w1, b1, w2, b2, w3, b3]\n",
        "\tprint(p.name, p.shape)"
      ],
      "execution_count": null,
      "outputs": []
    },
    {
      "cell_type": "markdown",
      "metadata": {
        "id": "lM9FY32qpGcF"
      },
      "source": [
        "## MLP Output\n",
        "\n",
        "- `tf.sigmoid(a)`   # -1 ~ 1\n",
        "- `tf.tanh(a)`   # 0 ~ 1，  LSTM preferred\n",
        "- `tf.nn.softmax(a)`  # sum equals 1\n"
      ]
    },
    {
      "cell_type": "code",
      "metadata": {
        "id": "HTpyDDiVeIT1",
        "colab": {
          "base_uri": "https://localhost:8080/"
        },
        "outputId": "dfa0e8ed-1b92-4510-f00c-013c8980057e"
      },
      "source": [
        "a = tf.linspace(-2, 2, 10)\n",
        "a"
      ],
      "execution_count": null,
      "outputs": [
        {
          "output_type": "execute_result",
          "data": {
            "text/plain": [
              "<tf.Tensor: shape=(10,), dtype=float64, numpy=\n",
              "array([-2.        , -1.55555556, -1.11111111, -0.66666667, -0.22222222,\n",
              "        0.22222222,  0.66666667,  1.11111111,  1.55555556,  2.        ])>"
            ]
          },
          "metadata": {
            "tags": []
          },
          "execution_count": 137
        }
      ]
    },
    {
      "cell_type": "code",
      "metadata": {
        "id": "IYPK5ZuBeIPz",
        "colab": {
          "base_uri": "https://localhost:8080/"
        },
        "outputId": "8fb99e8d-b50c-4d85-f46a-dcb95f3f76fd"
      },
      "source": [
        "tf.sigmoid(a)"
      ],
      "execution_count": null,
      "outputs": [
        {
          "output_type": "execute_result",
          "data": {
            "text/plain": [
              "<tf.Tensor: shape=(10,), dtype=float64, numpy=\n",
              "array([0.11920292, 0.17428532, 0.2476638 , 0.33924363, 0.44467194,\n",
              "       0.55532806, 0.66075637, 0.7523362 , 0.82571468, 0.88079708])>"
            ]
          },
          "metadata": {
            "tags": []
          },
          "execution_count": 138
        }
      ]
    },
    {
      "cell_type": "code",
      "metadata": {
        "id": "CE6YagHKRQwI",
        "colab": {
          "base_uri": "https://localhost:8080/"
        },
        "outputId": "9b748cef-7c70-467c-d641-4213972fa670"
      },
      "source": [
        "tf.nn.softmax(a)\n",
        "#tf.reduce_sum(tf.nn.softmax(a))"
      ],
      "execution_count": null,
      "outputs": [
        {
          "output_type": "execute_result",
          "data": {
            "text/plain": [
              "<tf.Tensor: shape=(10,), dtype=float64, numpy=\n",
              "array([0.00665011, 0.01037166, 0.01617589, 0.0252283 , 0.03934664,\n",
              "       0.06136595, 0.09570778, 0.1492681 , 0.23280204, 0.36308353])>"
            ]
          },
          "metadata": {
            "tags": []
          },
          "execution_count": 142
        }
      ]
    },
    {
      "cell_type": "code",
      "metadata": {
        "id": "T8sNosXHI0Sr",
        "colab": {
          "base_uri": "https://localhost:8080/"
        },
        "outputId": "1f6ea987-7c3a-49c9-cd1d-f0be7cc8dd94"
      },
      "source": [
        "tf.tanh(a)\n",
        "tf.reduce_sum(tf.nn.softmax(a))"
      ],
      "execution_count": null,
      "outputs": [
        {
          "output_type": "execute_result",
          "data": {
            "text/plain": [
              "<tf.Tensor: shape=(10,), dtype=float64, numpy=\n",
              "array([-0.96402758, -0.9146975 , -0.8044548 , -0.58278295, -0.21863508,\n",
              "        0.21863508,  0.58278295,  0.8044548 ,  0.9146975 ,  0.96402758])>"
            ]
          },
          "metadata": {
            "tags": []
          },
          "execution_count": 143
        }
      ]
    },
    {
      "cell_type": "markdown",
      "metadata": {
        "id": "IYBVZRlAvlxO"
      },
      "source": [
        "## Loss funcion calculation\n",
        "\n",
        "Both metrics are `the lower, the better`\n",
        "\n",
        "- MSE\n",
        "- Cross entropy of two one hot encoding `([0, 1, 0, 0], [0.15, 0.55, 0.05, 0.15])`"
      ]
    },
    {
      "cell_type": "code",
      "metadata": {
        "colab": {
          "base_uri": "https://localhost:8080/"
        },
        "id": "iUZYDnuJvli8",
        "outputId": "01366a50-149d-4f3c-bfae-5d1bc0a53093"
      },
      "source": [
        "import tensorflow as tf \n",
        "\n",
        "y = tf.constant([1, 2, 3, 0, 2])\n",
        "y = tf.one_hot(y, depth=4)\n",
        "y = tf.cast(y, dtype=tf.float32)\n",
        "print(\"y: \",y)\n",
        "\n",
        "out = tf.random.normal([5, 4])    # softmax output\n",
        "print(\"Out: \",out)\n",
        "\n",
        "loss1 = tf.reduce_mean(tf.square(y-out))\n",
        "\n",
        "loss2 = tf.square(tf.norm(y-out))/(5*4)\n",
        "\n",
        "loss3 = tf.reduce_mean(tf.losses.MSE(y, out)) # VS MeanSquaredError is a class\n",
        "\n",
        "\n",
        "print(loss1)\n",
        "print(loss2)\n",
        "print(loss3)"
      ],
      "execution_count": null,
      "outputs": [
        {
          "output_type": "stream",
          "text": [
            "y:  tf.Tensor(\n",
            "[[0. 1. 0. 0.]\n",
            " [0. 0. 1. 0.]\n",
            " [0. 0. 0. 1.]\n",
            " [1. 0. 0. 0.]\n",
            " [0. 0. 1. 0.]], shape=(5, 4), dtype=float32)\n",
            "Out:  tf.Tensor(\n",
            "[[ 1.0170321   1.4539161  -0.84311944 -0.54698545]\n",
            " [-0.14240482 -0.17503618  0.89816725  1.538103  ]\n",
            " [ 1.3027622   1.3970385   1.8518479   0.47900563]\n",
            " [ 0.9189256   1.2231216   0.26216793  0.5989055 ]\n",
            " [-1.1215997   0.17637783  1.0717759   0.15678729]], shape=(5, 4), dtype=float32)\n",
            "tf.Tensor(0.76380074, shape=(), dtype=float32)\n",
            "tf.Tensor(0.7638008, shape=(), dtype=float32)\n",
            "tf.Tensor(0.76380074, shape=(), dtype=float32)\n"
          ],
          "name": "stdout"
        }
      ]
    },
    {
      "cell_type": "code",
      "metadata": {
        "colab": {
          "base_uri": "https://localhost:8080/"
        },
        "id": "G44lSAsBvldG",
        "outputId": "630c92ac-36b7-492e-979f-e31e71c1f88a"
      },
      "source": [
        "a = tf.fill([4], 0.25)\n",
        "a"
      ],
      "execution_count": null,
      "outputs": [
        {
          "output_type": "execute_result",
          "data": {
            "text/plain": [
              "<tf.Tensor: shape=(4,), dtype=float32, numpy=array([0.25, 0.25, 0.25, 0.25], dtype=float32)>"
            ]
          },
          "metadata": {
            "tags": []
          },
          "execution_count": 150
        }
      ]
    },
    {
      "cell_type": "code",
      "metadata": {
        "colab": {
          "base_uri": "https://localhost:8080/"
        },
        "id": "GusjA_JnvlLM",
        "outputId": "9a5bf3db-45da-4745-ec57-837d3ec7569b"
      },
      "source": [
        "-tf.reduce_sum(a*tf.math.log(a)/tf.math.log(2.))    # more certain, the higher entropy"
      ],
      "execution_count": null,
      "outputs": [
        {
          "output_type": "execute_result",
          "data": {
            "text/plain": [
              "<tf.Tensor: shape=(), dtype=float32, numpy=2.0>"
            ]
          },
          "metadata": {
            "tags": []
          },
          "execution_count": 152
        }
      ]
    },
    {
      "cell_type": "code",
      "metadata": {
        "colab": {
          "base_uri": "https://localhost:8080/"
        },
        "id": "CWTF-Sb3vlHf",
        "outputId": "a950cc3d-6acb-4e6b-9d4d-00f5d4ac59b2"
      },
      "source": [
        "a = tf.constant([0.1, 0.1, 0.1,0.7])\n",
        "-tf.reduce_sum(a*tf.math.log(a)/tf.math.log(2.))"
      ],
      "execution_count": null,
      "outputs": [
        {
          "output_type": "execute_result",
          "data": {
            "text/plain": [
              "<tf.Tensor: shape=(), dtype=float32, numpy=1.3567796>"
            ]
          },
          "metadata": {
            "tags": []
          },
          "execution_count": 154
        }
      ]
    },
    {
      "cell_type": "code",
      "metadata": {
        "colab": {
          "base_uri": "https://localhost:8080/"
        },
        "id": "9IPabH5ZvlEI",
        "outputId": "bbb48853-036c-4929-b698-a5259c285a2a"
      },
      "source": [
        "tf.losses.categorical_crossentropy([0, 1, 0, 0], [0.25, 0.25, 0.25, 0.25])   # the less precise prediction, the lower cross entropy   "
      ],
      "execution_count": null,
      "outputs": [
        {
          "output_type": "execute_result",
          "data": {
            "text/plain": [
              "<tf.Tensor: shape=(), dtype=float32, numpy=1.3862944>"
            ]
          },
          "metadata": {
            "tags": []
          },
          "execution_count": 156
        }
      ]
    },
    {
      "cell_type": "code",
      "metadata": {
        "colab": {
          "base_uri": "https://localhost:8080/"
        },
        "id": "z1MooRIIvk_r",
        "outputId": "9c6c477e-8aa2-4047-dc6f-1d079edc5081"
      },
      "source": [
        "tf.losses.categorical_crossentropy([0, 1, 0, 0], [0.15, 0.55, 0.05, 0.15], from_logits=True)    # the more precise prediction, the lower cross entropy"
      ],
      "execution_count": null,
      "outputs": [
        {
          "output_type": "execute_result",
          "data": {
            "text/plain": [
              "<tf.Tensor: shape=(), dtype=float32, numpy=1.0808456>"
            ]
          },
          "metadata": {
            "tags": []
          },
          "execution_count": 164
        }
      ]
    },
    {
      "cell_type": "code",
      "metadata": {
        "colab": {
          "base_uri": "https://localhost:8080/"
        },
        "id": "9h7VpP9_vk7_",
        "outputId": "d1fe7a45-d8d2-41da-e4f6-3a0d8413c693"
      },
      "source": [
        "tf.losses.categorical_crossentropy([0, 1, 0, 0], [0.05, 0.75, 0.05, 0.05])    # the more precise prediction, the lower cross entropy"
      ],
      "execution_count": null,
      "outputs": [
        {
          "output_type": "execute_result",
          "data": {
            "text/plain": [
              "<tf.Tensor: shape=(), dtype=float32, numpy=0.18232158>"
            ]
          },
          "metadata": {
            "tags": []
          },
          "execution_count": 160
        }
      ]
    },
    {
      "cell_type": "markdown",
      "metadata": {
        "id": "WjjdJ9WICc3O"
      },
      "source": [
        "numerical stability"
      ]
    },
    {
      "cell_type": "code",
      "metadata": {
        "colab": {
          "base_uri": "https://localhost:8080/"
        },
        "id": "7nFl5ntMvk4G",
        "outputId": "c2b30011-ad99-4250-bade-0be3a5d75f05"
      },
      "source": [
        "x = tf.random.normal([1, 784])\n",
        "w = tf.random.normal([784, 2])\n",
        "b = tf.zeros([2])\n",
        "\n",
        "logits = x@w+b\n",
        "\n",
        "# best practice, dont calculate softmax, just directly use logits output and set from_logits=True\n",
        "tf.losses.categorical_crossentropy([[0, 1]], logits, from_logits=True)    \n",
        "\n",
        "# worst practice\n",
        "prob = tf.math.softmax(logits)\n",
        "tf.losses.categorical_crossentropy([[0, 1]], prob)"
      ],
      "execution_count": null,
      "outputs": [
        {
          "output_type": "execute_result",
          "data": {
            "text/plain": [
              "<tf.Tensor: shape=(1,), dtype=float32, numpy=array([0.29853025], dtype=float32)>"
            ]
          },
          "metadata": {
            "tags": []
          },
          "execution_count": 172
        }
      ]
    },
    {
      "cell_type": "code",
      "metadata": {
        "colab": {
          "base_uri": "https://localhost:8080/"
        },
        "id": "qGVenFHzvkzk",
        "outputId": "f44d1b55-834a-4491-c1be-c71a82e658ca"
      },
      "source": [
        "logits"
      ],
      "execution_count": null,
      "outputs": [
        {
          "output_type": "execute_result",
          "data": {
            "text/plain": [
              "<tf.Tensor: shape=(1, 2), dtype=float32, numpy=array([[-11.448069,  17.644196]], dtype=float32)>"
            ]
          },
          "metadata": {
            "tags": []
          },
          "execution_count": 170
        }
      ]
    },
    {
      "cell_type": "markdown",
      "metadata": {
        "id": "3Ui0NfSGK8e9"
      },
      "source": [
        "# Gradient descent\n",
        "- `tf.GradientTape()`   # all matrix multiplication should be happend under this method"
      ]
    },
    {
      "cell_type": "code",
      "metadata": {
        "colab": {
          "base_uri": "https://localhost:8080/"
        },
        "id": "LwVCjgJdvkvK",
        "outputId": "2c853197-a916-4def-c329-e1e271c24099"
      },
      "source": [
        "import tensorflow as tf\n",
        "\n",
        "w = tf.Variable(tf.constant(2.))\n",
        "b = tf.Variable(tf.constant(2.))\n",
        "x = tf.Variable(tf.constant(2.))\n",
        "\n",
        "# with tf.GradientTape() as t1:\n",
        "#   with tf.GradientTape() as t2:\n",
        "#     y = x * w + b\n",
        "#   dy_dw, dy_db = t2.gradient(y, [w, b])\n",
        "# d2y_dw2 = t1.gradient(dy_dw, w)\n",
        "\n",
        "# print(dy_dw)\n",
        "# print(dy_db)\n",
        "# print(d2y_dw2)\n",
        "\n",
        "# assert dy_dw.numpy() == 3.0\n",
        "# assert d2y_dw2 is None\n",
        "\n",
        "with tf.GradientTape() as tape:\n",
        "  y = x*w + b\n",
        "\n",
        "  grad1 = tape.gradient(y, [w, b])  # dy/dw, dy/db\n",
        "\n",
        "grad1  "
      ],
      "execution_count": null,
      "outputs": [
        {
          "output_type": "execute_result",
          "data": {
            "text/plain": [
              "[<tf.Tensor: shape=(), dtype=float32, numpy=2.0>,\n",
              " <tf.Tensor: shape=(), dtype=float32, numpy=1.0>]"
            ]
          },
          "metadata": {
            "tags": []
          },
          "execution_count": 177
        }
      ]
    },
    {
      "cell_type": "markdown",
      "metadata": {
        "id": "_gzcby45-ylC"
      },
      "source": [
        "## Activation function gradient descent"
      ]
    },
    {
      "cell_type": "markdown",
      "metadata": {
        "id": "DA5veG4j7AWN"
      },
      "source": [
        "sigmoid function\n",
        "\n",
        "Derivative of sigmoid function:     \n",
        "`sigmoid' = sigmoid(1-sigmoid)`\n",
        "\n",
        "w new = w old - learnign rate * sigmoid'\n",
        "\n",
        "\n",
        "![https://towardsdatascience.com/derivative-of-the-sigmoid-function-536880cf918e](https://miro.medium.com/max/1400/1*6A3A_rt4YmumHusvTvVTxw.png)"
      ]
    },
    {
      "cell_type": "code",
      "metadata": {
        "colab": {
          "base_uri": "https://localhost:8080/"
        },
        "id": "_t3j2Jx36_C0",
        "outputId": "37cff62d-d13c-4548-d076-28a6c76b013e"
      },
      "source": [
        "import tensorflow as tf \n",
        "\n",
        "x = tf.linspace(-10., 10., 10)\n",
        "\n",
        "with tf.GradientTape() as tape:\n",
        "\ttape.watch(x)\n",
        "\ty = tf.sigmoid(x)\n",
        "\n",
        "grads = tape.gradient(y, [x])\n",
        "print('x:', x.numpy())\n",
        "print('\\n')\n",
        "print('y:', y.numpy())\n",
        "print('\\n')\n",
        "print('grad:', grads[0].numpy())    # we can see gradients tends to be zero on both left and right end"
      ],
      "execution_count": null,
      "outputs": [
        {
          "output_type": "stream",
          "text": [
            "x: [-10.         -7.7777777  -5.5555553  -3.333333   -1.1111107   1.1111116\n",
            "   3.333334    5.5555563   7.7777786  10.       ]\n",
            "\n",
            "\n",
            "y: [4.5397868e-05 4.1876672e-04 3.8510328e-03 3.4445208e-02 2.4766390e-01\n",
            " 7.5233626e-01 9.6555483e-01 9.9614894e-01 9.9958128e-01 9.9995458e-01]\n",
            "\n",
            "\n",
            "grad: [4.5395806e-05 4.1859134e-04 3.8362022e-03 3.3258736e-02 1.8632649e-01\n",
            " 1.8632641e-01 3.3258699e-02 3.8362255e-03 4.1854731e-04 4.5416677e-05]\n"
          ],
          "name": "stdout"
        }
      ]
    },
    {
      "cell_type": "markdown",
      "metadata": {
        "id": "w5F6eUdk_DFn"
      },
      "source": [
        "tanh\n",
        "\n",
        "tanh(x) = （e^x-e^-x）/ （e^x-e^+x） = 2sigmoid(2x) -1     \n",
        "tanh' = 1-(tanh(x))^2\n",
        "\n",
        "![](https://sebastianraschka.com/images/faq/tanh-sigmoid-relationship/tanh-sigmoid.png)"
      ]
    },
    {
      "cell_type": "code",
      "metadata": {
        "colab": {
          "base_uri": "https://localhost:8080/"
        },
        "id": "IJ_TrpQV6--v",
        "outputId": "22d79776-2b0b-4379-a5af-ff4307414817"
      },
      "source": [
        "import tensorflow as tf \n",
        "\n",
        "x = tf.linspace(-10., 10., 10)\n",
        "\n",
        "with tf.GradientTape() as tape:\n",
        "\ttape.watch(x)\n",
        "\ty = tf.tanh(x)\n",
        "\n",
        "grads = tape.gradient(y, [x])\n",
        "print('x:', x.numpy())\n",
        "print('\\n')\n",
        "print('y:', y.numpy())\n",
        "print('\\n')\n",
        "print('grad:', grads[0].numpy())    # we can see gradients tends to be zero on both left and right end"
      ],
      "execution_count": null,
      "outputs": [
        {
          "output_type": "stream",
          "text": [
            "x: [-10.         -7.7777777  -5.5555553  -3.333333   -1.1111107   1.1111116\n",
            "   3.333334    5.5555563   7.7777786  10.       ]\n",
            "\n",
            "\n",
            "y: [-0.99999976 -0.9999996  -0.99997014 -0.997458   -0.8044547   0.8044551\n",
            "  0.997458    0.99997014  0.9999997   0.99999976]\n",
            "\n",
            "\n",
            "grad: [4.7683710e-07 8.3446486e-07 5.9722963e-05 5.0775758e-03 3.5285267e-01\n",
            " 3.5285199e-01 5.0775758e-03 5.9722963e-05 5.9604633e-07 4.7683710e-07]\n"
          ],
          "name": "stdout"
        }
      ]
    },
    {
      "cell_type": "markdown",
      "metadata": {
        "id": "XQzZc6qH_5Ks"
      },
      "source": [
        "### Rectified Linear Unit (ReLU) and Leaky ReLU\n",
        "\n",
        "$ReLU = max(0, x)$\n",
        "\n",
        "> ReLU activation function looks extremely simple and elegant, but it‘s appearance changed the whole world of deep learning.\n",
        "\n",
        "Why ReLU is so useful? the answer is also quite simple:     \n",
        "$f'(x) = 1$  for x >1       \n",
        "the gradient of ReLU is easy to calculate while back proporgation and the gradient value wont be squeezed or stretched like other activation functions.\n",
        "\n",
        "![](https://qph.fs.quoracdn.net/main-qimg-07bc0ec05532caf5ebe8b4c82d0f5ca3)"
      ]
    },
    {
      "cell_type": "code",
      "metadata": {
        "colab": {
          "base_uri": "https://localhost:8080/"
        },
        "id": "cSOUnVSu6-6v",
        "outputId": "798162d6-55bd-4b07-8816-d36b350abefa"
      },
      "source": [
        "import tensorflow as tf \n",
        "\n",
        "x = tf.linspace(-10., 10., 10)\n",
        "\n",
        "with tf.GradientTape() as tape:\n",
        "\ttape.watch(x)\n",
        "\ty = tf.nn.relu(x)\n",
        "\n",
        "grads = tape.gradient(y, [x])\n",
        "print('x:', x.numpy())\n",
        "print('\\n')\n",
        "print('y:', y.numpy())\n",
        "print('\\n')\n",
        "print('grad:', grads[0].numpy())    # we can see gradients tends to be zero on both left and right end"
      ],
      "execution_count": null,
      "outputs": [
        {
          "output_type": "stream",
          "text": [
            "x: [-10.         -7.7777777  -5.5555553  -3.333333   -1.1111107   1.1111116\n",
            "   3.333334    5.5555563   7.7777786  10.       ]\n",
            "\n",
            "\n",
            "y: [ 0.         0.         0.         0.         0.         1.1111116\n",
            "  3.333334   5.5555563  7.7777786 10.       ]\n",
            "\n",
            "\n",
            "grad: [0. 0. 0. 0. 0. 1. 1. 1. 1. 1.]\n"
          ],
          "name": "stdout"
        }
      ]
    },
    {
      "cell_type": "code",
      "metadata": {
        "colab": {
          "base_uri": "https://localhost:8080/"
        },
        "id": "zWMRqpSw6-0u",
        "outputId": "5fe20cd4-c86a-4e22-af68-1f6dbb1a0386"
      },
      "source": [
        "import tensorflow as tf \n",
        "\n",
        "x = tf.linspace(-10., 10., 10)\n",
        "\n",
        "with tf.GradientTape() as tape:\n",
        "\ttape.watch(x)\n",
        "\ty = tf.nn.leaky_relu(x)\n",
        "\n",
        "grads = tape.gradient(y, [x])\n",
        "print('x:', x.numpy())\n",
        "print('\\n')\n",
        "print('y:', y.numpy())\n",
        "print('\\n')\n",
        "print('grad:', grads[0].numpy())    # we can see gradients tends to be zero on both left and right end"
      ],
      "execution_count": null,
      "outputs": [
        {
          "output_type": "stream",
          "text": [
            "x: [-10.         -7.7777777  -5.5555553  -3.333333   -1.1111107   1.1111116\n",
            "   3.333334    5.5555563   7.7777786  10.       ]\n",
            "\n",
            "\n",
            "y: [-2.         -1.5555556  -1.111111   -0.6666666  -0.22222213  1.1111116\n",
            "  3.333334    5.5555563   7.7777786  10.        ]\n",
            "\n",
            "\n",
            "grad: [0.2 0.2 0.2 0.2 0.2 1.  1.  1.  1.  1. ]\n"
          ],
          "name": "stdout"
        }
      ]
    },
    {
      "cell_type": "markdown",
      "metadata": {
        "id": "JQir-lQ4fXC7"
      },
      "source": [
        "## Loss function gradeint descent\n",
        "\n",
        "- MSE\n",
        "- Cross entropy"
      ]
    },
    {
      "cell_type": "markdown",
      "metadata": {
        "id": "z_kZR-nPoPvB"
      },
      "source": [
        "MSE and SLP (Single Perceptron Layers)\n",
        "![](https://cdn-media-1.freecodecamp.org/images/6t-4Uq4Y4GMGg9mYWPUUmHHsmaTvxuDPZCj3)"
      ]
    },
    {
      "cell_type": "code",
      "metadata": {
        "colab": {
          "base_uri": "https://localhost:8080/"
        },
        "id": "UuCViBxU6-rW",
        "outputId": "761e6987-021c-49e3-e3bc-22ccc03812c3"
      },
      "source": [
        "import tensorflow as tf \n",
        "\n",
        "x=tf.random.normal([1,3])\n",
        "w=tf.ones([3,2])\n",
        "b=tf.ones([2])\n",
        "\n",
        "y = tf.constant([0, 1])\n",
        "\n",
        "with tf.GradientTape() as tape:\n",
        "\n",
        "\ttape.watch([w, b])\n",
        "\tprob = tf.sigmoid(x@w+b) \n",
        "  #loss = tf.reduce_mean(tf.losses.MSE(tf.one_hot(y, depth=2), prob))\n",
        "\tloss = tf.reduce_mean(tf.losses.MSE(y, prob))\n",
        "\n",
        "grads = tape.gradient(loss, [w, b])\n",
        "print('w grad:', grads[0])\n",
        "\n",
        "print('b grad:', grads[1])"
      ],
      "execution_count": null,
      "outputs": [
        {
          "output_type": "stream",
          "text": [
            "w grad: tf.Tensor(\n",
            "[[ 3.9558135e-02 -7.4451067e-03]\n",
            " [ 3.6109336e-02 -6.7960196e-03]\n",
            " [-4.7525929e-04  8.9446985e-05]], shape=(3, 2), dtype=float32)\n",
            "b grad: tf.Tensor([ 0.11219127 -0.02111515], shape=(2,), dtype=float32)\n"
          ],
          "name": "stdout"
        }
      ]
    },
    {
      "cell_type": "markdown",
      "metadata": {
        "id": "v8sc7vz_ofe2"
      },
      "source": [
        "Softmax and MLP\n",
        "\n",
        "![](https://i.stack.imgur.com/4lK1Y.png)\n",
        "\n",
        "![](https://scientistcafe.com/ids/images/dnn0_fb3.png)"
      ]
    },
    {
      "cell_type": "code",
      "metadata": {
        "colab": {
          "base_uri": "https://localhost:8080/"
        },
        "id": "4PgLfQV46-jN",
        "outputId": "43ec6e08-c369-4e10-f332-ef8dc85bedef"
      },
      "source": [
        "import tensorflow as tf \n",
        "\n",
        "tf.random.set_seed(4323)\n",
        "\n",
        "x=tf.random.normal([2,4])\n",
        "w=tf.random.normal([4,3])     # [2,4]@[4,3] -> [2,3]， last layer output [2x3] dim vector, means there are 3 classes and 2 cases in total, softmax will calculate probility of each class\n",
        "b=tf.random.normal([3])   \n",
        "y = tf.constant([2, 0])       # there are 2 cases for training, need to one hot encoding first\n",
        "\n",
        "with tf.GradientTape() as tape:\n",
        "\n",
        "\ttape.watch([w, b])\n",
        "\tlogits = (x@w+b)  # the result before activation function is called logits, dont take sigmoid here beacuse may cause numeric instability\n",
        "\tloss = tf.reduce_mean(tf.losses.categorical_crossentropy(tf.one_hot(y, depth=3), \n",
        "                                                          logits, \n",
        "                                                          from_logits=True)  # for numeric stability's sake, don use sigmoid\n",
        "                                                          )\n",
        "\n",
        "grads = tape.gradient(loss, [w, b])\n",
        "print('w grad:', grads[0])\n",
        "\n",
        "print('b grad:', grads[1])\n"
      ],
      "execution_count": null,
      "outputs": [
        {
          "output_type": "stream",
          "text": [
            "w grad: tf.Tensor(\n",
            "[[-0.14705794  0.11461102  0.03244691]\n",
            " [ 0.12569425  0.1498763  -0.27557057]\n",
            " [-0.8179569   0.47805452  0.33990237]\n",
            " [ 0.54864955 -0.30186623 -0.24678333]], shape=(4, 3), dtype=float32)\n",
            "b grad: tf.Tensor([-0.4440598   0.3359822   0.10807759], shape=(3,), dtype=float32)\n"
          ],
          "name": "stdout"
        }
      ]
    },
    {
      "cell_type": "markdown",
      "metadata": {
        "id": "hKNVxWL_MYpu"
      },
      "source": [
        "# Chain rules\n",
        "\n",
        "![](https://image.slidesharecdn.com/dl-161220080238/95/learning-deep-learning-50-638.jpg?cb=1482221026)"
      ]
    },
    {
      "cell_type": "code",
      "metadata": {
        "colab": {
          "base_uri": "https://localhost:8080/"
        },
        "id": "OQqa2VBw6-ce",
        "outputId": "7c2bfe38-94e7-477d-834b-4473f51baf8c"
      },
      "source": [
        "import tensorflow as tf \n",
        "\n",
        "x = tf.constant(1.)\n",
        "w1 = tf.constant(2.)\n",
        "b1 = tf.constant(1.)\n",
        "w2 = tf.constant(2.)\n",
        "b2 = tf.constant(1.)\n",
        "\n",
        "\n",
        "with tf.GradientTape(persistent=True) as tape:\n",
        "\n",
        "\ttape.watch([w1, b1, w2, b2])\n",
        "\n",
        "\ty1 = x * w1 + b1\n",
        "\ty2 = y1 * w2 + b2\n",
        "\n",
        "dy2_dy1 = tape.gradient(y2, [y1])[0]\n",
        "dy1_dw1 = tape.gradient(y1, [w1])[0]\n",
        "\n",
        "dy2_dw1 = tape.gradient(y2, [w1])[0]\n",
        "\n",
        "# validate dy2_dy1* dy1_dw1 == dy2_dw1\n",
        "print(dy2_dy1 * dy1_dw1)\n",
        "print(dy2_dw1)"
      ],
      "execution_count": null,
      "outputs": [
        {
          "output_type": "stream",
          "text": [
            "tf.Tensor(2.0, shape=(), dtype=float32)\n",
            "tf.Tensor(2.0, shape=(), dtype=float32)\n"
          ],
          "name": "stdout"
        }
      ]
    },
    {
      "cell_type": "markdown",
      "metadata": {
        "id": "l4dW2ZXHPJSf"
      },
      "source": [
        "# Project: Find the minima of Himmelblau function by using Gradient Descent"
      ]
    },
    {
      "cell_type": "code",
      "metadata": {
        "colab": {
          "base_uri": "https://localhost:8080/",
          "height": 282
        },
        "id": "bS_DipzK6-ZQ",
        "outputId": "c8193610-f5e7-4aad-e685-693df9c60430"
      },
      "source": [
        "import  numpy as np\n",
        "from    mpl_toolkits.mplot3d import Axes3D\n",
        "from    matplotlib import pyplot as plt\n",
        "import  tensorflow as tf\n",
        "\n",
        "def himmelblau(x):\n",
        "    return (x[0] ** 2 + x[1] - 11) ** 2 + (x[0] + x[1] ** 2 - 7) ** 2\n",
        "\n",
        "\n",
        "x = np.arange(-6, 6, 0.1)\n",
        "y = np.arange(-6, 6, 0.1)\n",
        "print('x,y range:', x.shape, y.shape)\n",
        "X, Y = np.meshgrid(x, y)\n",
        "print('X,Y maps:', X.shape, Y.shape)\n",
        "Z = himmelblau([X, Y])\n",
        "\n",
        "fig = plt.figure('himmelblau')\n",
        "ax = fig.gca(projection='3d')\n",
        "ax.plot_surface(X, Y, Z)\n",
        "ax.view_init(60, -30)\n",
        "ax.set_xlabel('x')\n",
        "ax.set_ylabel('y')\n",
        "plt.show()\n"
      ],
      "execution_count": null,
      "outputs": [
        {
          "output_type": "stream",
          "text": [
            "x,y range: (120,) (120,)\n",
            "X,Y maps: (120, 120) (120, 120)\n"
          ],
          "name": "stdout"
        },
        {
          "output_type": "display_data",
          "data": {
            "image/png": "[encoded data removed]",
            "text/plain": [
              "<Figure size 432x288 with 1 Axes>"
            ]
          },
          "metadata": {
            "tags": [],
            "needs_background": "light"
          }
        }
      ]
    },
    {
      "cell_type": "code",
      "metadata": {
        "colab": {
          "base_uri": "https://localhost:8080/"
        },
        "id": "wu4vlDFG6-Vo",
        "outputId": "a9726836-d88c-4288-92de-732eccb37a3e"
      },
      "source": [
        "# [1., 0.], [-4, 0.], [4, 0.]\n",
        "#x = tf.constant([4., 0.])    # random start point\n",
        "x = tf.constant([-4., 0.])    # random start point\n",
        "\n",
        "for step in range(1200):\n",
        "\n",
        "    with tf.GradientTape() as tape:\n",
        "        tape.watch([x])\n",
        "        y = himmelblau(x)\n",
        "\n",
        "    grads = tape.gradient(y, [x])[0] \n",
        "\n",
        "    # update x \n",
        "    x -= 0.01*grads\n",
        "\n",
        "    \n",
        "\n",
        "    if step % 200 == 0:\n",
        "        print ('step {}: x = {}, f(x) = {}'.format(step, x.numpy(), y.numpy()))"
      ],
      "execution_count": null,
      "outputs": [
        {
          "output_type": "stream",
          "text": [
            "step 0: x = [-2.98       -0.09999999], f(x) = 146.0\n",
            "step 200: x = [-3.7793102 -3.283186 ], f(x) = 0.0\n",
            "step 400: x = [-3.7793102 -3.283186 ], f(x) = 0.0\n",
            "step 600: x = [-3.7793102 -3.283186 ], f(x) = 0.0\n",
            "step 800: x = [-3.7793102 -3.283186 ], f(x) = 0.0\n",
            "step 1000: x = [-3.7793102 -3.283186 ], f(x) = 0.0\n"
          ],
          "name": "stdout"
        }
      ]
    },
    {
      "cell_type": "markdown",
      "metadata": {
        "id": "GEvsfyjt1r2t"
      },
      "source": [
        "# Project: Fashion-MNIST Classification"
      ]
    },
    {
      "cell_type": "code",
      "metadata": {
        "colab": {
          "base_uri": "https://localhost:8080/"
        },
        "id": "kuZKTAJ46-RV",
        "outputId": "f4ace45e-417e-42ae-f6c1-5f06b5b033a6"
      },
      "source": [
        "import tensorflow as tf\n",
        "from tensorflow import keras\n",
        "from tensorflow.keras import datasets, layers, optimizers, Sequential, metrics\n",
        "import os \n",
        "\n",
        "os.environ['TF_CPP_MIN_LOG_LEVEL'] = '2'\n",
        "\n",
        "BATCH_SIZE = 128\n",
        "\n",
        "\n",
        "def preprocess(x, y):\n",
        "  # x = tf.convert_to_tensor(x, dtype = tf.float32) /255.   # min-max norm\n",
        "  # y = tf.convert_to_tensor(x, dtype = tf.int32)\n",
        "\n",
        "  # x and y are already tensors, no need to convert\n",
        "  x = tf.cast(x, dtype = tf.float32) /255.   # min-max norm\n",
        "  y = tf.cast(y, dtype = tf.int32)\n",
        "  #y = tf.one_hot(y, depth=10)\n",
        "\n",
        "  return x, y\n",
        "\n",
        "\n",
        "(x, y), (x_test, y_test) = datasets.fashion_mnist.load_data()\n",
        "#print(x.shape, y.shape)\n",
        "db_train = tf.data.Dataset.from_tensor_slices((x, y))\n",
        "db_train = db_train.map(preprocess).shuffle(10000).batch(BATCH_SIZE)\n",
        "\n",
        "db_test = tf.data.Dataset.from_tensor_slices((x_test, y_test))\n",
        "db_test = db_test.map(preprocess).shuffle(10000).batch(BATCH_SIZE)\n",
        "\n",
        "# check batch size\n",
        "db_iter = iter(db_train)\n",
        "sample = next(db_iter)\n",
        "print('batch: ', sample[0].shape, sample[1].shape)\n",
        "\n",
        "# fully connected layers\n",
        "model = Sequential([\n",
        "  layers.Dense(256, activation=tf.nn.relu), # [b, 784] -> [b, 256]\n",
        "  layers.Dense(128, activation=tf.nn.relu), # [b, 256] -> [b, 128] \n",
        "  layers.Dense(64, activation=tf.nn.relu), # [b, 128] -> [b, 64] \n",
        "  layers.Dense(32, activation=tf.nn.relu), # [b, 64] -> [b, 32]\n",
        "  layers.Dense(10) # [b, 32] -> [b, 10]      330 params = 32 nodes *10 nodes + 10 bias              \n",
        "])\n",
        "\n",
        "model.build(input_shape=[None, 28*28])\n",
        "model.summary()\n",
        "\n",
        "# w' = w -lr * grad\n",
        "optimizer = optimizers.Adam(lr=1e-3)\n",
        "\n",
        "\n",
        "def main():\n",
        "\n",
        "\n",
        "  for epoch in range(30):\n",
        "\n",
        "    # training\n",
        "    for step, (x, y) in enumerate(db_train):\n",
        "\n",
        "      # x: [b, 28, 28] => [b, 784]\n",
        "      # y: [b]\n",
        "      x = tf.reshape(x, [-1, 28*28])\n",
        "\n",
        "      with tf.GradientTape() as tape:\n",
        "        # [b, 784] => [b, 10]\n",
        "        # for each pics, generate 10 sigmoid probs for each 10 classes\n",
        "        logits = model(x)\n",
        "        \n",
        "        y_onehot = tf.one_hot(y, depth=10)\n",
        "\n",
        "        loss_mse = tf.reduce_mean(tf.losses.MSE(y_onehot, logits))\n",
        "        loss_ce = tf.reduce_mean(tf.losses.categorical_crossentropy(y_onehot, logits, from_logits=True))  # order of y and logits maters\n",
        "\n",
        "      # calculate gradients\n",
        "      grads = tape.gradient(loss_ce, model.trainable_variables)\n",
        "      \n",
        "      grads,  _ = tf.clip_by_global_norm(grads, 15)   \n",
        "      # update weights by using gradient descent\n",
        "      # w' = w - lr * grads\n",
        "      optimizer.apply_gradients(zip(grads, model.trainable_variables))   # update parameters by using optimizer\n",
        "\n",
        "\n",
        "      if step%100 == 0:\n",
        "        print(epoch, step, \"loss\", float(loss_ce), float(loss_mse)) \n",
        "\n",
        "\n",
        "      # testing\n",
        "      total_correct = 0\n",
        "      total_num = 0\n",
        "      \n",
        "    for step, (x, y) in enumerate(db_test):\n",
        "      # x: [b, 28, 28] => [b, 784]\n",
        "      # y: [b]\n",
        "      x = tf.reshape(x, [-1, 28*28])\n",
        "\n",
        "      logits = model(x)\n",
        "\n",
        "      # logits => probs\n",
        "      # need to add sigmoid when test data\n",
        "      probs = tf.nn.softmax(logits, axis = 1)\n",
        "\n",
        "      # [b, 10] => [b]\n",
        "      # only output predicted label\n",
        "      pred = tf.argmax(probs, axis = 1)\n",
        "      pred = tf.cast(pred, dtype=tf.int32)\n",
        "\n",
        "      correct = tf.equal(pred, y)\n",
        "      correct = tf.reduce_sum(tf.cast(correct, dtype=tf.int32))\n",
        "\n",
        "      total_correct += int(correct)\n",
        "      total_num += x.shape[0]\n",
        "\n",
        "\n",
        "    # if step%100 == 0:\n",
        "    acc = total_correct / total_num\n",
        "    print(epoch, 'test acc:', acc)\n",
        "\n",
        "\n",
        "if __name__ == '__main__':\n",
        "  main()\n"
      ],
      "execution_count": null,
      "outputs": [
        {
          "output_type": "stream",
          "text": [
            "batch:  (128, 28, 28) (128,)\n",
            "Model: \"sequential_47\"\n",
            "_________________________________________________________________\n",
            "Layer (type)                 Output Shape              Param #   \n",
            "=================================================================\n",
            "dense_235 (Dense)            (None, 256)               200960    \n",
            "_________________________________________________________________\n",
            "dense_236 (Dense)            (None, 128)               32896     \n",
            "_________________________________________________________________\n",
            "dense_237 (Dense)            (None, 64)                8256      \n",
            "_________________________________________________________________\n",
            "dense_238 (Dense)            (None, 32)                2080      \n",
            "_________________________________________________________________\n",
            "dense_239 (Dense)            (None, 10)                330       \n",
            "=================================================================\n",
            "Total params: 244,522\n",
            "Trainable params: 244,522\n",
            "Non-trainable params: 0\n",
            "_________________________________________________________________\n",
            "0 0 loss 2.339433193206787 0.16137850284576416\n",
            "0 100 loss 0.5691826939582825 18.545610427856445\n",
            "0 200 loss 0.37855514883995056 20.38473892211914\n",
            "0 300 loss 0.5233432650566101 20.971731185913086\n",
            "0 400 loss 0.5238644480705261 19.749160766601562\n",
            "0 test acc: 0.8474\n",
            "1 0 loss 0.4095403254032135 17.909160614013672\n",
            "1 100 loss 0.44019556045532227 26.797529220581055\n",
            "1 200 loss 0.37796905636787415 26.463748931884766\n",
            "1 300 loss 0.4844343364238739 26.210229873657227\n",
            "1 400 loss 0.27988672256469727 26.750652313232422\n",
            "1 test acc: 0.862\n",
            "2 0 loss 0.29001593589782715 27.65056610107422\n",
            "2 100 loss 0.3088091313838959 29.72651481628418\n",
            "2 200 loss 0.2738630473613739 26.58238983154297\n",
            "2 300 loss 0.3305244445800781 31.064428329467773\n",
            "2 400 loss 0.40403202176094055 27.010616302490234\n",
            "2 test acc: 0.8687\n",
            "3 0 loss 0.30846697092056274 31.908100128173828\n",
            "3 100 loss 0.24149702489376068 33.359439849853516\n",
            "3 200 loss 0.25929203629493713 35.09783172607422\n",
            "3 300 loss 0.2081187665462494 40.83086013793945\n",
            "3 400 loss 0.37592703104019165 37.61982727050781\n",
            "3 test acc: 0.8711\n",
            "4 0 loss 0.2669273912906647 40.36963653564453\n",
            "4 100 loss 0.20393702387809753 37.8126106262207\n",
            "4 200 loss 0.30297142267227173 33.99872589111328\n",
            "4 300 loss 0.30446720123291016 48.60261535644531\n",
            "4 400 loss 0.20021989941596985 47.51795196533203\n",
            "4 test acc: 0.8778\n",
            "5 0 loss 0.2014356255531311 52.24375915527344\n",
            "5 100 loss 0.22901785373687744 51.73838806152344\n",
            "5 200 loss 0.2329433560371399 42.23889923095703\n",
            "5 300 loss 0.30810976028442383 51.35453414916992\n",
            "5 400 loss 0.29989904165267944 51.874298095703125\n",
            "5 test acc: 0.8837\n",
            "6 0 loss 0.242767333984375 41.622520446777344\n",
            "6 100 loss 0.2240654081106186 45.81637954711914\n",
            "6 200 loss 0.24869534373283386 50.82759094238281\n",
            "6 300 loss 0.2860046625137329 57.55631637573242\n",
            "6 400 loss 0.23665446043014526 66.40846252441406\n",
            "6 test acc: 0.8824\n",
            "7 0 loss 0.25812220573425293 59.19339370727539\n",
            "7 100 loss 0.31862565875053406 53.73645782470703\n",
            "7 200 loss 0.23223695158958435 60.66313171386719\n",
            "7 300 loss 0.17576336860656738 59.30049133300781\n",
            "7 400 loss 0.2518221437931061 80.034912109375\n",
            "7 test acc: 0.8702\n",
            "8 0 loss 0.3093617260456085 55.09440612792969\n",
            "8 100 loss 0.26425495743751526 65.26133728027344\n",
            "8 200 loss 0.2590548098087311 64.51067352294922\n",
            "8 300 loss 0.4059552252292633 68.13862609863281\n",
            "8 400 loss 0.21886377036571503 70.26859283447266\n",
            "8 test acc: 0.8861\n",
            "9 0 loss 0.19280792772769928 50.94825744628906\n",
            "9 100 loss 0.12202262878417969 65.25091552734375\n",
            "9 200 loss 0.20314788818359375 59.07067108154297\n",
            "9 300 loss 0.24599216878414154 58.681095123291016\n",
            "9 400 loss 0.32132571935653687 70.60264587402344\n",
            "9 test acc: 0.8877\n",
            "10 0 loss 0.2771870195865631 72.4817886352539\n",
            "10 100 loss 0.14759963750839233 88.91712951660156\n",
            "10 200 loss 0.3155992925167084 87.08678436279297\n",
            "10 300 loss 0.23555898666381836 70.78050994873047\n",
            "10 400 loss 0.2534276843070984 80.45296478271484\n",
            "10 test acc: 0.887\n",
            "11 0 loss 0.28339633345603943 81.16958618164062\n",
            "11 100 loss 0.21307988464832306 80.7494888305664\n",
            "11 200 loss 0.2311382293701172 71.70402526855469\n",
            "11 300 loss 0.1345091611146927 110.04484558105469\n",
            "11 400 loss 0.2258611023426056 89.1698989868164\n",
            "11 test acc: 0.8892\n",
            "12 0 loss 0.16838735342025757 99.653076171875\n",
            "12 100 loss 0.1792202889919281 92.19734191894531\n",
            "12 200 loss 0.2188563346862793 81.68775939941406\n",
            "12 300 loss 0.12963999807834625 91.62591552734375\n",
            "12 400 loss 0.11885865032672882 108.04405212402344\n",
            "12 test acc: 0.8855\n",
            "13 0 loss 0.20793724060058594 127.10333251953125\n",
            "13 100 loss 0.19652023911476135 86.91889190673828\n",
            "13 200 loss 0.1684572994709015 100.46306610107422\n",
            "13 300 loss 0.15358908474445343 115.6762466430664\n",
            "13 400 loss 0.24181844294071198 94.0232162475586\n",
            "13 test acc: 0.8828\n",
            "14 0 loss 0.20011524856090546 103.35057067871094\n",
            "14 100 loss 0.1524583250284195 121.27630615234375\n",
            "14 200 loss 0.1439034640789032 112.26368713378906\n",
            "14 300 loss 0.2545218765735626 93.92003631591797\n",
            "14 400 loss 0.17202313244342804 108.32720947265625\n",
            "14 test acc: 0.8812\n",
            "15 0 loss 0.11987915635108948 121.2979507446289\n",
            "15 100 loss 0.16350746154785156 114.21881103515625\n",
            "15 200 loss 0.15342605113983154 125.10772705078125\n",
            "15 300 loss 0.195633664727211 115.69817352294922\n",
            "15 400 loss 0.1780005842447281 120.5318832397461\n",
            "15 test acc: 0.8889\n",
            "16 0 loss 0.1982554942369461 115.57769012451172\n",
            "16 100 loss 0.18126288056373596 107.570068359375\n",
            "16 200 loss 0.1499132513999939 108.24935913085938\n",
            "16 300 loss 0.19572153687477112 107.54074096679688\n",
            "16 400 loss 0.24049469828605652 135.8746337890625\n",
            "16 test acc: 0.8818\n",
            "17 0 loss 0.18109069764614105 89.09617614746094\n",
            "17 100 loss 0.16186079382896423 124.17050170898438\n",
            "17 200 loss 0.20726191997528076 104.28195190429688\n",
            "17 300 loss 0.1694384217262268 112.685546875\n",
            "17 400 loss 0.1305876523256302 145.33358764648438\n",
            "17 test acc: 0.8903\n",
            "18 0 loss 0.16119973361492157 128.212890625\n",
            "18 100 loss 0.12545029819011688 137.15797424316406\n",
            "18 200 loss 0.19471198320388794 129.86578369140625\n",
            "18 300 loss 0.18528127670288086 99.84207916259766\n",
            "18 400 loss 0.20045706629753113 118.09044647216797\n",
            "18 test acc: 0.8909\n",
            "19 0 loss 0.144760400056839 100.23989868164062\n",
            "19 100 loss 0.14228306710720062 133.86990356445312\n",
            "19 200 loss 0.232443705201149 156.2053680419922\n",
            "19 300 loss 0.18435919284820557 114.13673400878906\n",
            "19 400 loss 0.1584084928035736 158.0141143798828\n",
            "19 test acc: 0.8896\n",
            "20 0 loss 0.07690739631652832 156.7721405029297\n",
            "20 100 loss 0.14269016683101654 179.0543212890625\n",
            "20 200 loss 0.1466710865497589 160.6465301513672\n",
            "20 300 loss 0.0986756682395935 151.65306091308594\n",
            "20 400 loss 0.15318667888641357 157.04931640625\n",
            "20 test acc: 0.886\n",
            "21 0 loss 0.17019078135490417 123.43974304199219\n",
            "21 100 loss 0.10056424885988235 165.6168212890625\n",
            "21 200 loss 0.17278006672859192 148.62159729003906\n",
            "21 300 loss 0.19606788456439972 208.59658813476562\n",
            "21 400 loss 0.17099973559379578 218.58059692382812\n",
            "21 test acc: 0.8858\n",
            "22 0 loss 0.17341360449790955 162.22286987304688\n",
            "22 100 loss 0.08662048727273941 211.47691345214844\n",
            "22 200 loss 0.19080474972724915 135.94984436035156\n",
            "22 300 loss 0.097902312874794 160.12350463867188\n",
            "22 400 loss 0.1803836226463318 186.54165649414062\n",
            "22 test acc: 0.8923\n",
            "23 0 loss 0.14008106291294098 217.765625\n",
            "23 100 loss 0.16089946031570435 216.8349609375\n",
            "23 200 loss 0.17584799230098724 198.91561889648438\n",
            "23 300 loss 0.27536800503730774 172.60855102539062\n",
            "23 400 loss 0.2740389108657837 241.70265197753906\n",
            "23 test acc: 0.8954\n",
            "24 0 loss 0.28578534722328186 160.3877410888672\n",
            "24 100 loss 0.2941317558288574 203.77108764648438\n",
            "24 200 loss 0.09803443402051926 162.37326049804688\n",
            "24 300 loss 0.17810960114002228 179.04522705078125\n",
            "24 400 loss 0.21666471660137177 234.19488525390625\n",
            "24 test acc: 0.8951\n",
            "25 0 loss 0.13486559689044952 225.5220947265625\n",
            "25 100 loss 0.1064453199505806 219.54396057128906\n",
            "25 200 loss 0.11321954429149628 167.22848510742188\n",
            "25 300 loss 0.10265204310417175 174.56155395507812\n",
            "25 400 loss 0.09827790409326553 188.47198486328125\n",
            "25 test acc: 0.8803\n",
            "26 0 loss 0.09627637267112732 186.85699462890625\n",
            "26 100 loss 0.09431491792201996 255.09645080566406\n",
            "26 200 loss 0.17855629324913025 268.4543762207031\n",
            "26 300 loss 0.1326873004436493 233.03858947753906\n",
            "26 400 loss 0.09196669608354568 227.15814208984375\n",
            "26 test acc: 0.8925\n",
            "27 0 loss 0.1322033405303955 242.07615661621094\n",
            "27 100 loss 0.10108748078346252 202.21714782714844\n",
            "27 200 loss 0.15987329185009003 201.5137176513672\n",
            "27 300 loss 0.1062140166759491 225.6695556640625\n",
            "27 400 loss 0.15567369759082794 196.51492309570312\n",
            "27 test acc: 0.8917\n",
            "28 0 loss 0.11063377559185028 207.9812774658203\n",
            "28 100 loss 0.08880627155303955 178.1949005126953\n",
            "28 200 loss 0.1610303670167923 169.81585693359375\n",
            "28 300 loss 0.21999181807041168 184.74041748046875\n",
            "28 400 loss 0.10937092453241348 202.0840301513672\n",
            "28 test acc: 0.8932\n",
            "29 0 loss 0.0838979110121727 200.084228515625\n",
            "29 100 loss 0.13919129967689514 223.4027862548828\n",
            "29 200 loss 0.0678674578666687 221.37371826171875\n",
            "29 300 loss 0.1056089997291565 202.5274200439453\n",
            "29 400 loss 0.11121436953544617 276.3349609375\n",
            "29 test acc: 0.8902\n"
          ],
          "name": "stdout"
        }
      ]
    },
    {
      "cell_type": "code",
      "metadata": {
        "id": "HeN5gb1h6-IE"
      },
      "source": [
        ""
      ],
      "execution_count": null,
      "outputs": []
    },
    {
      "cell_type": "code",
      "metadata": {
        "id": "xFIw1UaAvkqQ"
      },
      "source": [
        ""
      ],
      "execution_count": null,
      "outputs": []
    },
    {
      "cell_type": "code",
      "metadata": {
        "id": "dtXNN21v1JER"
      },
      "source": [
        ""
      ],
      "execution_count": null,
      "outputs": []
    },
    {
      "cell_type": "code",
      "metadata": {
        "id": "1KX3xoRs1I_v"
      },
      "source": [
        ""
      ],
      "execution_count": null,
      "outputs": []
    },
    {
      "cell_type": "code",
      "metadata": {
        "id": "RSy_hNRU1I7h"
      },
      "source": [
        ""
      ],
      "execution_count": null,
      "outputs": []
    },
    {
      "cell_type": "code",
      "metadata": {
        "id": "iBNJTXDw1I4X"
      },
      "source": [
        ""
      ],
      "execution_count": null,
      "outputs": []
    },
    {
      "cell_type": "code",
      "metadata": {
        "id": "IgvRQgtc1I1J"
      },
      "source": [
        ""
      ],
      "execution_count": null,
      "outputs": []
    },
    {
      "cell_type": "code",
      "metadata": {
        "id": "6zXPsCtq1Ixc"
      },
      "source": [
        ""
      ],
      "execution_count": null,
      "outputs": []
    },
    {
      "cell_type": "code",
      "metadata": {
        "id": "F4HkA4yj1ItL"
      },
      "source": [
        ""
      ],
      "execution_count": null,
      "outputs": []
    },
    {
      "cell_type": "code",
      "metadata": {
        "id": "3v2D2Lkb1Im-"
      },
      "source": [
        ""
      ],
      "execution_count": null,
      "outputs": []
    },
    {
      "cell_type": "code",
      "metadata": {
        "id": "iu8kS0Yq1IjR"
      },
      "source": [
        ""
      ],
      "execution_count": null,
      "outputs": []
    },
    {
      "cell_type": "code",
      "metadata": {
        "id": "ACQt5oBV1Iff"
      },
      "source": [
        ""
      ],
      "execution_count": null,
      "outputs": []
    },
    {
      "cell_type": "code",
      "metadata": {
        "id": "PhVOvb-v1IaB"
      },
      "source": [
        ""
      ],
      "execution_count": null,
      "outputs": []
    },
    {
      "cell_type": "code",
      "metadata": {
        "id": "EL7sr0t71ITH"
      },
      "source": [
        ""
      ],
      "execution_count": null,
      "outputs": []
    },
    {
      "cell_type": "code",
      "metadata": {
        "id": "M1wEyYWD1IKj"
      },
      "source": [
        ""
      ],
      "execution_count": null,
      "outputs": []
    },
    {
      "cell_type": "code",
      "metadata": {
        "id": "mOVyGCmXtfDY"
      },
      "source": [
        ""
      ],
      "execution_count": null,
      "outputs": []
    }
  ]
}
