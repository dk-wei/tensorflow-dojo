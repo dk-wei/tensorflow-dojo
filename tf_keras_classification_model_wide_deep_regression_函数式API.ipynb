{
  "nbformat": 4,
  "nbformat_minor": 0,
  "metadata": {
    "colab": {
      "name": "tf_keras_classification_model_wide_deep_regression_函数式API.ipynb",
      "provenance": [],
      "collapsed_sections": [],
      "authorship_tag": "ABX9TyMN697RVO5Xo/4qxRjk/hvi",
      "include_colab_link": true
    },
    "kernelspec": {
      "name": "python3",
      "display_name": "Python 3"
    },
    "language_info": {
      "name": "python"
    },
    "accelerator": "GPU"
  },
  "cells": [
    {
      "cell_type": "markdown",
      "metadata": {
        "id": "view-in-github",
        "colab_type": "text"
      },
      "source": [
        "<a href=\"https://colab.research.google.com/github/dk-wei/tensorflow-dojo/blob/main/tf_keras_classification_model_wide_deep_regression_%E5%87%BD%E6%95%B0%E5%BC%8FAPI.ipynb\" target=\"_parent\"><img src=\"https://colab.research.google.com/assets/colab-badge.svg\" alt=\"Open In Colab\"/></a>"
      ]
    },
    {
      "cell_type": "code",
      "metadata": {
        "colab": {
          "base_uri": "https://localhost:8080/"
        },
        "id": "bn2j7A0PzEtJ",
        "outputId": "d310e486-e87a-46a4-9efc-7b65f4d9e382"
      },
      "source": [
        "!pip install ipython-autotime\n",
        "%load_ext autotime"
      ],
      "execution_count": null,
      "outputs": [
        {
          "output_type": "stream",
          "text": [
            "Collecting ipython-autotime\n",
            "  Downloading ipython_autotime-0.3.1-py2.py3-none-any.whl (6.8 kB)\n",
            "Requirement already satisfied: ipython in /usr/local/lib/python3.7/dist-packages (from ipython-autotime) (5.5.0)\n",
            "Requirement already satisfied: traitlets>=4.2 in /usr/local/lib/python3.7/dist-packages (from ipython->ipython-autotime) (5.0.5)\n",
            "Requirement already satisfied: pickleshare in /usr/local/lib/python3.7/dist-packages (from ipython->ipython-autotime) (0.7.5)\n",
            "Requirement already satisfied: pygments in /usr/local/lib/python3.7/dist-packages (from ipython->ipython-autotime) (2.6.1)\n",
            "Requirement already satisfied: pexpect in /usr/local/lib/python3.7/dist-packages (from ipython->ipython-autotime) (4.8.0)\n",
            "Requirement already satisfied: setuptools>=18.5 in /usr/local/lib/python3.7/dist-packages (from ipython->ipython-autotime) (57.2.0)\n",
            "Requirement already satisfied: decorator in /usr/local/lib/python3.7/dist-packages (from ipython->ipython-autotime) (4.4.2)\n",
            "Requirement already satisfied: simplegeneric>0.8 in /usr/local/lib/python3.7/dist-packages (from ipython->ipython-autotime) (0.8.1)\n",
            "Requirement already satisfied: prompt-toolkit<2.0.0,>=1.0.4 in /usr/local/lib/python3.7/dist-packages (from ipython->ipython-autotime) (1.0.18)\n",
            "Requirement already satisfied: wcwidth in /usr/local/lib/python3.7/dist-packages (from prompt-toolkit<2.0.0,>=1.0.4->ipython->ipython-autotime) (0.2.5)\n",
            "Requirement already satisfied: six>=1.9.0 in /usr/local/lib/python3.7/dist-packages (from prompt-toolkit<2.0.0,>=1.0.4->ipython->ipython-autotime) (1.15.0)\n",
            "Requirement already satisfied: ipython-genutils in /usr/local/lib/python3.7/dist-packages (from traitlets>=4.2->ipython->ipython-autotime) (0.2.0)\n",
            "Requirement already satisfied: ptyprocess>=0.5 in /usr/local/lib/python3.7/dist-packages (from pexpect->ipython->ipython-autotime) (0.7.0)\n",
            "Installing collected packages: ipython-autotime\n",
            "Successfully installed ipython-autotime-0.3.1\n",
            "time: 1.92 ms (started: 2021-07-23 03:59:06 +00:00)\n"
          ],
          "name": "stdout"
        }
      ]
    },
    {
      "cell_type": "code",
      "metadata": {
        "colab": {
          "base_uri": "https://localhost:8080/"
        },
        "id": "Bk4bOw9ezArH",
        "outputId": "8f50f816-2d72-4c33-f5b2-9b4fc6149d31"
      },
      "source": [
        "import matplotlib as mpl\n",
        "import matplotlib.pyplot as plt\n",
        "%matplotlib inline\n",
        "import numpy as np\n",
        "import sklearn\n",
        "import pandas as pd\n",
        "import os\n",
        "import sys\n",
        "import time\n",
        "import tensorflow as tf\n",
        "\n",
        "from tensorflow import keras"
      ],
      "execution_count": null,
      "outputs": [
        {
          "output_type": "stream",
          "text": [
            "time: 2.16 s (started: 2021-07-23 03:59:06 +00:00)\n"
          ],
          "name": "stdout"
        }
      ]
    },
    {
      "cell_type": "code",
      "metadata": {
        "colab": {
          "base_uri": "https://localhost:8080/"
        },
        "id": "RoVE7iY9zCM3",
        "outputId": "1fa8e92d-4d3a-4ee2-fba2-57780431cea0"
      },
      "source": [
        "print(tf.__version__)\n",
        "print(sys.version_info)\n",
        "for module in mpl, np, pd, sklearn, tf, keras:\n",
        "    print(module.__name__, module.__version__)"
      ],
      "execution_count": null,
      "outputs": [
        {
          "output_type": "stream",
          "text": [
            "2.5.0\n",
            "sys.version_info(major=3, minor=7, micro=11, releaselevel='final', serial=0)\n",
            "matplotlib 3.2.2\n",
            "numpy 1.19.5\n",
            "pandas 1.1.5\n",
            "sklearn 0.22.2.post1\n",
            "tensorflow 2.5.0\n",
            "tensorflow.keras 2.5.0\n",
            "time: 3.31 ms (started: 2021-07-23 03:59:09 +00:00)\n"
          ],
          "name": "stdout"
        }
      ]
    },
    {
      "cell_type": "code",
      "metadata": {
        "colab": {
          "base_uri": "https://localhost:8080/"
        },
        "id": "T0jjDUifzIj6",
        "outputId": "1278288c-f29c-49cc-f635-0ba8f5aaae7f"
      },
      "source": [
        "from sklearn.datasets import fetch_california_housing\n",
        "\n",
        "housing = fetch_california_housing()\n",
        "print(housing.DESCR)\n",
        "print(housing.data.shape)\n",
        "print(housing.target.shape)"
      ],
      "execution_count": null,
      "outputs": [
        {
          "output_type": "stream",
          "text": [
            "Downloading Cal. housing from https://ndownloader.figshare.com/files/5976036 to /root/scikit_learn_data\n"
          ],
          "name": "stderr"
        },
        {
          "output_type": "stream",
          "text": [
            ".. _california_housing_dataset:\n",
            "\n",
            "California Housing dataset\n",
            "--------------------------\n",
            "\n",
            "**Data Set Characteristics:**\n",
            "\n",
            "    :Number of Instances: 20640\n",
            "\n",
            "    :Number of Attributes: 8 numeric, predictive attributes and the target\n",
            "\n",
            "    :Attribute Information:\n",
            "        - MedInc        median income in block\n",
            "        - HouseAge      median house age in block\n",
            "        - AveRooms      average number of rooms\n",
            "        - AveBedrms     average number of bedrooms\n",
            "        - Population    block population\n",
            "        - AveOccup      average house occupancy\n",
            "        - Latitude      house block latitude\n",
            "        - Longitude     house block longitude\n",
            "\n",
            "    :Missing Attribute Values: None\n",
            "\n",
            "This dataset was obtained from the StatLib repository.\n",
            "http://lib.stat.cmu.edu/datasets/\n",
            "\n",
            "The target variable is the median house value for California districts.\n",
            "\n",
            "This dataset was derived from the 1990 U.S. census, using one row per census\n",
            "block group. A block group is the smallest geographical unit for which the U.S.\n",
            "Census Bureau publishes sample data (a block group typically has a population\n",
            "of 600 to 3,000 people).\n",
            "\n",
            "It can be downloaded/loaded using the\n",
            ":func:`sklearn.datasets.fetch_california_housing` function.\n",
            "\n",
            ".. topic:: References\n",
            "\n",
            "    - Pace, R. Kelley and Ronald Barry, Sparse Spatial Autoregressions,\n",
            "      Statistics and Probability Letters, 33 (1997) 291-297\n",
            "\n",
            "(20640, 8)\n",
            "(20640,)\n",
            "time: 2.44 s (started: 2021-07-23 03:59:09 +00:00)\n"
          ],
          "name": "stdout"
        }
      ]
    },
    {
      "cell_type": "code",
      "metadata": {
        "colab": {
          "base_uri": "https://localhost:8080/"
        },
        "id": "mdgKRxbazIhA",
        "outputId": "e2ce5889-0449-45e9-9400-1b9e38a18b48"
      },
      "source": [
        "from sklearn.model_selection import train_test_split\n",
        "\n",
        "x_train_all, x_test, y_train_all, y_test = train_test_split(\n",
        "    housing.data, housing.target, random_state = 7)\n",
        "\n",
        "x_train, x_valid, y_train, y_valid = train_test_split(\n",
        "    x_train_all, y_train_all, random_state = 11)\n",
        "\n",
        "print(x_train.shape, y_train.shape)\n",
        "print(x_valid.shape, y_valid.shape)\n",
        "print(x_test.shape, y_test.shape)"
      ],
      "execution_count": null,
      "outputs": [
        {
          "output_type": "stream",
          "text": [
            "(11610, 8) (11610,)\n",
            "(3870, 8) (3870,)\n",
            "(5160, 8) (5160,)\n",
            "time: 48.6 ms (started: 2021-07-23 03:59:11 +00:00)\n"
          ],
          "name": "stdout"
        }
      ]
    },
    {
      "cell_type": "code",
      "metadata": {
        "colab": {
          "base_uri": "https://localhost:8080/"
        },
        "id": "IREB9lbZzId0",
        "outputId": "89da98da-293a-438d-c9c8-473ea9592ae7"
      },
      "source": [
        "from sklearn.preprocessing import StandardScaler\n",
        "\n",
        "scaler = StandardScaler()\n",
        "x_train_scaled = scaler.fit_transform(x_train)\n",
        "x_valid_scaled = scaler.transform(x_valid)\n",
        "x_test_scaled = scaler.transform(x_test)"
      ],
      "execution_count": null,
      "outputs": [
        {
          "output_type": "stream",
          "text": [
            "time: 9.94 ms (started: 2021-07-23 03:59:11 +00:00)\n"
          ],
          "name": "stdout"
        }
      ]
    },
    {
      "cell_type": "code",
      "metadata": {
        "colab": {
          "base_uri": "https://localhost:8080/"
        },
        "id": "c5iDncqUzIbY",
        "outputId": "8f4e06fb-7029-48b8-b4b1-4143788d0096"
      },
      "source": [
        "# 多输出\n",
        "\n",
        "# 函数式API\n",
        "input_wide = keras.layers.Input(shape=[5])\n",
        "input_deep = keras.layers.Input(shape=[6])\n",
        "hidden1 = keras.layers.Dense(30, activation='relu')(input_deep)\n",
        "hidden2 = keras.layers.Dense(30, activation='relu')(hidden1)\n",
        "concat = keras.layers.concatenate([input_wide, hidden2])\n",
        "output = keras.layers.Dense(1)(concat)\n",
        "output2 = keras.layers.Dense(1)(hidden2)\n",
        "\n",
        "# 最后需要用Model类固定为一个model\n",
        "model = keras.models.Model(inputs = [input_wide, input_deep],\n",
        "                         outputs = [output, output2])\n",
        "\n",
        "model.summary()\n",
        "\n",
        "model.compile(loss='mean_squared_error', \n",
        "              optimizer='adam'\n",
        "              )"
      ],
      "execution_count": null,
      "outputs": [
        {
          "output_type": "stream",
          "text": [
            "Model: \"model\"\n",
            "__________________________________________________________________________________________________\n",
            "Layer (type)                    Output Shape         Param #     Connected to                     \n",
            "==================================================================================================\n",
            "input_2 (InputLayer)            [(None, 6)]          0                                            \n",
            "__________________________________________________________________________________________________\n",
            "dense (Dense)                   (None, 30)           210         input_2[0][0]                    \n",
            "__________________________________________________________________________________________________\n",
            "input_1 (InputLayer)            [(None, 5)]          0                                            \n",
            "__________________________________________________________________________________________________\n",
            "dense_1 (Dense)                 (None, 30)           930         dense[0][0]                      \n",
            "__________________________________________________________________________________________________\n",
            "concatenate (Concatenate)       (None, 35)           0           input_1[0][0]                    \n",
            "                                                                 dense_1[0][0]                    \n",
            "__________________________________________________________________________________________________\n",
            "dense_2 (Dense)                 (None, 1)            36          concatenate[0][0]                \n",
            "__________________________________________________________________________________________________\n",
            "dense_3 (Dense)                 (None, 1)            31          dense_1[0][0]                    \n",
            "==================================================================================================\n",
            "Total params: 1,207\n",
            "Trainable params: 1,207\n",
            "Non-trainable params: 0\n",
            "__________________________________________________________________________________________________\n",
            "time: 6.04 s (started: 2021-07-23 03:59:11 +00:00)\n"
          ],
          "name": "stdout"
        }
      ]
    },
    {
      "cell_type": "code",
      "metadata": {
        "colab": {
          "base_uri": "https://localhost:8080/",
          "height": 550
        },
        "id": "noditFjEhRML",
        "outputId": "7645e862-3304-473d-b4e2-3eb241f0f3d8"
      },
      "source": [
        "keras.utils.plot_model(model, \n",
        "                       show_shapes=True, \n",
        "                       #rankdir=\"LR\"\n",
        "                       )"
      ],
      "execution_count": null,
      "outputs": [
        {
          "output_type": "execute_result",
          "data": {
            "image/png": "[encoded data removed]",
            "text/plain": [
              "<IPython.core.display.Image object>"
            ]
          },
          "metadata": {
            "tags": []
          },
          "execution_count": 11
        },
        {
          "output_type": "stream",
          "text": [
            "time: 339 ms (started: 2021-07-23 04:00:00 +00:00)\n"
          ],
          "name": "stdout"
        }
      ]
    },
    {
      "cell_type": "code",
      "metadata": {
        "colab": {
          "base_uri": "https://localhost:8080/"
        },
        "id": "l_U4La7yzIYK",
        "outputId": "758de16b-6a0a-4efa-a4ca-fda4703517d2"
      },
      "source": [
        "x_train_scaled_wide = x_train_scaled[:, :5]\n",
        "x_train_scaled_deep = x_train_scaled[:, 2:]\n",
        "x_valid_scaled_wide = x_valid_scaled[:, :5]\n",
        "x_valid_scaled_deep = x_valid_scaled[:, 2:]\n",
        "x_test_scaled_wide = x_test_scaled[:, :5]\n",
        "x_test_scaled_deep = x_test_scaled[:, 2:]\n",
        "\n",
        "\n",
        "callbacks = [\n",
        "    keras.callbacks.EarlyStopping(patience=5, min_delta=1e-2)\n",
        "]\n",
        "\n",
        "history = model.fit([x_train_scaled_wide, x_train_scaled_deep], \n",
        "                    [y_train, y_train],  # 根据认为的不同，这两个y_train不应该是一样的\n",
        "                    validation_data=([x_valid_scaled_wide, x_valid_scaled_deep], [y_valid, y_valid]),\n",
        "                    epochs=100,\n",
        "                    callbacks=callbacks\n",
        "                    )"
      ],
      "execution_count": null,
      "outputs": [
        {
          "output_type": "stream",
          "text": [
            "Epoch 1/100\n",
            "363/363 [==============================] - 5s 4ms/step - loss: 2.8560 - dense_2_loss: 1.3026 - dense_3_loss: 1.5534 - val_loss: 1.3604 - val_dense_2_loss: 0.6149 - val_dense_3_loss: 0.7455\n",
            "Epoch 2/100\n",
            "363/363 [==============================] - 1s 4ms/step - loss: 1.0882 - dense_2_loss: 0.4783 - dense_3_loss: 0.6100 - val_loss: 1.0525 - val_dense_2_loss: 0.4537 - val_dense_3_loss: 0.5988\n",
            "Epoch 3/100\n",
            "363/363 [==============================] - 1s 4ms/step - loss: 0.9743 - dense_2_loss: 0.4186 - dense_3_loss: 0.5557 - val_loss: 0.9767 - val_dense_2_loss: 0.4226 - val_dense_3_loss: 0.5541\n",
            "Epoch 4/100\n",
            "363/363 [==============================] - 1s 3ms/step - loss: 0.9263 - dense_2_loss: 0.4005 - dense_3_loss: 0.5258 - val_loss: 0.9285 - val_dense_2_loss: 0.4058 - val_dense_3_loss: 0.5227\n",
            "Epoch 5/100\n",
            "363/363 [==============================] - 1s 4ms/step - loss: 0.8876 - dense_2_loss: 0.3866 - dense_3_loss: 0.5010 - val_loss: 0.8942 - val_dense_2_loss: 0.3933 - val_dense_3_loss: 0.5009\n",
            "Epoch 6/100\n",
            "363/363 [==============================] - 1s 4ms/step - loss: 0.8650 - dense_2_loss: 0.3803 - dense_3_loss: 0.4847 - val_loss: 0.8713 - val_dense_2_loss: 0.3876 - val_dense_3_loss: 0.4837\n",
            "Epoch 7/100\n",
            "363/363 [==============================] - 1s 4ms/step - loss: 0.8434 - dense_2_loss: 0.3741 - dense_3_loss: 0.4693 - val_loss: 0.8590 - val_dense_2_loss: 0.3803 - val_dense_3_loss: 0.4787\n",
            "Epoch 8/100\n",
            "363/363 [==============================] - 1s 3ms/step - loss: 0.8158 - dense_2_loss: 0.3630 - dense_3_loss: 0.4527 - val_loss: 0.8152 - val_dense_2_loss: 0.3654 - val_dense_3_loss: 0.4498\n",
            "Epoch 9/100\n",
            "363/363 [==============================] - 1s 4ms/step - loss: 0.7999 - dense_2_loss: 0.3589 - dense_3_loss: 0.4410 - val_loss: 0.8124 - val_dense_2_loss: 0.3721 - val_dense_3_loss: 0.4402\n",
            "Epoch 10/100\n",
            "363/363 [==============================] - 1s 4ms/step - loss: 0.7944 - dense_2_loss: 0.3572 - dense_3_loss: 0.4372 - val_loss: 0.7955 - val_dense_2_loss: 0.3599 - val_dense_3_loss: 0.4357\n",
            "Epoch 11/100\n",
            "363/363 [==============================] - 1s 4ms/step - loss: 0.7667 - dense_2_loss: 0.3480 - dense_3_loss: 0.4186 - val_loss: 0.7801 - val_dense_2_loss: 0.3575 - val_dense_3_loss: 0.4226\n",
            "Epoch 12/100\n",
            "363/363 [==============================] - 1s 4ms/step - loss: 0.7618 - dense_2_loss: 0.3462 - dense_3_loss: 0.4156 - val_loss: 0.7733 - val_dense_2_loss: 0.3537 - val_dense_3_loss: 0.4196\n",
            "Epoch 13/100\n",
            "363/363 [==============================] - 1s 4ms/step - loss: 0.7515 - dense_2_loss: 0.3429 - dense_3_loss: 0.4086 - val_loss: 0.7656 - val_dense_2_loss: 0.3476 - val_dense_3_loss: 0.4180\n",
            "Epoch 14/100\n",
            "363/363 [==============================] - 1s 4ms/step - loss: 0.7509 - dense_2_loss: 0.3481 - dense_3_loss: 0.4028 - val_loss: 0.7618 - val_dense_2_loss: 0.3514 - val_dense_3_loss: 0.4103\n",
            "Epoch 15/100\n",
            "363/363 [==============================] - 1s 4ms/step - loss: 0.7401 - dense_2_loss: 0.3410 - dense_3_loss: 0.3991 - val_loss: 0.7441 - val_dense_2_loss: 0.3437 - val_dense_3_loss: 0.4005\n",
            "Epoch 16/100\n",
            "363/363 [==============================] - 1s 4ms/step - loss: 0.7396 - dense_2_loss: 0.3380 - dense_3_loss: 0.4016 - val_loss: 0.7645 - val_dense_2_loss: 0.3473 - val_dense_3_loss: 0.4172\n",
            "Epoch 17/100\n",
            "363/363 [==============================] - 1s 3ms/step - loss: 0.7184 - dense_2_loss: 0.3306 - dense_3_loss: 0.3878 - val_loss: 0.7372 - val_dense_2_loss: 0.3405 - val_dense_3_loss: 0.3967\n",
            "Epoch 18/100\n",
            "363/363 [==============================] - 1s 4ms/step - loss: 0.7198 - dense_2_loss: 0.3320 - dense_3_loss: 0.3878 - val_loss: 0.7325 - val_dense_2_loss: 0.3374 - val_dense_3_loss: 0.3951\n",
            "Epoch 19/100\n",
            "363/363 [==============================] - 1s 3ms/step - loss: 0.7154 - dense_2_loss: 0.3283 - dense_3_loss: 0.3872 - val_loss: 0.7275 - val_dense_2_loss: 0.3334 - val_dense_3_loss: 0.3941\n",
            "Epoch 20/100\n",
            "363/363 [==============================] - 1s 4ms/step - loss: 0.7022 - dense_2_loss: 0.3228 - dense_3_loss: 0.3794 - val_loss: 0.7645 - val_dense_2_loss: 0.3493 - val_dense_3_loss: 0.4152\n",
            "Epoch 21/100\n",
            "363/363 [==============================] - 1s 3ms/step - loss: 0.7023 - dense_2_loss: 0.3238 - dense_3_loss: 0.3785 - val_loss: 0.7115 - val_dense_2_loss: 0.3264 - val_dense_3_loss: 0.3851\n",
            "Epoch 22/100\n",
            "363/363 [==============================] - 1s 4ms/step - loss: 0.7044 - dense_2_loss: 0.3240 - dense_3_loss: 0.3803 - val_loss: 0.7157 - val_dense_2_loss: 0.3267 - val_dense_3_loss: 0.3890\n",
            "Epoch 23/100\n",
            "363/363 [==============================] - 1s 3ms/step - loss: 0.6908 - dense_2_loss: 0.3184 - dense_3_loss: 0.3724 - val_loss: 0.7078 - val_dense_2_loss: 0.3259 - val_dense_3_loss: 0.3819\n",
            "Epoch 24/100\n",
            "363/363 [==============================] - 1s 3ms/step - loss: 0.6855 - dense_2_loss: 0.3160 - dense_3_loss: 0.3695 - val_loss: 0.7167 - val_dense_2_loss: 0.3286 - val_dense_3_loss: 0.3881\n",
            "Epoch 25/100\n",
            "363/363 [==============================] - 1s 3ms/step - loss: 0.6889 - dense_2_loss: 0.3180 - dense_3_loss: 0.3708 - val_loss: 0.7156 - val_dense_2_loss: 0.3280 - val_dense_3_loss: 0.3876\n",
            "Epoch 26/100\n",
            "363/363 [==============================] - 1s 3ms/step - loss: 0.6946 - dense_2_loss: 0.3215 - dense_3_loss: 0.3731 - val_loss: 0.7067 - val_dense_2_loss: 0.3218 - val_dense_3_loss: 0.3849\n",
            "time: 38.2 s (started: 2021-07-23 03:59:17 +00:00)\n"
          ],
          "name": "stdout"
        }
      ]
    },
    {
      "cell_type": "code",
      "metadata": {
        "colab": {
          "base_uri": "https://localhost:8080/",
          "height": 341
        },
        "id": "M8hSLa8kzIVT",
        "outputId": "4b3c14dd-5172-490a-e8ee-3569dfe6f1e6"
      },
      "source": [
        "def plot_learning_curves(history):\n",
        "    pd.DataFrame(history.history).plot(figsize=(8,5))\n",
        "    plt.grid(True)\n",
        "    plt.gca().set_ylim(0, 1)\n",
        "    plt.show()\n",
        "    \n",
        "plot_learning_curves(history)"
      ],
      "execution_count": null,
      "outputs": [
        {
          "output_type": "display_data",
          "data": {
            "image/png": "[encoded data removed]",
            "text/plain": [
              "<Figure size 576x360 with 1 Axes>"
            ]
          },
          "metadata": {
            "tags": [],
            "needs_background": "light"
          }
        },
        {
          "output_type": "stream",
          "text": [
            "time: 3.71 s (started: 2021-07-23 03:59:55 +00:00)\n"
          ],
          "name": "stdout"
        }
      ]
    },
    {
      "cell_type": "code",
      "metadata": {
        "colab": {
          "base_uri": "https://localhost:8080/"
        },
        "id": "-lTt9Q-hzISx",
        "outputId": "1f2e06ee-b56e-4d8c-a206-a93d1622d49b"
      },
      "source": [
        "model.evaluate([x_test_scaled_wide, x_test_scaled_deep], [y_test, y_test])"
      ],
      "execution_count": null,
      "outputs": [
        {
          "output_type": "stream",
          "text": [
            "162/162 [==============================] - 0s 2ms/step - loss: 0.7039 - dense_2_loss: 0.3306 - dense_3_loss: 0.3733\n"
          ],
          "name": "stdout"
        },
        {
          "output_type": "execute_result",
          "data": {
            "text/plain": [
              "[0.7039321064949036, 0.3306354284286499, 0.37329667806625366]"
            ]
          },
          "metadata": {
            "tags": []
          },
          "execution_count": 10
        },
        {
          "output_type": "stream",
          "text": [
            "time: 802 ms (started: 2021-07-23 03:59:59 +00:00)\n"
          ],
          "name": "stdout"
        }
      ]
    },
    {
      "cell_type": "code",
      "metadata": {
        "id": "BPqRQkzAzIPu"
      },
      "source": [
        ""
      ],
      "execution_count": null,
      "outputs": []
    },
    {
      "cell_type": "code",
      "metadata": {
        "id": "KtmCjBTvzINI"
      },
      "source": [
        ""
      ],
      "execution_count": null,
      "outputs": []
    },
    {
      "cell_type": "code",
      "metadata": {
        "id": "l_3X1NyNzIKD"
      },
      "source": [
        ""
      ],
      "execution_count": null,
      "outputs": []
    },
    {
      "cell_type": "code",
      "metadata": {
        "id": "QeA0jIGyzIG7"
      },
      "source": [
        ""
      ],
      "execution_count": null,
      "outputs": []
    },
    {
      "cell_type": "code",
      "metadata": {
        "id": "NfkWfbxqzHML"
      },
      "source": [
        ""
      ],
      "execution_count": null,
      "outputs": []
    }
  ]
}