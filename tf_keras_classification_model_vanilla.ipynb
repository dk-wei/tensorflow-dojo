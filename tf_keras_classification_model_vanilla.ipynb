{
  "nbformat": 4,
  "nbformat_minor": 0,
  "metadata": {
    "colab": {
      "name": "tf_keras_classification_model_vanilla.ipynb",
      "provenance": [],
      "collapsed_sections": [],
      "toc_visible": true,
      "authorship_tag": "ABX9TyM/tL21fOKSosFUq3pHcNM4",
      "include_colab_link": true
    },
    "kernelspec": {
      "name": "python3",
      "display_name": "Python 3"
    },
    "language_info": {
      "name": "python"
    },
    "accelerator": "GPU"
  },
  "cells": [
    {
      "cell_type": "markdown",
      "metadata": {
        "id": "view-in-github",
        "colab_type": "text"
      },
      "source": [
        "<a href=\"https://colab.research.google.com/github/dk-wei/tensorflow-dojo/blob/main/tf_keras_classification_model_vanilla.ipynb\" target=\"_parent\"><img src=\"https://colab.research.google.com/assets/colab-badge.svg\" alt=\"Open In Colab\"/></a>"
      ]
    },
    {
      "cell_type": "markdown",
      "metadata": {
        "id": "n-wB5AB-662b"
      },
      "source": [
        "# Load Dependency"
      ]
    },
    {
      "cell_type": "code",
      "metadata": {
        "id": "j9_xxYOkzMeF",
        "colab": {
          "base_uri": "https://localhost:8080/"
        },
        "outputId": "e0548e19-cdb6-43fb-f1a1-d0f8488213e3"
      },
      "source": [
        "!pip install ipython-autotime\n",
        "%load_ext autotime"
      ],
      "execution_count": null,
      "outputs": [
        {
          "output_type": "stream",
          "text": [
            "Requirement already satisfied: ipython-autotime in /usr/local/lib/python3.7/dist-packages (0.3.1)\n",
            "Requirement already satisfied: ipython in /usr/local/lib/python3.7/dist-packages (from ipython-autotime) (5.5.0)\n",
            "Requirement already satisfied: setuptools>=18.5 in /usr/local/lib/python3.7/dist-packages (from ipython->ipython-autotime) (57.2.0)\n",
            "Requirement already satisfied: prompt-toolkit<2.0.0,>=1.0.4 in /usr/local/lib/python3.7/dist-packages (from ipython->ipython-autotime) (1.0.18)\n",
            "Requirement already satisfied: traitlets>=4.2 in /usr/local/lib/python3.7/dist-packages (from ipython->ipython-autotime) (5.0.5)\n",
            "Requirement already satisfied: pexpect in /usr/local/lib/python3.7/dist-packages (from ipython->ipython-autotime) (4.8.0)\n",
            "Requirement already satisfied: decorator in /usr/local/lib/python3.7/dist-packages (from ipython->ipython-autotime) (4.4.2)\n",
            "Requirement already satisfied: simplegeneric>0.8 in /usr/local/lib/python3.7/dist-packages (from ipython->ipython-autotime) (0.8.1)\n",
            "Requirement already satisfied: pickleshare in /usr/local/lib/python3.7/dist-packages (from ipython->ipython-autotime) (0.7.5)\n",
            "Requirement already satisfied: pygments in /usr/local/lib/python3.7/dist-packages (from ipython->ipython-autotime) (2.6.1)\n",
            "Requirement already satisfied: six>=1.9.0 in /usr/local/lib/python3.7/dist-packages (from prompt-toolkit<2.0.0,>=1.0.4->ipython->ipython-autotime) (1.15.0)\n",
            "Requirement already satisfied: wcwidth in /usr/local/lib/python3.7/dist-packages (from prompt-toolkit<2.0.0,>=1.0.4->ipython->ipython-autotime) (0.2.5)\n",
            "Requirement already satisfied: ipython-genutils in /usr/local/lib/python3.7/dist-packages (from traitlets>=4.2->ipython->ipython-autotime) (0.2.0)\n",
            "Requirement already satisfied: ptyprocess>=0.5 in /usr/local/lib/python3.7/dist-packages (from pexpect->ipython->ipython-autotime) (0.7.0)\n",
            "The autotime extension is already loaded. To reload it, use:\n",
            "  %reload_ext autotime\n",
            "time: 2.78 s (started: 2021-07-22 22:39:23 +00:00)\n"
          ],
          "name": "stdout"
        }
      ]
    },
    {
      "cell_type": "code",
      "metadata": {
        "id": "N9_j2_oBYXXt",
        "colab": {
          "base_uri": "https://localhost:8080/"
        },
        "outputId": "5a984bde-a47a-4c04-dbef-7f2e30d4c2e2"
      },
      "source": [
        "import matplotlib as mpl\n",
        "import matplotlib.pyplot as plt\n",
        "%matplotlib inline\n",
        "\n",
        "import numpy as np\n",
        "import sklearn\n",
        "import pandas as pd\n",
        "import os\n",
        "import sys\n",
        "import time\n",
        "import tensorflow as tf\n",
        "\n",
        "from tensorflow import keras\n",
        "%load_ext tensorboard"
      ],
      "execution_count": null,
      "outputs": [
        {
          "output_type": "stream",
          "text": [
            "The tensorboard extension is already loaded. To reload it, use:\n",
            "  %reload_ext tensorboard\n",
            "time: 6.09 ms (started: 2021-07-22 22:39:26 +00:00)\n"
          ],
          "name": "stdout"
        }
      ]
    },
    {
      "cell_type": "code",
      "metadata": {
        "colab": {
          "base_uri": "https://localhost:8080/"
        },
        "id": "zgpZVslUYnCk",
        "outputId": "6aecb4e7-5ad4-474a-9063-fe034076470a"
      },
      "source": [
        "print(tf.__version__)\n",
        "print(sys.version_info)\n",
        "for module in mpl, np, pd, sklearn, tf, keras:\n",
        "    print(module.__name__, module.__version__)"
      ],
      "execution_count": null,
      "outputs": [
        {
          "output_type": "stream",
          "text": [
            "2.5.0\n",
            "sys.version_info(major=3, minor=7, micro=11, releaselevel='final', serial=0)\n",
            "matplotlib 3.2.2\n",
            "numpy 1.19.5\n",
            "pandas 1.1.5\n",
            "sklearn 0.22.2.post1\n",
            "tensorflow 2.5.0\n",
            "tensorflow.keras 2.5.0\n",
            "time: 2.88 ms (started: 2021-07-22 22:39:26 +00:00)\n"
          ],
          "name": "stdout"
        }
      ]
    },
    {
      "cell_type": "markdown",
      "metadata": {
        "id": "RqHI4c4S6-vU"
      },
      "source": [
        "# Load and preview Data"
      ]
    },
    {
      "cell_type": "code",
      "metadata": {
        "colab": {
          "base_uri": "https://localhost:8080/"
        },
        "id": "TRIIOrkHYm-N",
        "outputId": "abc85747-391a-4934-e2a7-663933500760"
      },
      "source": [
        "fashion_mnist = keras.datasets.fashion_mnist\n",
        "(x_train_all, y_train_all), (x_test, y_test) = fashion_mnist.load_data()\n",
        "\n",
        "x_train_all = x_train_all / 255.0\n",
        "x_test = x_test / 255.0\n",
        "\n",
        "# 从training set拆分出val set\n",
        "x_valid, x_train = x_train_all[:5000], x_train_all[5000:]\n",
        "y_valid, y_train = y_train_all[:5000], y_train_all[5000:]\n",
        "\n",
        "print(x_valid.shape, y_valid.shape)\n",
        "print(x_train.shape, y_train.shape)\n",
        "print(x_test.shape, y_test.shape)"
      ],
      "execution_count": null,
      "outputs": [
        {
          "output_type": "stream",
          "text": [
            "(5000, 28, 28) (5000,)\n",
            "(55000, 28, 28) (55000,)\n",
            "(10000, 28, 28) (10000,)\n",
            "time: 615 ms (started: 2021-07-22 22:39:26 +00:00)\n"
          ],
          "name": "stdout"
        }
      ]
    },
    {
      "cell_type": "code",
      "metadata": {
        "colab": {
          "base_uri": "https://localhost:8080/"
        },
        "id": "64DTHjPeAQNZ",
        "outputId": "b7ce025a-e0e8-4115-adbc-d8cb0d71379a"
      },
      "source": [
        "#x_train[0]"
      ],
      "execution_count": null,
      "outputs": [
        {
          "output_type": "stream",
          "text": [
            "time: 1.11 ms (started: 2021-07-22 22:39:26 +00:00)\n"
          ],
          "name": "stdout"
        }
      ]
    },
    {
      "cell_type": "code",
      "metadata": {
        "colab": {
          "base_uri": "https://localhost:8080/"
        },
        "id": "k8ypoRaW_GVp",
        "outputId": "c80a9dc5-4ecb-4f48-9ef0-57c611546313"
      },
      "source": [
        "print(np.max(x_train), np.min(x_train))"
      ],
      "execution_count": null,
      "outputs": [
        {
          "output_type": "stream",
          "text": [
            "1.0 0.0\n",
            "time: 65.1 ms (started: 2021-07-22 22:39:26 +00:00)\n"
          ],
          "name": "stdout"
        }
      ]
    },
    {
      "cell_type": "markdown",
      "metadata": {
        "id": "eWDagnpy-o8k"
      },
      "source": [
        "## Standardization 数据归一化/标准化\n",
        "\n",
        "training, val和testing都需要归一化，但是都是以training的mean，std为基准\n",
        "\n",
        "下面会用到`Batch Normalization`，就是layers每一层都会要normalization一次"
      ]
    },
    {
      "cell_type": "code",
      "metadata": {
        "colab": {
          "base_uri": "https://localhost:8080/"
        },
        "id": "1j-gBSWA7eTo",
        "outputId": "b873ec0e-0097-4d5b-b617-6df0b706133f"
      },
      "source": [
        "# x = (x-u) / std\n",
        "\n",
        "from sklearn.preprocessing import StandardScaler\n",
        "\n",
        "scaler = StandardScaler()\n",
        "\n",
        "# x_train: [None, 28, 28] -> [None, 784] -> transform ->  [None, 28, 28]\n",
        "# 每张图片先flatten到一维，归一化，再转回二维\n",
        "x_train_scaled = scaler.fit_transform(\n",
        "    x_train.astype(np.float32).reshape(-1, 1)\n",
        ").reshape(-1, 28, 28)   \n",
        "\n",
        "# val和testing set直接用training set的均值和方差，所以不用fit_transform, 直接fit\n",
        "x_valid_scaled = scaler.transform(\n",
        "    x_valid.astype(np.float32).reshape(-1, 1)\n",
        ").reshape(-1, 28, 28)\n",
        "\n",
        "x_test_scaled = scaler.transform(\n",
        "    x_test.astype(np.float32).reshape(-1, 1)\n",
        ").reshape(-1, 28, 28)"
      ],
      "execution_count": null,
      "outputs": [
        {
          "output_type": "stream",
          "text": [
            "time: 854 ms (started: 2021-07-22 22:39:26 +00:00)\n"
          ],
          "name": "stdout"
        }
      ]
    },
    {
      "cell_type": "code",
      "metadata": {
        "colab": {
          "base_uri": "https://localhost:8080/"
        },
        "id": "fFIUdiQp_Pzv",
        "outputId": "d334b21a-255d-4ece-fcbe-d6878498e83a"
      },
      "source": [
        "print(np.max(x_train_scaled), np.min(x_train_scaled))"
      ],
      "execution_count": null,
      "outputs": [
        {
          "output_type": "stream",
          "text": [
            "2.0231433 -0.8105137\n",
            "time: 42.6 ms (started: 2021-07-22 22:39:27 +00:00)\n"
          ],
          "name": "stdout"
        }
      ]
    },
    {
      "cell_type": "code",
      "metadata": {
        "colab": {
          "base_uri": "https://localhost:8080/"
        },
        "id": "TB5WOm7VYm6X",
        "outputId": "f272151e-1408-4c8d-fa5a-8668534f25b9"
      },
      "source": [
        "# 只有一个通道的28*28黑白图片\n",
        "x_train[0].shape"
      ],
      "execution_count": null,
      "outputs": [
        {
          "output_type": "execute_result",
          "data": {
            "text/plain": [
              "(28, 28)"
            ]
          },
          "metadata": {
            "tags": []
          },
          "execution_count": 130
        },
        {
          "output_type": "stream",
          "text": [
            "time: 5.2 ms (started: 2021-07-22 22:39:27 +00:00)\n"
          ],
          "name": "stdout"
        }
      ]
    },
    {
      "cell_type": "code",
      "metadata": {
        "id": "Pbx6lUx7Ym1t",
        "colab": {
          "base_uri": "https://localhost:8080/"
        },
        "outputId": "ce654530-c35c-4314-82ce-2dfe653fcd86"
      },
      "source": [
        "#x_train[0]"
      ],
      "execution_count": null,
      "outputs": [
        {
          "output_type": "stream",
          "text": [
            "time: 1.23 ms (started: 2021-07-22 22:39:27 +00:00)\n"
          ],
          "name": "stdout"
        }
      ]
    },
    {
      "cell_type": "code",
      "metadata": {
        "id": "93jgwj1KqvFw",
        "colab": {
          "base_uri": "https://localhost:8080/"
        },
        "outputId": "31b4a1bb-5fd7-42b6-b8fc-df1baaa3968b"
      },
      "source": [
        "#y_train"
      ],
      "execution_count": null,
      "outputs": [
        {
          "output_type": "stream",
          "text": [
            "time: 1.15 ms (started: 2021-07-22 22:39:27 +00:00)\n"
          ],
          "name": "stdout"
        }
      ]
    },
    {
      "cell_type": "code",
      "metadata": {
        "colab": {
          "base_uri": "https://localhost:8080/",
          "height": 282
        },
        "id": "ZtZ_QXmVbbSm",
        "outputId": "ec8d5882-10b0-4623-94dd-ea05edaf1e58"
      },
      "source": [
        "def show_single_image(img_arr):\n",
        "\n",
        "  # imshow可以直接打印图片\n",
        "  plt.imshow(img_arr, cmap= 'binary', interpolation='nearest')\n",
        "  plt.show()\n",
        "\n",
        "show_single_image(x_train[0])"
      ],
      "execution_count": null,
      "outputs": [
        {
          "output_type": "display_data",
          "data": {
            "image/png": "[encoded data removed]",
            "text/plain": [
              "<Figure size 432x288 with 1 Axes>"
            ]
          },
          "metadata": {
            "tags": [],
            "needs_background": "light"
          }
        },
        {
          "output_type": "stream",
          "text": [
            "time: 179 ms (started: 2021-07-22 22:39:27 +00:00)\n"
          ],
          "name": "stdout"
        }
      ]
    },
    {
      "cell_type": "code",
      "metadata": {
        "colab": {
          "base_uri": "https://localhost:8080/",
          "height": 315
        },
        "id": "tLCGspiaYmvm",
        "outputId": "4a6eb0cc-fa57-42e8-9597-baade2dd56af"
      },
      "source": [
        "def show_imgs(n_rows, n_cols, x_data, y_data, class_names):\n",
        "    assert len(x_data) == len(y_data)\n",
        "    assert n_rows * n_cols < len(x_data)\n",
        "    \n",
        "    plt.figure(figsize=(n_cols * 1.4, n_rows * 1.6))\n",
        "    for row in range(n_rows):\n",
        "        for col in range(n_cols):\n",
        "            index = n_cols * row + col + 1\n",
        "            plt.subplot(n_rows, n_cols, index)\n",
        "            plt.imshow(x_data[index], cmap='binary', interpolation='nearest')\n",
        "            plt.axis('off')\n",
        "            plt.title(class_names[y_data[index]])\n",
        "    plt.show()\n",
        "    \n",
        "class_names = ['T-shirt', 'Trouser', 'Pullover', 'Dress', 'Coat', 'Sandal',\n",
        "               'Shirt', 'Sneaker', 'Bag', 'Ankle boot']\n",
        "show_imgs(3, 5, x_train, y_train, class_names)"
      ],
      "execution_count": null,
      "outputs": [
        {
          "output_type": "display_data",
          "data": {
            "image/png": "[encoded data removed]",
            "text/plain": [
              "<Figure size 504x345.6 with 15 Axes>"
            ]
          },
          "metadata": {
            "tags": [],
            "needs_background": "light"
          }
        },
        {
          "output_type": "stream",
          "text": [
            "time: 496 ms (started: 2021-07-22 22:39:27 +00:00)\n"
          ],
          "name": "stdout"
        }
      ]
    },
    {
      "cell_type": "code",
      "metadata": {
        "id": "tyx_YL8zjzic",
        "colab": {
          "base_uri": "https://localhost:8080/"
        },
        "outputId": "ac88b7b9-79a9-4048-ff89-5f05d84ed0d3"
      },
      "source": [
        "# model = tf.keras.Sequential()\n",
        "# model.add(tf.keras.layers.Flatten(input_shape=[28,28]))\n",
        "# model.output_shape"
      ],
      "execution_count": null,
      "outputs": [
        {
          "output_type": "stream",
          "text": [
            "time: 2.74 ms (started: 2021-07-22 22:39:28 +00:00)\n"
          ],
          "name": "stdout"
        }
      ]
    },
    {
      "cell_type": "markdown",
      "metadata": {
        "id": "elEV47XD7H-r"
      },
      "source": [
        "# Training"
      ]
    },
    {
      "cell_type": "code",
      "metadata": {
        "id": "IRMX4ORcqn9q",
        "colab": {
          "base_uri": "https://localhost:8080/"
        },
        "outputId": "37f36bb0-0d37-4973-e7c8-81d5e2d79201"
      },
      "source": [
        "from keras import backend as K\n",
        "\n",
        "def recall_m(y_true, y_pred):\n",
        "    true_positives = K.sum(K.round(K.clip(y_true * y_pred, 0, 1)))\n",
        "    possible_positives = K.sum(K.round(K.clip(y_true, 0, 1)))\n",
        "    recall = true_positives / (possible_positives + K.epsilon())\n",
        "    return recall\n",
        "\n",
        "def precision_m(y_true, y_pred):\n",
        "    true_positives = K.sum(K.round(K.clip(y_true * y_pred, 0, 1)))\n",
        "    predicted_positives = K.sum(K.round(K.clip(y_pred, 0, 1)))\n",
        "    precision = true_positives / (predicted_positives + K.epsilon())\n",
        "    return precision\n",
        "\n",
        "def f1_m(y_true, y_pred):\n",
        "    precision = precision_m(y_true, y_pred)\n",
        "    recall = recall_m(y_true, y_pred)\n",
        "    return 2*((precision*recall)/(precision+recall+K.epsilon()))"
      ],
      "execution_count": null,
      "outputs": [
        {
          "output_type": "stream",
          "text": [
            "time: 17.1 ms (started: 2021-07-22 22:39:28 +00:00)\n"
          ],
          "name": "stdout"
        }
      ]
    },
    {
      "cell_type": "code",
      "metadata": {
        "id": "qzd1XYA6Ymry",
        "colab": {
          "base_uri": "https://localhost:8080/"
        },
        "outputId": "3b54662a-3d0a-40e0-dec2-09f42227da8e"
      },
      "source": [
        "# tf.keras.Sequential()\n",
        "\n",
        "'''\n",
        "model = keras.models.Sequential()\n",
        "model.add(keras.layers.Flatten(input_shape=[28,28]))\n",
        "model.add(keras.layers.Dense(300, activation='relu'))\n",
        "model.add(keras.layers.Dense(100, activation='relu'))\n",
        "model.add(keras.layers.Dense(10, activation='softmax'))\n",
        "'''\n",
        "\n",
        "model = keras.models.Sequential([\n",
        "     \n",
        "    keras.layers.Flatten(input_shape=[28,28]),    # 将28*28input压扁成一维向量1*728\n",
        "    keras.layers.Dense(300, activation='relu'),\n",
        "    keras.layers.Dense(100, activation='relu'),\n",
        "    keras.layers.Dense(10, activation='softmax')  # 最后一层输出为1*10的向量 \n",
        "\n",
        "])\n",
        "\n",
        "# relu: y = max(0, x)\n",
        "# softmax: 将向量变成概率分布. x = [x1, x2, x3]\n",
        "#          y = [e^x1/sum, e^x2/sum, e^x3/sum], sum = e^x1 + e^x2 + e^x3\n",
        "\n",
        "# reason for sparse: y->index. y->one_hot->[]\n",
        "model.compile(loss='sparse_categorical_crossentropy',    # 之所以使用sparse_categorical_crossentropy是因为我们的y是[1, 2]这样的向量，而不是one hot，但是我们的模型输出是[[0.05, 0.95, 0], [0.1, 0.8, 0.1]]这样的one hot\n",
        "              #optimizer='sgd',\n",
        "              optimizer = 'adam',\n",
        "              metrics=['accuracy', \n",
        "                       f1_m, \n",
        "                       precision_m, \n",
        "                       recall_m\n",
        "                       ]\n",
        "              )"
      ],
      "execution_count": null,
      "outputs": [
        {
          "output_type": "stream",
          "text": [
            "time: 51.5 ms (started: 2021-07-22 22:39:28 +00:00)\n"
          ],
          "name": "stdout"
        }
      ]
    },
    {
      "cell_type": "code",
      "metadata": {
        "colab": {
          "base_uri": "https://localhost:8080/"
        },
        "id": "ZxEKhzY7YmoU",
        "outputId": "75be670d-2c3e-47f3-c47c-19354da6fef4"
      },
      "source": [
        "model.layers"
      ],
      "execution_count": null,
      "outputs": [
        {
          "output_type": "execute_result",
          "data": {
            "text/plain": [
              "[<tensorflow.python.keras.layers.core.Flatten at 0x7f3362d7c510>,\n",
              " <tensorflow.python.keras.layers.core.Dense at 0x7f3362d7cc50>,\n",
              " <tensorflow.python.keras.layers.core.Dense at 0x7f3362c0ea10>,\n",
              " <tensorflow.python.keras.layers.core.Dense at 0x7f33d36d8890>]"
            ]
          },
          "metadata": {
            "tags": []
          },
          "execution_count": 138
        },
        {
          "output_type": "stream",
          "text": [
            "time: 4.07 ms (started: 2021-07-22 22:39:28 +00:00)\n"
          ],
          "name": "stdout"
        }
      ]
    },
    {
      "cell_type": "code",
      "metadata": {
        "colab": {
          "base_uri": "https://localhost:8080/"
        },
        "id": "KsMNDQ-2Ymld",
        "outputId": "6bc5a899-4d9b-4922-80a1-050e5cfbc90d"
      },
      "source": [
        "model.summary()"
      ],
      "execution_count": null,
      "outputs": [
        {
          "output_type": "stream",
          "text": [
            "Model: \"sequential_2\"\n",
            "_________________________________________________________________\n",
            "Layer (type)                 Output Shape              Param #   \n",
            "=================================================================\n",
            "flatten_2 (Flatten)          (None, 784)               0         \n",
            "_________________________________________________________________\n",
            "dense_6 (Dense)              (None, 300)               235500    \n",
            "_________________________________________________________________\n",
            "dense_7 (Dense)              (None, 100)               30100     \n",
            "_________________________________________________________________\n",
            "dense_8 (Dense)              (None, 10)                1010      \n",
            "=================================================================\n",
            "Total params: 266,610\n",
            "Trainable params: 266,610\n",
            "Non-trainable params: 0\n",
            "_________________________________________________________________\n",
            "time: 6.38 ms (started: 2021-07-22 22:39:28 +00:00)\n"
          ],
          "name": "stdout"
        }
      ]
    },
    {
      "cell_type": "code",
      "metadata": {
        "colab": {
          "base_uri": "https://localhost:8080/"
        },
        "id": "c5z0RbklxTqn",
        "outputId": "e30aecc4-2bfa-489f-a0be-657cdd4aad8a"
      },
      "source": [
        "# 参数量w, b的由来\n",
        "# [None, 784] * W + b -> [None, 300]\n",
        "# W.shape = [784 * 300], b.shape = [300]\n",
        "\n",
        "784*300+300"
      ],
      "execution_count": null,
      "outputs": [
        {
          "output_type": "execute_result",
          "data": {
            "text/plain": [
              "235500"
            ]
          },
          "metadata": {
            "tags": []
          },
          "execution_count": 140
        },
        {
          "output_type": "stream",
          "text": [
            "time: 10 ms (started: 2021-07-22 22:39:28 +00:00)\n"
          ],
          "name": "stdout"
        }
      ]
    },
    {
      "cell_type": "code",
      "metadata": {
        "colab": {
          "base_uri": "https://localhost:8080/",
          "height": 550
        },
        "id": "rd5HybUmYmiz",
        "outputId": "5e7b53e9-af8d-4427-a108-6f5852f21ca4"
      },
      "source": [
        "keras.utils.plot_model(model, \n",
        "                       show_shapes=True, \n",
        "                       #rankdir=\"LR\"\n",
        "                       )"
      ],
      "execution_count": null,
      "outputs": [
        {
          "output_type": "execute_result",
          "data": {
            "image/png": "[encoded data removed]",
            "text/plain": [
              "<IPython.core.display.Image object>"
            ]
          },
          "metadata": {
            "tags": []
          },
          "execution_count": 141
        },
        {
          "output_type": "stream",
          "text": [
            "time: 143 ms (started: 2021-07-22 22:39:28 +00:00)\n"
          ],
          "name": "stdout"
        }
      ]
    },
    {
      "cell_type": "markdown",
      "metadata": {
        "id": "QgA95kFvFbK7"
      },
      "source": [
        "## Callbacks\n",
        "\n",
        "Callbacks主要是训练模型途中的一些自动化操作，最常用的一些callbacks有：\n",
        "1. tensorboard  即时显示训练情况  \n",
        "2. earlystopping 早停法\n",
        "3. modelcheckpoint  保存(最优)模型\n",
        "\n",
        "运行TensorBoard的方法：\n",
        "在有`callbacks`文件的目录下运行\n",
        "\n",
        "\n",
        "    tenforboard --logdir=callbacks"
      ]
    },
    {
      "cell_type": "code",
      "metadata": {
        "colab": {
          "base_uri": "https://localhost:8080/"
        },
        "id": "scVTiQh2YmE4",
        "outputId": "fc11292a-e9ed-4bc9-de29-33ea2f8425c2"
      },
      "source": [
        "# 结果一般都是保存着history这个变量里面\n",
        "# 加入三种最常用的callbacks：tensorboard，earlystopping，modelcheckpoint\n",
        "\n",
        "logdir = '/content/callbacks'\n",
        "if not os.path.exists(logdir):\n",
        "  os.mkdir(logdir)\n",
        "\n",
        "output_model_file = os.path.join(logdir, \n",
        "                                 \"fashion_mnist_model.h5\")\n",
        "\n",
        "callbacks = [\n",
        "             keras.callbacks.TensorBoard(logdir),  # 将TensorBoard文件存在callbacks folder\n",
        "             keras.callbacks.ModelCheckpoint(output_model_file,   # 将模型存在h5 file\n",
        "                                             save_best_only = True),\n",
        "             keras.callbacks.EarlyStopping(patience = 5,  # 设置早停\n",
        "                                           min_delta = 1e-3 \n",
        "             )\n",
        "             \n",
        "]\n",
        "\n",
        "history = model.fit(\n",
        "    x_train_scaled, \n",
        "    y_train, \n",
        "    epochs=10, \n",
        "    validation_data=(x_valid_scaled, y_valid),\n",
        "    callbacks = callbacks,\n",
        "    verbose=1   # 'auto', 0, 1, or 2. Verbosity mode. 0 = silent, 1 = progress bar, 2 = one line per epoch.\n",
        "    )"
      ],
      "execution_count": null,
      "outputs": [
        {
          "output_type": "stream",
          "text": [
            "Epoch 1/10\n",
            "1719/1719 [==============================] - 8s 4ms/step - loss: 0.4612 - accuracy: 0.8327 - f1_m: 1.4052 - precision_m: 1.4526 - recall_m: 1.4159 - val_loss: 0.3798 - val_accuracy: 0.8630 - val_f1_m: 1.2952 - val_precision_m: 1.2698 - val_recall_m: 1.3250\n",
            "Epoch 2/10\n",
            "1719/1719 [==============================] - 7s 4ms/step - loss: 0.3545 - accuracy: 0.8680 - f1_m: 1.2926 - precision_m: 1.2640 - recall_m: 1.3261 - val_loss: 0.3388 - val_accuracy: 0.8800 - val_f1_m: 1.2616 - val_precision_m: 1.2414 - val_recall_m: 1.2852\n",
            "Epoch 3/10\n",
            "1719/1719 [==============================] - 7s 4ms/step - loss: 0.3179 - accuracy: 0.8819 - f1_m: 1.2547 - precision_m: 1.2218 - recall_m: 1.2927 - val_loss: 0.3477 - val_accuracy: 0.8706 - val_f1_m: 1.2435 - val_precision_m: 1.2137 - val_recall_m: 1.2779\n",
            "Epoch 4/10\n",
            "1719/1719 [==============================] - 7s 4ms/step - loss: 0.2921 - accuracy: 0.8911 - f1_m: 1.2275 - precision_m: 1.1910 - recall_m: 1.2693 - val_loss: 0.3542 - val_accuracy: 0.8742 - val_f1_m: 1.2512 - val_precision_m: 1.2219 - val_recall_m: 1.2848\n",
            "Epoch 5/10\n",
            "1719/1719 [==============================] - 7s 4ms/step - loss: 0.2722 - accuracy: 0.8978 - f1_m: 1.2043 - precision_m: 1.1656 - recall_m: 1.2486 - val_loss: 0.3432 - val_accuracy: 0.8798 - val_f1_m: 1.2091 - val_precision_m: 1.1734 - val_recall_m: 1.2496\n",
            "Epoch 6/10\n",
            "1719/1719 [==============================] - 7s 4ms/step - loss: 0.2559 - accuracy: 0.9044 - f1_m: 1.1911 - precision_m: 1.1501 - recall_m: 1.2379 - val_loss: 0.3090 - val_accuracy: 0.8954 - val_f1_m: 1.1891 - val_precision_m: 1.1536 - val_recall_m: 1.2295\n",
            "Epoch 7/10\n",
            "1719/1719 [==============================] - 6s 4ms/step - loss: 0.2437 - accuracy: 0.9082 - f1_m: 1.1772 - precision_m: 1.1352 - recall_m: 1.2253 - val_loss: 0.3081 - val_accuracy: 0.8966 - val_f1_m: 1.1739 - val_precision_m: 1.1364 - val_recall_m: 1.2163\n",
            "Epoch 8/10\n",
            "1719/1719 [==============================] - 7s 4ms/step - loss: 0.2272 - accuracy: 0.9139 - f1_m: 1.1624 - precision_m: 1.1194 - recall_m: 1.2117 - val_loss: 0.3362 - val_accuracy: 0.8856 - val_f1_m: 1.1936 - val_precision_m: 1.1572 - val_recall_m: 1.2350\n",
            "Epoch 9/10\n",
            "1719/1719 [==============================] - 7s 4ms/step - loss: 0.2173 - accuracy: 0.9170 - f1_m: 1.1536 - precision_m: 1.1099 - recall_m: 1.2038 - val_loss: 0.3222 - val_accuracy: 0.8946 - val_f1_m: 1.1366 - val_precision_m: 1.0980 - val_recall_m: 1.1806\n",
            "Epoch 10/10\n",
            "1719/1719 [==============================] - 7s 4ms/step - loss: 0.2063 - accuracy: 0.9226 - f1_m: 1.1390 - precision_m: 1.0943 - recall_m: 1.1901 - val_loss: 0.3336 - val_accuracy: 0.8938 - val_f1_m: 1.1504 - val_precision_m: 1.1119 - val_recall_m: 1.1940\n",
            "time: 1min 8s (started: 2021-07-22 22:39:28 +00:00)\n"
          ],
          "name": "stdout"
        }
      ]
    },
    {
      "cell_type": "code",
      "metadata": {
        "colab": {
          "base_uri": "https://localhost:8080/"
        },
        "id": "mUcwxApVIouh",
        "outputId": "d1236a86-dfe6-424c-d6b0-e163999c5a88"
      },
      "source": [
        "ls"
      ],
      "execution_count": null,
      "outputs": [
        {
          "output_type": "stream",
          "text": [
            "\u001b[0m\u001b[01;34mcallbacks\u001b[0m/  model.png  \u001b[01;34msample_data\u001b[0m/\n",
            "time: 159 ms (started: 2021-07-22 22:40:37 +00:00)\n"
          ],
          "name": "stdout"
        }
      ]
    },
    {
      "cell_type": "code",
      "metadata": {
        "colab": {
          "base_uri": "https://localhost:8080/"
        },
        "id": "_G7ddGRLH-8t",
        "outputId": "724d70c5-7626-471e-e6b6-4b8199ec5f8e"
      },
      "source": [
        "# 启动tensorboard\n",
        "\n",
        "#%tensorboard --logdir=callbacks"
      ],
      "execution_count": null,
      "outputs": [
        {
          "output_type": "stream",
          "text": [
            "time: 1.67 ms (started: 2021-07-22 22:40:37 +00:00)\n"
          ],
          "name": "stdout"
        }
      ]
    },
    {
      "cell_type": "code",
      "metadata": {
        "id": "nQlPDeAYap2E",
        "colab": {
          "base_uri": "https://localhost:8080/"
        },
        "outputId": "a863ec50-f1b2-4fc8-e635-e721c3c40bc1"
      },
      "source": [
        "type(history) # history其实是一个callback"
      ],
      "execution_count": null,
      "outputs": [
        {
          "output_type": "execute_result",
          "data": {
            "text/plain": [
              "tensorflow.python.keras.callbacks.History"
            ]
          },
          "metadata": {
            "tags": []
          },
          "execution_count": 145
        },
        {
          "output_type": "stream",
          "text": [
            "time: 6.64 ms (started: 2021-07-22 22:40:37 +00:00)\n"
          ],
          "name": "stdout"
        }
      ]
    },
    {
      "cell_type": "code",
      "metadata": {
        "id": "xwD0l65Capzf",
        "colab": {
          "base_uri": "https://localhost:8080/"
        },
        "outputId": "3445f67f-c2b5-4107-f3a8-aff8f065a558"
      },
      "source": [
        "history.epoch\n",
        "\n",
        "history.history.keys()"
      ],
      "execution_count": null,
      "outputs": [
        {
          "output_type": "execute_result",
          "data": {
            "text/plain": [
              "dict_keys(['loss', 'accuracy', 'f1_m', 'precision_m', 'recall_m', 'val_loss', 'val_accuracy', 'val_f1_m', 'val_precision_m', 'val_recall_m'])"
            ]
          },
          "metadata": {
            "tags": []
          },
          "execution_count": 146
        },
        {
          "output_type": "stream",
          "text": [
            "time: 6.33 ms (started: 2021-07-22 22:40:37 +00:00)\n"
          ],
          "name": "stdout"
        }
      ]
    },
    {
      "cell_type": "code",
      "metadata": {
        "colab": {
          "base_uri": "https://localhost:8080/"
        },
        "id": "ZVVUoHpr4kmR",
        "outputId": "52fcd167-2d22-4f56-9d6c-8ffe9566e352"
      },
      "source": [
        "history.history"
      ],
      "execution_count": null,
      "outputs": [
        {
          "output_type": "execute_result",
          "data": {
            "text/plain": [
              "{'accuracy': [0.8327272534370422,\n",
              "  0.8680363893508911,\n",
              "  0.8819090723991394,\n",
              "  0.8911454677581787,\n",
              "  0.8978182077407837,\n",
              "  0.9044363498687744,\n",
              "  0.9082182049751282,\n",
              "  0.9139272570610046,\n",
              "  0.9169999957084656,\n",
              "  0.9225999712944031],\n",
              " 'f1_m': [1.4052306413650513,\n",
              "  1.2925975322723389,\n",
              "  1.2546721696853638,\n",
              "  1.227461338043213,\n",
              "  1.2042847871780396,\n",
              "  1.1910597085952759,\n",
              "  1.1772072315216064,\n",
              "  1.1624103784561157,\n",
              "  1.1536099910736084,\n",
              "  1.1389849185943604],\n",
              " 'loss': [0.4611753225326538,\n",
              "  0.35448846220970154,\n",
              "  0.3178909420967102,\n",
              "  0.29209762811660767,\n",
              "  0.2722441852092743,\n",
              "  0.2559114992618561,\n",
              "  0.24371638894081116,\n",
              "  0.22724726796150208,\n",
              "  0.21732576191425323,\n",
              "  0.2062775194644928],\n",
              " 'precision_m': [1.4526435136795044,\n",
              "  1.2639986276626587,\n",
              "  1.2218360900878906,\n",
              "  1.1910390853881836,\n",
              "  1.165610432624817,\n",
              "  1.1501110792160034,\n",
              "  1.1351675987243652,\n",
              "  1.1194499731063843,\n",
              "  1.1098688840866089,\n",
              "  1.094285249710083],\n",
              " 'recall_m': [1.4159126281738281,\n",
              "  1.3261393308639526,\n",
              "  1.2927347421646118,\n",
              "  1.2693287134170532,\n",
              "  1.2486413717269897,\n",
              "  1.2379175424575806,\n",
              "  1.2253446578979492,\n",
              "  1.2116602659225464,\n",
              "  1.2037993669509888,\n",
              "  1.190079689025879],\n",
              " 'val_accuracy': [0.8629999756813049,\n",
              "  0.8799999952316284,\n",
              "  0.8705999851226807,\n",
              "  0.8741999864578247,\n",
              "  0.879800021648407,\n",
              "  0.8953999876976013,\n",
              "  0.8966000080108643,\n",
              "  0.8855999708175659,\n",
              "  0.894599974155426,\n",
              "  0.8938000202178955],\n",
              " 'val_f1_m': [1.29520583152771,\n",
              "  1.261592149734497,\n",
              "  1.243495225906372,\n",
              "  1.251214623451233,\n",
              "  1.2091143131256104,\n",
              "  1.1890846490859985,\n",
              "  1.1738841533660889,\n",
              "  1.1935651302337646,\n",
              "  1.1366058588027954,\n",
              "  1.1504021883010864],\n",
              " 'val_loss': [0.37977173924446106,\n",
              "  0.3387925624847412,\n",
              "  0.3477482795715332,\n",
              "  0.35421329736709595,\n",
              "  0.3431529998779297,\n",
              "  0.30900734663009644,\n",
              "  0.3080626130104065,\n",
              "  0.33622145652770996,\n",
              "  0.3222314715385437,\n",
              "  0.33361420035362244],\n",
              " 'val_precision_m': [1.2698049545288086,\n",
              "  1.2414168119430542,\n",
              "  1.2137229442596436,\n",
              "  1.2218819856643677,\n",
              "  1.1733585596084595,\n",
              "  1.1535810232162476,\n",
              "  1.1363825798034668,\n",
              "  1.1571669578552246,\n",
              "  1.0979585647583008,\n",
              "  1.1118783950805664],\n",
              " 'val_recall_m': [1.32499098777771,\n",
              "  1.2851779460906982,\n",
              "  1.2778517007827759,\n",
              "  1.284816861152649,\n",
              "  1.2496161460876465,\n",
              "  1.2294517755508423,\n",
              "  1.2162718772888184,\n",
              "  1.2349870204925537,\n",
              "  1.180564522743225,\n",
              "  1.194022536277771]}"
            ]
          },
          "metadata": {
            "tags": []
          },
          "execution_count": 147
        },
        {
          "output_type": "stream",
          "text": [
            "time: 10.2 ms (started: 2021-07-22 22:40:37 +00:00)\n"
          ],
          "name": "stdout"
        }
      ]
    },
    {
      "cell_type": "markdown",
      "metadata": {
        "id": "3AC35W7K7R7b"
      },
      "source": [
        "# Plot Validation "
      ]
    },
    {
      "cell_type": "code",
      "metadata": {
        "colab": {
          "base_uri": "https://localhost:8080/",
          "height": 341
        },
        "id": "r8F0Yy65A9l6",
        "outputId": "5e0c29bb-950f-4007-bdf9-b717f1b7ae1a"
      },
      "source": [
        "def plot_learning_curves(history):\n",
        "\n",
        "    # 选择需要plot的metrics，否则变量太多了\n",
        "    plot_metrics = {k:v for k,v in history.history.items() if k in ['loss', 'accuracy', 'val_loss', 'val_accuracy']}\n",
        "\n",
        "    pd.DataFrame(plot_metrics).plot(figsize=(8,5))\n",
        "    plt.grid(True)\n",
        "    plt.gca().set_ylim(0, 1)\n",
        "    plt.show()\n",
        "    \n",
        "plot_learning_curves(history)"
      ],
      "execution_count": null,
      "outputs": [
        {
          "output_type": "display_data",
          "data": {
            "image/png": "[encoded data removed]",
            "text/plain": [
              "<Figure size 576x360 with 1 Axes>"
            ]
          },
          "metadata": {
            "tags": [],
            "needs_background": "light"
          }
        },
        {
          "output_type": "stream",
          "text": [
            "time: 222 ms (started: 2021-07-22 22:40:37 +00:00)\n"
          ],
          "name": "stdout"
        }
      ]
    },
    {
      "cell_type": "code",
      "metadata": {
        "id": "spkNNjhOapwt",
        "colab": {
          "base_uri": "https://localhost:8080/"
        },
        "outputId": "b24f9a7c-01ae-4a5a-dbb6-cee4b211ef79"
      },
      "source": [
        " model.evaluate(x_test_scaled, y_test)"
      ],
      "execution_count": null,
      "outputs": [
        {
          "output_type": "stream",
          "text": [
            "313/313 [==============================] - 1s 3ms/step - loss: 0.3412 - accuracy: 0.8876 - f1_m: 1.1522 - precision_m: 1.1088 - recall_m: 1.2015\n"
          ],
          "name": "stdout"
        },
        {
          "output_type": "execute_result",
          "data": {
            "text/plain": [
              "[0.34120577573776245,\n",
              " 0.8876000046730042,\n",
              " 1.15218186378479,\n",
              " 1.1087666749954224,\n",
              " 1.201465368270874]"
            ]
          },
          "metadata": {
            "tags": []
          },
          "execution_count": 149
        },
        {
          "output_type": "stream",
          "text": [
            "time: 1.14 s (started: 2021-07-22 22:40:37 +00:00)\n"
          ],
          "name": "stdout"
        }
      ]
    },
    {
      "cell_type": "code",
      "metadata": {
        "id": "IgUjhC4iapts"
      },
      "source": [
        ""
      ],
      "execution_count": null,
      "outputs": []
    },
    {
      "cell_type": "code",
      "metadata": {
        "id": "A1qP3VCIapql"
      },
      "source": [
        ""
      ],
      "execution_count": null,
      "outputs": []
    },
    {
      "cell_type": "code",
      "metadata": {
        "id": "xM9gecY_aplY"
      },
      "source": [
        ""
      ],
      "execution_count": null,
      "outputs": []
    }
  ]
}